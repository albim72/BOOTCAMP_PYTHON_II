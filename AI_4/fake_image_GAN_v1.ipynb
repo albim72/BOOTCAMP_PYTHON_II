{
 "cells":[
  {
   "cell_type":"markdown",
   "source":[
    "Uczenie DCGAN na zbiorze MNIST (z użyciem Keras)\n",
    "Użyjemy sieci CNN\n",
    "Zbudujemy dwie sieci: Generator i Dyskryminator, gdzie jedna będzie tworzyć obrazy podobne do tych ze zbioru danych\n",
    "a druga sieć będzie weryfikować obrazy oryginalne i wygenerowane\n",
    "Na pewnym etapie sieć dyskryminująca podpowiada generatorowi jak tworzyć najlepsze podróbki obrazów!!!"
   ],
   "attachments":{
    
   },
   "metadata":{
    "datalore":{
     "node_id":"7u83c92BSRnk7IosCUuf4t",
     "type":"MD",
     "hide_input_from_viewers":true,
     "hide_output_from_viewers":true
    }
   }
  },
  {
   "cell_type":"code",
   "source":[
    "from __future__ import absolute_import\n",
    "from __future__ import division\n",
    "from __future__ import print_function"
   ],
   "execution_count":1,
   "outputs":[
    
   ],
   "metadata":{
    "datalore":{
     "node_id":"zgN2KdlvtmdOc2lO8Prn5D",
     "type":"CODE",
     "hide_input_from_viewers":true,
     "hide_output_from_viewers":true
    }
   }
  },
  {
   "cell_type":"code",
   "source":[
    "from tensorflow.keras.layers import Dense, Input, Activation\n",
    "from tensorflow.keras.layers import Conv2D, Flatten\n",
    "from tensorflow.keras.layers import Reshape, Conv2DTranspose\n",
    "from tensorflow.keras.models import Model\n",
    "from tensorflow.keras.layers import LeakyReLU\n",
    "from tensorflow.keras.layers import BatchNormalization\n",
    "from tensorflow.keras.models import load_model\n",
    "from tensorflow.keras.optimizers import RMSprop\n",
    "from tensorflow.keras.datasets import mnist"
   ],
   "execution_count":2,
   "outputs":[
    
   ],
   "metadata":{
    "datalore":{
     "node_id":"AMttIK65MGd5BugYNCzcIy",
     "type":"CODE",
     "hide_input_from_viewers":true,
     "hide_output_from_viewers":true
    }
   }
  },
  {
   "cell_type":"code",
   "source":[
    "import numpy as np\n",
    "import os\n",
    "import matplotlib.pyplot as plt\n",
    "import math\n",
    "import argparse"
   ],
   "execution_count":3,
   "outputs":[
    
   ],
   "metadata":{
    "datalore":{
     "node_id":"ZcjCYMzjkPdlkwkbTrqZ6v",
     "type":"CODE",
     "hide_input_from_viewers":true,
     "hide_output_from_viewers":true
    }
   }
  },
  {
   "cell_type":"code",
   "source":[
    "#funkcja budująca sieć generator\n",
    "def build_generator(inputs,image_size):\n",
    "    \"\"\"\n",
    "    Stos warstw BN-Relu-Conv2DTranspose do generowania fałszywych obrazów.\n",
    "    wyjściowa funkcja aktywacji: sigmoid \/ta fukcja łatwiej osiąga zbieżność niż tanh\/\n",
    "    ARGUMENTY:\n",
    "    inputs -> warstwa wejściowa - wektor z\n",
    "    image_size (tensor) -> zakładamy kształ kwadratu\n",
    "    ZWRACA:\n",
    "    generator -> model generatora\n",
    "    \"\"\"\n",
    "\n",
    "    #parametry sieci\n",
    "    image_resize = image_size\/\/4\n",
    "    kernel_size = 5\n",
    "    layer_filters = [128,64,32,1]\n",
    "\n",
    "    x = Dense((image_resize**2)*layer_filters[0])(inputs)\n",
    "    x = Reshape((image_resize,image_resize,layer_filters[0]))(x)\n",
    "\n",
    "    for filters in layer_filters:\n",
    "        if filters>layer_filters[-2]:\n",
    "            strides = 2\n",
    "        else:\n",
    "            strides = 1\n",
    "        x = BatchNormalization()(x)\n",
    "        x = Activation('relu')(x)\n",
    "        x = Conv2DTranspose(filters=filters,\n",
    "                            kernel_size=kernel_size,\n",
    "                            strides=strides,\n",
    "                            padding='same')(x)\n",
    "    x = Activation('sigmoid')(x)\n",
    "    generator = Model(inputs,x,name='generator')\n",
    "    return generator"
   ],
   "execution_count":4,
   "outputs":[
    
   ],
   "metadata":{
    "datalore":{
     "node_id":"KvUkP6ee0kwjE1pbYec2FJ",
     "type":"CODE",
     "hide_input_from_viewers":true,
     "hide_output_from_viewers":true
    }
   }
  },
  {
   "cell_type":"code",
   "source":[
    "#konstruowanie modelu dyskryminatora\n",
    "def build_discriminator(inputs):\n",
    "    \"\"\"\n",
    "    Stos warstw LeakyRelLU-Conv2D do odróżniania obrazów prawdziwych.\n",
    "    Rezygnacja z BN -> brak osiągnięcia zbieżności\n",
    "    ARGUMENTY:\n",
    "    inputs -> warstwa wejściowa dyskryminatora\n",
    "    ZWRACA:\n",
    "    dyskryminator -> model dyskryminatora\n",
    "    \"\"\"\n",
    "    kernel_size = 5\n",
    "    layer_filters = [32,64,128,256]\n",
    "\n",
    "    x = inputs\n",
    "    for filters in layer_filters:\n",
    "        if filters == layer_filters[-1]:\n",
    "            strides = 1\n",
    "        else:\n",
    "            strides = 2\n",
    "        x = LeakyReLU(alpha=0.2)(x)\n",
    "        x = Conv2D(filters=filters,\n",
    "                   kernel_size=kernel_size,\n",
    "                   strides=strides,\n",
    "                   padding='same')(x)\n",
    "    x = Flatten()(x)\n",
    "    x = Dense(1)(x)\n",
    "    x = Activation('sigmoid')(x)\n",
    "    discriminator = Model(inputs,x,name='discriminator')\n",
    "    return discriminator"
   ],
   "execution_count":5,
   "outputs":[
    
   ],
   "metadata":{
    "datalore":{
     "node_id":"w6tqddWAuWT1sPtYwYUc2x",
     "type":"CODE",
     "hide_input_from_viewers":true,
     "hide_output_from_viewers":true
    }
   }
  }
 ],
 "metadata":{
  "kernelspec":{
   "display_name":"Python",
   "language":"python",
   "name":"python"
  },
  "datalore":{
   "computation_mode":"JUPYTER",
   "package_manager":"pip",
   "base_environment":"default",
   "packages":[
    
   ],
   "report_row_ids":[
    
   ],
   "version":3
  }
 },
 "nbformat":4,
 "nbformat_minor":4
}