{
 "cells":[
  {
   "cell_type":"markdown",
   "source":[
    "Uczenie DCGAN na zbiorze MNIST (z użyciem Keras)\n",
    "Użyjemy sieci CNN\n",
    "Zbudujemy dwie sieci: Generator i Dyskryminator, gdzie jedna będzie tworzyć obrazy podobne do tych ze zbioru danych\n",
    "a druga sieć będzie weryfikować obrazy oryginalne i wygenerowane\n",
    "Na pewnym etapie sieć dyskryminująca podpowiada generatorowi jak tworzyć najlepsze podróbki obrazów!!!"
   ],
   "attachments":{
    
   },
   "metadata":{
    "datalore":{
     "node_id":"7u83c92BSRnk7IosCUuf4t",
     "type":"MD",
     "hide_input_from_viewers":true,
     "hide_output_from_viewers":true
    }
   }
  },
  {
   "cell_type":"code",
   "source":[
    "from __future__ import absolute_import\n",
    "from __future__ import division\n",
    "from __future__ import print_function"
   ],
   "execution_count":1,
   "outputs":[
    
   ],
   "metadata":{
    "datalore":{
     "node_id":"zgN2KdlvtmdOc2lO8Prn5D",
     "type":"CODE",
     "hide_input_from_viewers":true,
     "hide_output_from_viewers":true
    }
   }
  },
  {
   "cell_type":"code",
   "source":[
    "from tensorflow.keras.layers import Dense, Input, Activation\n",
    "from tensorflow.keras.layers import Conv2D, Flatten\n",
    "from tensorflow.keras.layers import Reshape, Conv2DTranspose\n",
    "from tensorflow.keras.models import Model\n",
    "from tensorflow.keras.layers import LeakyReLU\n",
    "from tensorflow.keras.layers import BatchNormalization\n",
    "from tensorflow.keras.models import load_model\n",
    "from tensorflow.keras.optimizers import RMSprop\n",
    "from tensorflow.keras.datasets import mnist"
   ],
   "execution_count":2,
   "outputs":[
    
   ],
   "metadata":{
    "datalore":{
     "node_id":"AMttIK65MGd5BugYNCzcIy",
     "type":"CODE",
     "hide_input_from_viewers":true,
     "hide_output_from_viewers":true
    }
   }
  },
  {
   "cell_type":"code",
   "source":[
    "import numpy as np\n",
    "import os\n",
    "import matplotlib.pyplot as plt\n",
    "import math\n",
    "import argparse"
   ],
   "execution_count":3,
   "outputs":[
    
   ],
   "metadata":{
    "datalore":{
     "node_id":"ZcjCYMzjkPdlkwkbTrqZ6v",
     "type":"CODE",
     "hide_input_from_viewers":true,
     "hide_output_from_viewers":true
    }
   }
  },
  {
   "cell_type":"code",
   "source":[
    "#funkcja budująca sieć generator\n",
    "def build_generator(inputs,image_size):\n",
    "    \"\"\"\n",
    "    Stos warstw BN-Relu-Conv2DTranspose do generowania fałszywych obrazów.\n",
    "    wyjściowa funkcja aktywacji: sigmoid \/ta fukcja łatwiej osiąga zbieżność niż tanh\/\n",
    "    ARGUMENTY:\n",
    "    inputs -> warstwa wejściowa - wektor z\n",
    "    image_size (tensor) -> zakładamy kształ kwadratu\n",
    "    ZWRACA:\n",
    "    generator -> model generatora\n",
    "    \"\"\"\n",
    "\n",
    "    #parametry sieci\n",
    "    image_resize = image_size\/\/4\n",
    "    kernel_size = 5\n",
    "    layer_filters = [128,64,32,1]\n",
    "\n",
    "    x = Dense((image_resize**2)*layer_filters[0])(inputs)\n",
    "    x = Reshape((image_resize,image_resize,layer_filters[0]))(x)\n",
    "\n",
    "    for filters in layer_filters:\n",
    "        if filters>layer_filters[-2]:\n",
    "            strides = 2\n",
    "        else:\n",
    "            strides = 1\n",
    "        x = BatchNormalization()(x)\n",
    "        x = Activation('relu')(x)\n",
    "        x = Conv2DTranspose(filters=filters,\n",
    "                            kernel_size=kernel_size,\n",
    "                            strides=strides,\n",
    "                            padding='same')(x)\n",
    "    x = Activation('sigmoid')(x)\n",
    "    generator = Model(inputs,x,name='generator')\n",
    "    return generator"
   ],
   "execution_count":4,
   "outputs":[
    
   ],
   "metadata":{
    "datalore":{
     "node_id":"KvUkP6ee0kwjE1pbYec2FJ",
     "type":"CODE",
     "hide_input_from_viewers":true,
     "hide_output_from_viewers":true
    }
   }
  },
  {
   "cell_type":"code",
   "source":[
    "#konstruowanie modelu dyskryminatora\n",
    "def build_discriminator(inputs):\n",
    "    \"\"\"\n",
    "    Stos warstw LeakyRelLU-Conv2D do odróżniania obrazów prawdziwych.\n",
    "    Rezygnacja z BN -> brak osiągnięcia zbieżności\n",
    "    ARGUMENTY:\n",
    "    inputs -> warstwa wejściowa dyskryminatora\n",
    "    ZWRACA:\n",
    "    dyskryminator -> model dyskryminatora\n",
    "    \"\"\"\n",
    "    kernel_size = 5\n",
    "    layer_filters = [32,64,128,256]\n",
    "\n",
    "    x = inputs\n",
    "    for filters in layer_filters:\n",
    "        if filters == layer_filters[-1]:\n",
    "            strides = 1\n",
    "        else:\n",
    "            strides = 2\n",
    "        x = LeakyReLU(alpha=0.2)(x)\n",
    "        x = Conv2D(filters=filters,\n",
    "                   kernel_size=kernel_size,\n",
    "                   strides=strides,\n",
    "                   padding='same')(x)\n",
    "    x = Flatten()(x)\n",
    "    x = Dense(1)(x)\n",
    "    x = Activation('sigmoid')(x)\n",
    "    discriminator = Model(inputs,x,name='discriminator')\n",
    "    return discriminator"
   ],
   "execution_count":5,
   "outputs":[
    
   ],
   "metadata":{
    "datalore":{
     "node_id":"w6tqddWAuWT1sPtYwYUc2x",
     "type":"CODE",
     "hide_input_from_viewers":true,
     "hide_output_from_viewers":true
    }
   }
  },
  {
   "cell_type":"code",
   "source":[
    "def plot_images(generator,\n",
    "                noise_input,\n",
    "                show=False,\n",
    "                step=0,\n",
    "                model_name='gan'):\n",
    "    \"\"\"\n",
    "    generowanie i wyświetlanie fałszywych obrazów (na kwadratowej siatce)\n",
    "    Argumenty:\n",
    "        generator -> model generatora\n",
    "        noise_input -> tablica wektorów z\n",
    "        show -> pokazywać czy nie!\n",
    "        step -> dodanie do nazwy pliku zapisywanego obrazu\n",
    "        model_name -> nazwa modelu\n",
    "    \"\"\"\n",
    "    os.makedirs(model_name,exist_ok=True)\n",
    "    filename = os.path.join(model_name,\"%5d.png\" %step)\n",
    "    images = generator.predict(noise_input)\n",
    "    plt.figure(figsize=(2.2,2.2))\n",
    "    num_images = images.shape[0]\n",
    "    image_size = images.shape[1]\n",
    "    rows = int(math.sqrt(noise_input.shape[0]))\n",
    "    for i in range(num_images):\n",
    "        plt.subplot(rows,rows,i+1)\n",
    "        image = np.reshape(images[i],[image_size,image_size])\n",
    "        plt.imshow(image,cmap='gray')\n",
    "        plt.axis('off')\n",
    "    plt.savefig(filename)\n",
    "    if show:\n",
    "        plt.show()\n",
    "    else:\n",
    "        plt.close('all')"
   ],
   "execution_count":6,
   "outputs":[
    
   ],
   "metadata":{
    "datalore":{
     "node_id":"GIblTuRqHRGvDBi900kj9d",
     "type":"CODE",
     "hide_input_from_viewers":true,
     "hide_output_from_viewers":true
    }
   }
  },
  {
   "cell_type":"code",
   "source":[
    "#funkcja trenująca dla obu sieci\n",
    "def train(models,x_train,params):\n",
    "    \"\"\"\n",
    "    uczenie naprzemienne sieci dyskryminatora i generatora na próbkach\n",
    "    1. Uczenie dyskryminatora na prawdziwych i fałszywych obrazach\n",
    "    2. Uczenie generatora\n",
    "    3. Generowanie przykładowych obrazów co pewien okres czasu \/save_interval\/\n",
    "\n",
    "    Argumenty:\n",
    "    models -> lista: generator, dyskryminator, model sieci\n",
    "    x_train -> obrazy uczące (tensor)\n",
    "    params: lista parametrów sieci\n",
    "    \"\"\"\n",
    "\n",
    "    #komponenty modelu GAN\n",
    "    generator, discriminator, adversarial = models\n",
    "\n",
    "    #parametry sieci\n",
    "    batch_size, latent_size, train_steps, model_name = params\n",
    "\n",
    "    #obrz generatora zapisywany co 500 kroków\n",
    "    save_interval = 500\n",
    "\n",
    "    #wektor szumu -> pozwala widzieć ewolucję wyjść generatora podczas uczenia\n",
    "    noise_input = np.random.uniform(-1.0,1.0,size=[16,latent_size])\n",
    "\n",
    "    #liczba elementów w zbiorze uczącym\n",
    "    train_size = x_train.shape[0]\n",
    "\n",
    "    for i in range(train_steps):\n",
    "        #uczenie się dyskrymonatora dla 1 próbki\n",
    "        # próbka: obrazy prawdziwe (etykieta 1.0), podrabiane (etykieta 0.0)\n",
    "        #obraz jest wybierany losowo ze zbioru\n",
    "        rand_indexes = np.random.randint(0,train_size,size=batch_size)\n",
    "        real_images = x_train[rand_indexes]\n",
    "        #generowanie fałszywych obrazów z szumu\n",
    "        #szum generowany z użyciem rozkładu jednostajnego\n",
    "        noise = np.random.uniform(-1.0,1.0,size=[batch_size,latent_size])\n",
    "        #generowanie fałszych obrazów\n",
    "        fake_images = generator.predict(noise)\n",
    "        #1 próbka danych uczących = obraz prawdziwy + obraz fałszywy\n",
    "        x = np.concatenate((real_images, fake_images))\n",
    "        y = np.ones([2*batch_size,1])\n",
    "        y[batch_size:,:] = 0.0\n",
    "        #uczenie dyskryminatora, zapis funkcji starty i dokładności\n",
    "        loss,acc = discriminator.train_on_batch(x,y)\n",
    "        log = \"%d: [Funkcja straty dyskryminatora: %f, dokładność: %f]\" % (i,loss,acc)\n",
    "        #uczenie sieci współzawodniczącej \/generator\/\n",
    "        #ponieważ wagi dyskrymiantora są \"zamrożone\" w sieci współzawodniczącej -> tylko generator podlega uczeniu\n",
    "        noise = np.random.uniform(-1.0,1.0,size=[batch_size,latent_size])\n",
    "        y = np.ones([batch_size,1])\n",
    "        #w przeciwieństwie do uczenia dyskryminatora fałszywe obrazy nie są zapisywane w zmiennej\n",
    "        #są one przesyłane od razu do dyskryminatora \/do klasyfikacji\/\n",
    "        loss,acc = adversarial.train_on_batch(noise,y)\n",
    "        log = \"%d: [Funkcja straty dyskryminatora: %f, dokładność: %f]\" % (i,loss,acc)\n",
    "        print(log)\n",
    "\n",
    "        #okresowy wydruk obrazów z generatora\n",
    "        if (i+1)%save_interval == 0:\n",
    "            plot_images(generator,\n",
    "                        noise_input=noise_input,\n",
    "                        show=False,\n",
    "                        step=(i+1),\n",
    "                        model_name=model_name)\n",
    "    generator.save(model_name + \".h5\")"
   ],
   "execution_count":7,
   "outputs":[
    
   ],
   "metadata":{
    "datalore":{
     "node_id":"pkwpFtYcuMkMUyTfZ58FYF",
     "type":"CODE",
     "hide_input_from_viewers":true,
     "hide_output_from_viewers":true
    }
   }
  }
 ],
 "metadata":{
  "kernelspec":{
   "display_name":"Python",
   "language":"python",
   "name":"python"
  },
  "datalore":{
   "computation_mode":"JUPYTER",
   "package_manager":"pip",
   "base_environment":"default",
   "packages":[
    
   ],
   "report_row_ids":[
    
   ],
   "version":3
  }
 },
 "nbformat":4,
 "nbformat_minor":4
}