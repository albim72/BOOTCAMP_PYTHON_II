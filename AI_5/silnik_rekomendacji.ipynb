{
 "cells":[
  {
   "cell_type":"code",
   "source":[
    "import pandas as pd\n",
    "import numpy as np\n",
    "import warnings\n",
    "import matplotlib.pyplot as plt\n",
    "import seaborn as sns\n",
    "%matplotlib inline\n",
    "warnings.filterwarnings('ignore')"
   ],
   "execution_count":1,
   "outputs":[
    
   ],
   "metadata":{
    "datalore":{
     "node_id":"Cq5racJPbCcHIYnAS1MRQ4",
     "type":"CODE",
     "hide_input_from_viewers":true,
     "hide_output_from_viewers":true
    }
   }
  },
  {
   "cell_type":"code",
   "source":[
    "df_reviews = pd.read_csv('reviews.csv')\n",
    "df_reviews.head()"
   ],
   "execution_count":2,
   "outputs":[
    {
     "data":{
      "text\/html":[
       "<div>\n",
       "<style scoped>\n",
       "    .dataframe tbody tr th:only-of-type {\n",
       "        vertical-align: middle;\n",
       "    }\n",
       "\n",
       "    .dataframe tbody tr th {\n",
       "        vertical-align: top;\n",
       "    }\n",
       "\n",
       "    .dataframe thead th {\n",
       "        text-align: right;\n",
       "    }\n",
       "<\/style>\n",
       "<table border=\"1\" class=\"dataframe\">\n",
       "  <thead>\n",
       "    <tr style=\"text-align: right;\">\n",
       "      <th><\/th>\n",
       "      <th>userId<\/th>\n",
       "      <th>movieId<\/th>\n",
       "      <th>rating<\/th>\n",
       "      <th>timestamp<\/th>\n",
       "    <\/tr>\n",
       "  <\/thead>\n",
       "  <tbody>\n",
       "    <tr>\n",
       "      <th>0<\/th>\n",
       "      <td>1<\/td>\n",
       "      <td>1<\/td>\n",
       "      <td>4.0<\/td>\n",
       "      <td>964982703<\/td>\n",
       "    <\/tr>\n",
       "    <tr>\n",
       "      <th>1<\/th>\n",
       "      <td>1<\/td>\n",
       "      <td>3<\/td>\n",
       "      <td>4.0<\/td>\n",
       "      <td>964981247<\/td>\n",
       "    <\/tr>\n",
       "    <tr>\n",
       "      <th>2<\/th>\n",
       "      <td>1<\/td>\n",
       "      <td>6<\/td>\n",
       "      <td>4.0<\/td>\n",
       "      <td>964982224<\/td>\n",
       "    <\/tr>\n",
       "    <tr>\n",
       "      <th>3<\/th>\n",
       "      <td>1<\/td>\n",
       "      <td>47<\/td>\n",
       "      <td>5.0<\/td>\n",
       "      <td>964983815<\/td>\n",
       "    <\/tr>\n",
       "    <tr>\n",
       "      <th>4<\/th>\n",
       "      <td>1<\/td>\n",
       "      <td>50<\/td>\n",
       "      <td>5.0<\/td>\n",
       "      <td>964982931<\/td>\n",
       "    <\/tr>\n",
       "  <\/tbody>\n",
       "<\/table>\n",
       "<\/div>"
      ]
     },
     "metadata":{
      
     },
     "output_type":"display_data"
    }
   ],
   "metadata":{
    "datalore":{
     "node_id":"BGuOkHgbjyLNuTZIBCUh5t",
     "type":"CODE",
     "hide_input_from_viewers":true,
     "hide_output_from_viewers":true
    }
   }
  },
  {
   "cell_type":"code",
   "source":[
    "df_reviews.describe()"
   ],
   "execution_count":3,
   "outputs":[
    {
     "data":{
      "text\/html":[
       "<div>\n",
       "<style scoped>\n",
       "    .dataframe tbody tr th:only-of-type {\n",
       "        vertical-align: middle;\n",
       "    }\n",
       "\n",
       "    .dataframe tbody tr th {\n",
       "        vertical-align: top;\n",
       "    }\n",
       "\n",
       "    .dataframe thead th {\n",
       "        text-align: right;\n",
       "    }\n",
       "<\/style>\n",
       "<table border=\"1\" class=\"dataframe\">\n",
       "  <thead>\n",
       "    <tr style=\"text-align: right;\">\n",
       "      <th><\/th>\n",
       "      <th>userId<\/th>\n",
       "      <th>movieId<\/th>\n",
       "      <th>rating<\/th>\n",
       "      <th>timestamp<\/th>\n",
       "    <\/tr>\n",
       "  <\/thead>\n",
       "  <tbody>\n",
       "    <tr>\n",
       "      <th>count<\/th>\n",
       "      <td>100836.000000<\/td>\n",
       "      <td>100836.000000<\/td>\n",
       "      <td>100836.000000<\/td>\n",
       "      <td>1.008360e+05<\/td>\n",
       "    <\/tr>\n",
       "    <tr>\n",
       "      <th>mean<\/th>\n",
       "      <td>326.127564<\/td>\n",
       "      <td>19435.295718<\/td>\n",
       "      <td>3.501557<\/td>\n",
       "      <td>1.205946e+09<\/td>\n",
       "    <\/tr>\n",
       "    <tr>\n",
       "      <th>std<\/th>\n",
       "      <td>182.618491<\/td>\n",
       "      <td>35530.987199<\/td>\n",
       "      <td>1.042529<\/td>\n",
       "      <td>2.162610e+08<\/td>\n",
       "    <\/tr>\n",
       "    <tr>\n",
       "      <th>min<\/th>\n",
       "      <td>1.000000<\/td>\n",
       "      <td>1.000000<\/td>\n",
       "      <td>0.500000<\/td>\n",
       "      <td>8.281246e+08<\/td>\n",
       "    <\/tr>\n",
       "    <tr>\n",
       "      <th>25%<\/th>\n",
       "      <td>177.000000<\/td>\n",
       "      <td>1199.000000<\/td>\n",
       "      <td>3.000000<\/td>\n",
       "      <td>1.019124e+09<\/td>\n",
       "    <\/tr>\n",
       "    <tr>\n",
       "      <th>50%<\/th>\n",
       "      <td>325.000000<\/td>\n",
       "      <td>2991.000000<\/td>\n",
       "      <td>3.500000<\/td>\n",
       "      <td>1.186087e+09<\/td>\n",
       "    <\/tr>\n",
       "    <tr>\n",
       "      <th>75%<\/th>\n",
       "      <td>477.000000<\/td>\n",
       "      <td>8122.000000<\/td>\n",
       "      <td>4.000000<\/td>\n",
       "      <td>1.435994e+09<\/td>\n",
       "    <\/tr>\n",
       "    <tr>\n",
       "      <th>max<\/th>\n",
       "      <td>610.000000<\/td>\n",
       "      <td>193609.000000<\/td>\n",
       "      <td>5.000000<\/td>\n",
       "      <td>1.537799e+09<\/td>\n",
       "    <\/tr>\n",
       "  <\/tbody>\n",
       "<\/table>\n",
       "<\/div>"
      ]
     },
     "metadata":{
      
     },
     "output_type":"display_data"
    }
   ],
   "metadata":{
    "datalore":{
     "node_id":"mPvKndmeFlrpnSRSb0VAVA",
     "type":"CODE",
     "hide_input_from_viewers":true,
     "hide_output_from_viewers":true
    }
   }
  },
  {
   "cell_type":"code",
   "source":[
    "df_reviews['userId'].value_counts()"
   ],
   "execution_count":4,
   "outputs":[
    {
     "data":{
      "text\/html":[
       "<pre>414    2698\n",
       "599    2478\n",
       "474    2108\n",
       "448    1864\n",
       "274    1346\n",
       "       ... \n",
       "442      20\n",
       "569      20\n",
       "320      20\n",
       "576      20\n",
       "53       20\n",
       "Name: userId, Length: 610, dtype: int64<\/pre>"
      ]
     },
     "metadata":{
      
     },
     "output_type":"display_data"
    }
   ],
   "metadata":{
    "datalore":{
     "node_id":"TeUBC5k88Ev93rCNc0qdlE",
     "type":"CODE",
     "hide_input_from_viewers":true,
     "hide_output_from_viewers":true
    }
   }
  },
  {
   "cell_type":"code",
   "source":[
    "df_movies_titles = pd.read_csv('movies.csv',index_col=False)\n",
    "df_movies_titles.head()"
   ],
   "execution_count":5,
   "outputs":[
    {
     "data":{
      "text\/html":[
       "<div>\n",
       "<style scoped>\n",
       "    .dataframe tbody tr th:only-of-type {\n",
       "        vertical-align: middle;\n",
       "    }\n",
       "\n",
       "    .dataframe tbody tr th {\n",
       "        vertical-align: top;\n",
       "    }\n",
       "\n",
       "    .dataframe thead th {\n",
       "        text-align: right;\n",
       "    }\n",
       "<\/style>\n",
       "<table border=\"1\" class=\"dataframe\">\n",
       "  <thead>\n",
       "    <tr style=\"text-align: right;\">\n",
       "      <th><\/th>\n",
       "      <th>movieId<\/th>\n",
       "      <th>title<\/th>\n",
       "      <th>genres<\/th>\n",
       "    <\/tr>\n",
       "  <\/thead>\n",
       "  <tbody>\n",
       "    <tr>\n",
       "      <th>0<\/th>\n",
       "      <td>1<\/td>\n",
       "      <td>Toy Story (1995)<\/td>\n",
       "      <td>Adventure|Animation|Children|Comedy|Fantasy<\/td>\n",
       "    <\/tr>\n",
       "    <tr>\n",
       "      <th>1<\/th>\n",
       "      <td>2<\/td>\n",
       "      <td>Jumanji (1995)<\/td>\n",
       "      <td>Adventure|Children|Fantasy<\/td>\n",
       "    <\/tr>\n",
       "    <tr>\n",
       "      <th>2<\/th>\n",
       "      <td>3<\/td>\n",
       "      <td>Grumpier Old Men (1995)<\/td>\n",
       "      <td>Comedy|Romance<\/td>\n",
       "    <\/tr>\n",
       "    <tr>\n",
       "      <th>3<\/th>\n",
       "      <td>4<\/td>\n",
       "      <td>Waiting to Exhale (1995)<\/td>\n",
       "      <td>Comedy|Drama|Romance<\/td>\n",
       "    <\/tr>\n",
       "    <tr>\n",
       "      <th>4<\/th>\n",
       "      <td>5<\/td>\n",
       "      <td>Father of the Bride Part II (1995)<\/td>\n",
       "      <td>Comedy<\/td>\n",
       "    <\/tr>\n",
       "  <\/tbody>\n",
       "<\/table>\n",
       "<\/div>"
      ]
     },
     "metadata":{
      
     },
     "output_type":"display_data"
    }
   ],
   "metadata":{
    "datalore":{
     "node_id":"lfUbo47PaPaDLmK60BRyMf",
     "type":"CODE",
     "hide_input_from_viewers":true,
     "hide_output_from_viewers":true
    }
   }
  },
  {
   "cell_type":"code",
   "source":[
    "df = pd.merge(df_reviews,df_movies_titles,on='movieId')\n",
    "df.head()"
   ],
   "execution_count":6,
   "outputs":[
    {
     "data":{
      "text\/html":[
       "<div>\n",
       "<style scoped>\n",
       "    .dataframe tbody tr th:only-of-type {\n",
       "        vertical-align: middle;\n",
       "    }\n",
       "\n",
       "    .dataframe tbody tr th {\n",
       "        vertical-align: top;\n",
       "    }\n",
       "\n",
       "    .dataframe thead th {\n",
       "        text-align: right;\n",
       "    }\n",
       "<\/style>\n",
       "<table border=\"1\" class=\"dataframe\">\n",
       "  <thead>\n",
       "    <tr style=\"text-align: right;\">\n",
       "      <th><\/th>\n",
       "      <th>userId<\/th>\n",
       "      <th>movieId<\/th>\n",
       "      <th>rating<\/th>\n",
       "      <th>timestamp<\/th>\n",
       "      <th>title<\/th>\n",
       "      <th>genres<\/th>\n",
       "    <\/tr>\n",
       "  <\/thead>\n",
       "  <tbody>\n",
       "    <tr>\n",
       "      <th>0<\/th>\n",
       "      <td>1<\/td>\n",
       "      <td>1<\/td>\n",
       "      <td>4.0<\/td>\n",
       "      <td>964982703<\/td>\n",
       "      <td>Toy Story (1995)<\/td>\n",
       "      <td>Adventure|Animation|Children|Comedy|Fantasy<\/td>\n",
       "    <\/tr>\n",
       "    <tr>\n",
       "      <th>1<\/th>\n",
       "      <td>5<\/td>\n",
       "      <td>1<\/td>\n",
       "      <td>4.0<\/td>\n",
       "      <td>847434962<\/td>\n",
       "      <td>Toy Story (1995)<\/td>\n",
       "      <td>Adventure|Animation|Children|Comedy|Fantasy<\/td>\n",
       "    <\/tr>\n",
       "    <tr>\n",
       "      <th>2<\/th>\n",
       "      <td>7<\/td>\n",
       "      <td>1<\/td>\n",
       "      <td>4.5<\/td>\n",
       "      <td>1106635946<\/td>\n",
       "      <td>Toy Story (1995)<\/td>\n",
       "      <td>Adventure|Animation|Children|Comedy|Fantasy<\/td>\n",
       "    <\/tr>\n",
       "    <tr>\n",
       "      <th>3<\/th>\n",
       "      <td>15<\/td>\n",
       "      <td>1<\/td>\n",
       "      <td>2.5<\/td>\n",
       "      <td>1510577970<\/td>\n",
       "      <td>Toy Story (1995)<\/td>\n",
       "      <td>Adventure|Animation|Children|Comedy|Fantasy<\/td>\n",
       "    <\/tr>\n",
       "    <tr>\n",
       "      <th>4<\/th>\n",
       "      <td>17<\/td>\n",
       "      <td>1<\/td>\n",
       "      <td>4.5<\/td>\n",
       "      <td>1305696483<\/td>\n",
       "      <td>Toy Story (1995)<\/td>\n",
       "      <td>Adventure|Animation|Children|Comedy|Fantasy<\/td>\n",
       "    <\/tr>\n",
       "  <\/tbody>\n",
       "<\/table>\n",
       "<\/div>"
      ]
     },
     "metadata":{
      
     },
     "output_type":"display_data"
    }
   ],
   "metadata":{
    "datalore":{
     "node_id":"4XRddzrPX2CSpnkpJVevww",
     "type":"CODE",
     "hide_input_from_viewers":true,
     "hide_output_from_viewers":true
    }
   }
  },
  {
   "cell_type":"code",
   "source":[
    "df.describe()"
   ],
   "execution_count":7,
   "outputs":[
    {
     "data":{
      "text\/html":[
       "<div>\n",
       "<style scoped>\n",
       "    .dataframe tbody tr th:only-of-type {\n",
       "        vertical-align: middle;\n",
       "    }\n",
       "\n",
       "    .dataframe tbody tr th {\n",
       "        vertical-align: top;\n",
       "    }\n",
       "\n",
       "    .dataframe thead th {\n",
       "        text-align: right;\n",
       "    }\n",
       "<\/style>\n",
       "<table border=\"1\" class=\"dataframe\">\n",
       "  <thead>\n",
       "    <tr style=\"text-align: right;\">\n",
       "      <th><\/th>\n",
       "      <th>userId<\/th>\n",
       "      <th>movieId<\/th>\n",
       "      <th>rating<\/th>\n",
       "      <th>timestamp<\/th>\n",
       "    <\/tr>\n",
       "  <\/thead>\n",
       "  <tbody>\n",
       "    <tr>\n",
       "      <th>count<\/th>\n",
       "      <td>98180.000000<\/td>\n",
       "      <td>98180.000000<\/td>\n",
       "      <td>98180.000000<\/td>\n",
       "      <td>9.818000e+04<\/td>\n",
       "    <\/tr>\n",
       "    <tr>\n",
       "      <th>mean<\/th>\n",
       "      <td>326.348747<\/td>\n",
       "      <td>15938.331259<\/td>\n",
       "      <td>3.502567<\/td>\n",
       "      <td>1.197962e+09<\/td>\n",
       "    <\/tr>\n",
       "    <tr>\n",
       "      <th>std<\/th>\n",
       "      <td>182.344624<\/td>\n",
       "      <td>28668.177407<\/td>\n",
       "      <td>1.040068<\/td>\n",
       "      <td>2.135274e+08<\/td>\n",
       "    <\/tr>\n",
       "    <tr>\n",
       "      <th>min<\/th>\n",
       "      <td>1.000000<\/td>\n",
       "      <td>1.000000<\/td>\n",
       "      <td>0.500000<\/td>\n",
       "      <td>8.281246e+08<\/td>\n",
       "    <\/tr>\n",
       "    <tr>\n",
       "      <th>25%<\/th>\n",
       "      <td>177.000000<\/td>\n",
       "      <td>1193.000000<\/td>\n",
       "      <td>3.000000<\/td>\n",
       "      <td>1.008558e+09<\/td>\n",
       "    <\/tr>\n",
       "    <tr>\n",
       "      <th>50%<\/th>\n",
       "      <td>325.000000<\/td>\n",
       "      <td>2890.000000<\/td>\n",
       "      <td>3.500000<\/td>\n",
       "      <td>1.179177e+09<\/td>\n",
       "    <\/tr>\n",
       "    <tr>\n",
       "      <th>75%<\/th>\n",
       "      <td>477.000000<\/td>\n",
       "      <td>7121.000000<\/td>\n",
       "      <td>4.000000<\/td>\n",
       "      <td>1.428575e+09<\/td>\n",
       "    <\/tr>\n",
       "    <tr>\n",
       "      <th>max<\/th>\n",
       "      <td>610.000000<\/td>\n",
       "      <td>131237.000000<\/td>\n",
       "      <td>5.000000<\/td>\n",
       "      <td>1.537799e+09<\/td>\n",
       "    <\/tr>\n",
       "  <\/tbody>\n",
       "<\/table>\n",
       "<\/div>"
      ]
     },
     "metadata":{
      
     },
     "output_type":"display_data"
    }
   ],
   "metadata":{
    "datalore":{
     "node_id":"tIqv4jkBoKZsGJVaGfKmCu",
     "type":"CODE",
     "hide_input_from_viewers":true,
     "hide_output_from_viewers":true
    }
   }
  },
  {
   "cell_type":"code",
   "source":[
    "df_ratings = pd.DataFrame(df.groupby('title')['rating'].mean())\n",
    "df_ratings['number_of_ratings'] = df.groupby('title')['rating'].count()\n",
    "df_ratings.head()"
   ],
   "execution_count":8,
   "outputs":[
    {
     "data":{
      "text\/html":[
       "<div>\n",
       "<style scoped>\n",
       "    .dataframe tbody tr th:only-of-type {\n",
       "        vertical-align: middle;\n",
       "    }\n",
       "\n",
       "    .dataframe tbody tr th {\n",
       "        vertical-align: top;\n",
       "    }\n",
       "\n",
       "    .dataframe thead th {\n",
       "        text-align: right;\n",
       "    }\n",
       "<\/style>\n",
       "<table border=\"1\" class=\"dataframe\">\n",
       "  <thead>\n",
       "    <tr style=\"text-align: right;\">\n",
       "      <th><\/th>\n",
       "      <th>rating<\/th>\n",
       "      <th>number_of_ratings<\/th>\n",
       "    <\/tr>\n",
       "    <tr>\n",
       "      <th>title<\/th>\n",
       "      <th><\/th>\n",
       "      <th><\/th>\n",
       "    <\/tr>\n",
       "  <\/thead>\n",
       "  <tbody>\n",
       "    <tr>\n",
       "      <th>'71 (2014)<\/th>\n",
       "      <td>4.0<\/td>\n",
       "      <td>1<\/td>\n",
       "    <\/tr>\n",
       "    <tr>\n",
       "      <th>'Hellboy': The Seeds of Creation (2004)<\/th>\n",
       "      <td>4.0<\/td>\n",
       "      <td>1<\/td>\n",
       "    <\/tr>\n",
       "    <tr>\n",
       "      <th>'Round Midnight (1986)<\/th>\n",
       "      <td>3.5<\/td>\n",
       "      <td>2<\/td>\n",
       "    <\/tr>\n",
       "    <tr>\n",
       "      <th>'Salem's Lot (2004)<\/th>\n",
       "      <td>5.0<\/td>\n",
       "      <td>1<\/td>\n",
       "    <\/tr>\n",
       "    <tr>\n",
       "      <th>'Til There Was You (1997)<\/th>\n",
       "      <td>4.0<\/td>\n",
       "      <td>2<\/td>\n",
       "    <\/tr>\n",
       "  <\/tbody>\n",
       "<\/table>\n",
       "<\/div>"
      ]
     },
     "metadata":{
      
     },
     "output_type":"display_data"
    }
   ],
   "metadata":{
    "datalore":{
     "node_id":"eFi1KKlBIC02dDhbfMxaFe",
     "type":"CODE",
     "hide_input_from_viewers":true,
     "hide_output_from_viewers":true
    }
   }
  },
  {
   "cell_type":"code",
   "source":[
    "movie_matrix = df.pivot_table(index='userId',columns='title',values='rating')\n",
    "movie_matrix.head()"
   ],
   "execution_count":9,
   "outputs":[
    {
     "data":{
      "text\/html":[
       "<div>\n",
       "<style scoped>\n",
       "    .dataframe tbody tr th:only-of-type {\n",
       "        vertical-align: middle;\n",
       "    }\n",
       "\n",
       "    .dataframe tbody tr th {\n",
       "        vertical-align: top;\n",
       "    }\n",
       "\n",
       "    .dataframe thead th {\n",
       "        text-align: right;\n",
       "    }\n",
       "<\/style>\n",
       "<table border=\"1\" class=\"dataframe\">\n",
       "  <thead>\n",
       "    <tr style=\"text-align: right;\">\n",
       "      <th>title<\/th>\n",
       "      <th>'71 (2014)<\/th>\n",
       "      <th>'Hellboy': The Seeds of Creation (2004)<\/th>\n",
       "      <th>'Round Midnight (1986)<\/th>\n",
       "      <th>'Salem's Lot (2004)<\/th>\n",
       "      <th>'Til There Was You (1997)<\/th>\n",
       "      <th>'burbs, The (1989)<\/th>\n",
       "      <th>'night Mother (1986)<\/th>\n",
       "      <th>(500) Days of Summer (2009)<\/th>\n",
       "      <th>*batteries not included (1987)<\/th>\n",
       "      <th>...All the Marbles (California Dolls, The) (1981)<\/th>\n",
       "      <th>...<\/th>\n",
       "      <th>Zulu (1964)<\/th>\n",
       "      <th>Zulu (2013)<\/th>\n",
       "      <th>[REC] (2007)<\/th>\n",
       "      <th>[REC]² (2009)<\/th>\n",
       "      <th>[REC]³ 3 Génesis (2012)<\/th>\n",
       "      <th>eXistenZ (1999)<\/th>\n",
       "      <th>xXx (2002)<\/th>\n",
       "      <th>xXx: State of the Union (2005)<\/th>\n",
       "      <th>¡Three Amigos! (1986)<\/th>\n",
       "      <th>À nous la liberté (Freedom for Us) (1931)<\/th>\n",
       "    <\/tr>\n",
       "    <tr>\n",
       "      <th>userId<\/th>\n",
       "      <th><\/th>\n",
       "      <th><\/th>\n",
       "      <th><\/th>\n",
       "      <th><\/th>\n",
       "      <th><\/th>\n",
       "      <th><\/th>\n",
       "      <th><\/th>\n",
       "      <th><\/th>\n",
       "      <th><\/th>\n",
       "      <th><\/th>\n",
       "      <th><\/th>\n",
       "      <th><\/th>\n",
       "      <th><\/th>\n",
       "      <th><\/th>\n",
       "      <th><\/th>\n",
       "      <th><\/th>\n",
       "      <th><\/th>\n",
       "      <th><\/th>\n",
       "      <th><\/th>\n",
       "      <th><\/th>\n",
       "      <th><\/th>\n",
       "    <\/tr>\n",
       "  <\/thead>\n",
       "  <tbody>\n",
       "    <tr>\n",
       "      <th>1<\/th>\n",
       "      <td>NaN<\/td>\n",
       "      <td>NaN<\/td>\n",
       "      <td>NaN<\/td>\n",
       "      <td>NaN<\/td>\n",
       "      <td>NaN<\/td>\n",
       "      <td>NaN<\/td>\n",
       "      <td>NaN<\/td>\n",
       "      <td>NaN<\/td>\n",
       "      <td>NaN<\/td>\n",
       "      <td>NaN<\/td>\n",
       "      <td>...<\/td>\n",
       "      <td>NaN<\/td>\n",
       "      <td>NaN<\/td>\n",
       "      <td>NaN<\/td>\n",
       "      <td>NaN<\/td>\n",
       "      <td>NaN<\/td>\n",
       "      <td>NaN<\/td>\n",
       "      <td>NaN<\/td>\n",
       "      <td>NaN<\/td>\n",
       "      <td>4.0<\/td>\n",
       "      <td>NaN<\/td>\n",
       "    <\/tr>\n",
       "    <tr>\n",
       "      <th>2<\/th>\n",
       "      <td>NaN<\/td>\n",
       "      <td>NaN<\/td>\n",
       "      <td>NaN<\/td>\n",
       "      <td>NaN<\/td>\n",
       "      <td>NaN<\/td>\n",
       "      <td>NaN<\/td>\n",
       "      <td>NaN<\/td>\n",
       "      <td>NaN<\/td>\n",
       "      <td>NaN<\/td>\n",
       "      <td>NaN<\/td>\n",
       "      <td>...<\/td>\n",
       "      <td>NaN<\/td>\n",
       "      <td>NaN<\/td>\n",
       "      <td>NaN<\/td>\n",
       "      <td>NaN<\/td>\n",
       "      <td>NaN<\/td>\n",
       "      <td>NaN<\/td>\n",
       "      <td>NaN<\/td>\n",
       "      <td>NaN<\/td>\n",
       "      <td>NaN<\/td>\n",
       "      <td>NaN<\/td>\n",
       "    <\/tr>\n",
       "    <tr>\n",
       "      <th>3<\/th>\n",
       "      <td>NaN<\/td>\n",
       "      <td>NaN<\/td>\n",
       "      <td>NaN<\/td>\n",
       "      <td>NaN<\/td>\n",
       "      <td>NaN<\/td>\n",
       "      <td>NaN<\/td>\n",
       "      <td>NaN<\/td>\n",
       "      <td>NaN<\/td>\n",
       "      <td>NaN<\/td>\n",
       "      <td>NaN<\/td>\n",
       "      <td>...<\/td>\n",
       "      <td>NaN<\/td>\n",
       "      <td>NaN<\/td>\n",
       "      <td>NaN<\/td>\n",
       "      <td>NaN<\/td>\n",
       "      <td>NaN<\/td>\n",
       "      <td>NaN<\/td>\n",
       "      <td>NaN<\/td>\n",
       "      <td>NaN<\/td>\n",
       "      <td>NaN<\/td>\n",
       "      <td>NaN<\/td>\n",
       "    <\/tr>\n",
       "    <tr>\n",
       "      <th>4<\/th>\n",
       "      <td>NaN<\/td>\n",
       "      <td>NaN<\/td>\n",
       "      <td>NaN<\/td>\n",
       "      <td>NaN<\/td>\n",
       "      <td>NaN<\/td>\n",
       "      <td>NaN<\/td>\n",
       "      <td>NaN<\/td>\n",
       "      <td>NaN<\/td>\n",
       "      <td>NaN<\/td>\n",
       "      <td>NaN<\/td>\n",
       "      <td>...<\/td>\n",
       "      <td>NaN<\/td>\n",
       "      <td>NaN<\/td>\n",
       "      <td>NaN<\/td>\n",
       "      <td>NaN<\/td>\n",
       "      <td>NaN<\/td>\n",
       "      <td>NaN<\/td>\n",
       "      <td>NaN<\/td>\n",
       "      <td>NaN<\/td>\n",
       "      <td>NaN<\/td>\n",
       "      <td>NaN<\/td>\n",
       "    <\/tr>\n",
       "    <tr>\n",
       "      <th>5<\/th>\n",
       "      <td>NaN<\/td>\n",
       "      <td>NaN<\/td>\n",
       "      <td>NaN<\/td>\n",
       "      <td>NaN<\/td>\n",
       "      <td>NaN<\/td>\n",
       "      <td>NaN<\/td>\n",
       "      <td>NaN<\/td>\n",
       "      <td>NaN<\/td>\n",
       "      <td>NaN<\/td>\n",
       "      <td>NaN<\/td>\n",
       "      <td>...<\/td>\n",
       "      <td>NaN<\/td>\n",
       "      <td>NaN<\/td>\n",
       "      <td>NaN<\/td>\n",
       "      <td>NaN<\/td>\n",
       "      <td>NaN<\/td>\n",
       "      <td>NaN<\/td>\n",
       "      <td>NaN<\/td>\n",
       "      <td>NaN<\/td>\n",
       "      <td>NaN<\/td>\n",
       "      <td>NaN<\/td>\n",
       "    <\/tr>\n",
       "  <\/tbody>\n",
       "<\/table>\n",
       "<p>5 rows × 8747 columns<\/p>\n",
       "<\/div>"
      ]
     },
     "metadata":{
      
     },
     "output_type":"display_data"
    }
   ],
   "metadata":{
    "datalore":{
     "node_id":"MkUvy0eQx7ZZSCn6L4axzZ",
     "type":"CODE",
     "hide_input_from_viewers":true,
     "hide_output_from_viewers":true
    }
   }
  },
  {
   "cell_type":"code",
   "source":[
    "Avatar_user_rating = movie_matrix['Avatar (2009)']\n",
    "Avatar_user_rating = Avatar_user_rating.dropna()\n",
    "Avatar_user_rating.head()"
   ],
   "execution_count":10,
   "outputs":[
    {
     "data":{
      "text\/html":[
       "<pre>userId\n",
       "10    2.5\n",
       "15    3.0\n",
       "18    4.0\n",
       "21    4.0\n",
       "22    3.5\n",
       "Name: Avatar (2009), dtype: float64<\/pre>"
      ]
     },
     "metadata":{
      
     },
     "output_type":"display_data"
    }
   ],
   "metadata":{
    "datalore":{
     "node_id":"kxLkLn2lWZguhKTQPpWeMn",
     "type":"CODE",
     "hide_input_from_viewers":true,
     "hide_output_from_viewers":true
    }
   }
  },
  {
   "cell_type":"code",
   "source":[
    "similar_to_Avatar = movie_matrix.corrwith(Avatar_user_rating)\n",
    "corr_Avatar = pd.DataFrame(similar_to_Avatar,columns=['correlation'])\n",
    "corr_Avatar.dropna(inplace=True)\n",
    "corr_Avatar = corr_Avatar.join(df_ratings['number_of_ratings'])\n",
    "corr_Avatar.head()"
   ],
   "execution_count":11,
   "outputs":[
    {
     "data":{
      "text\/html":[
       "<div>\n",
       "<style scoped>\n",
       "    .dataframe tbody tr th:only-of-type {\n",
       "        vertical-align: middle;\n",
       "    }\n",
       "\n",
       "    .dataframe tbody tr th {\n",
       "        vertical-align: top;\n",
       "    }\n",
       "\n",
       "    .dataframe thead th {\n",
       "        text-align: right;\n",
       "    }\n",
       "<\/style>\n",
       "<table border=\"1\" class=\"dataframe\">\n",
       "  <thead>\n",
       "    <tr style=\"text-align: right;\">\n",
       "      <th><\/th>\n",
       "      <th>correlation<\/th>\n",
       "      <th>number_of_ratings<\/th>\n",
       "    <\/tr>\n",
       "    <tr>\n",
       "      <th>title<\/th>\n",
       "      <th><\/th>\n",
       "      <th><\/th>\n",
       "    <\/tr>\n",
       "  <\/thead>\n",
       "  <tbody>\n",
       "    <tr>\n",
       "      <th>'burbs, The (1989)<\/th>\n",
       "      <td>0.353553<\/td>\n",
       "      <td>17<\/td>\n",
       "    <\/tr>\n",
       "    <tr>\n",
       "      <th>(500) Days of Summer (2009)<\/th>\n",
       "      <td>0.131120<\/td>\n",
       "      <td>42<\/td>\n",
       "    <\/tr>\n",
       "    <tr>\n",
       "      <th>*batteries not included (1987)<\/th>\n",
       "      <td>0.785714<\/td>\n",
       "      <td>7<\/td>\n",
       "    <\/tr>\n",
       "    <tr>\n",
       "      <th>10 Things I Hate About You (1999)<\/th>\n",
       "      <td>0.265637<\/td>\n",
       "      <td>54<\/td>\n",
       "    <\/tr>\n",
       "    <tr>\n",
       "      <th>10,000 BC (2008)<\/th>\n",
       "      <td>-0.075431<\/td>\n",
       "      <td>17<\/td>\n",
       "    <\/tr>\n",
       "  <\/tbody>\n",
       "<\/table>\n",
       "<\/div>"
      ]
     },
     "metadata":{
      
     },
     "output_type":"display_data"
    }
   ],
   "metadata":{
    "datalore":{
     "node_id":"4G8kABDpd4YFiTxnqvnKV7",
     "type":"CODE",
     "hide_input_from_viewers":true,
     "hide_output_from_viewers":true
    }
   }
  },
  {
   "cell_type":"code",
   "source":[
    "corr_Avatar[df_ratings['number_of_ratings']>100].sort_values(by='correlation',ascending=False).head(10)"
   ],
   "execution_count":12,
   "outputs":[
    {
     "data":{
      "text\/html":[
       "<div>\n",
       "<style scoped>\n",
       "    .dataframe tbody tr th:only-of-type {\n",
       "        vertical-align: middle;\n",
       "    }\n",
       "\n",
       "    .dataframe tbody tr th {\n",
       "        vertical-align: top;\n",
       "    }\n",
       "\n",
       "    .dataframe thead th {\n",
       "        text-align: right;\n",
       "    }\n",
       "<\/style>\n",
       "<table border=\"1\" class=\"dataframe\">\n",
       "  <thead>\n",
       "    <tr style=\"text-align: right;\">\n",
       "      <th><\/th>\n",
       "      <th>correlation<\/th>\n",
       "      <th>number_of_ratings<\/th>\n",
       "    <\/tr>\n",
       "    <tr>\n",
       "      <th>title<\/th>\n",
       "      <th><\/th>\n",
       "      <th><\/th>\n",
       "    <\/tr>\n",
       "  <\/thead>\n",
       "  <tbody>\n",
       "    <tr>\n",
       "      <th>Trainspotting (1996)<\/th>\n",
       "      <td>0.623735<\/td>\n",
       "      <td>102<\/td>\n",
       "    <\/tr>\n",
       "    <tr>\n",
       "      <th>Monsters, Inc. (2001)<\/th>\n",
       "      <td>0.541616<\/td>\n",
       "      <td>132<\/td>\n",
       "    <\/tr>\n",
       "    <tr>\n",
       "      <th>Net, The (1995)<\/th>\n",
       "      <td>0.530552<\/td>\n",
       "      <td>112<\/td>\n",
       "    <\/tr>\n",
       "    <tr>\n",
       "      <th>Finding Nemo (2003)<\/th>\n",
       "      <td>0.501461<\/td>\n",
       "      <td>141<\/td>\n",
       "    <\/tr>\n",
       "    <tr>\n",
       "      <th>Matrix, The (1999)<\/th>\n",
       "      <td>0.493241<\/td>\n",
       "      <td>278<\/td>\n",
       "    <\/tr>\n",
       "    <tr>\n",
       "      <th>Die Hard: With a Vengeance (1995)<\/th>\n",
       "      <td>0.466794<\/td>\n",
       "      <td>144<\/td>\n",
       "    <\/tr>\n",
       "    <tr>\n",
       "      <th>Men in Black (a.k.a. MIB) (1997)<\/th>\n",
       "      <td>0.459441<\/td>\n",
       "      <td>165<\/td>\n",
       "    <\/tr>\n",
       "    <tr>\n",
       "      <th>Star Wars: Episode VI - Return of the Jedi (1983)<\/th>\n",
       "      <td>0.458785<\/td>\n",
       "      <td>196<\/td>\n",
       "    <\/tr>\n",
       "    <tr>\n",
       "      <th>Terminator, The (1984)<\/th>\n",
       "      <td>0.448443<\/td>\n",
       "      <td>131<\/td>\n",
       "    <\/tr>\n",
       "    <tr>\n",
       "      <th>Spider-Man (2002)<\/th>\n",
       "      <td>0.448073<\/td>\n",
       "      <td>122<\/td>\n",
       "    <\/tr>\n",
       "  <\/tbody>\n",
       "<\/table>\n",
       "<\/div>"
      ]
     },
     "metadata":{
      
     },
     "output_type":"display_data"
    }
   ],
   "metadata":{
    "datalore":{
     "node_id":"fIGgwu2PSHoznp6ZgqG9FN",
     "type":"CODE",
     "hide_input_from_viewers":true,
     "hide_output_from_viewers":true
    }
   }
  },
  {
   "cell_type":"code",
   "source":[
    "Thor_user_rating = movie_matrix['Thor (2011)']\n",
    "Thoe_user_rating = Thor_user_rating.dropna()\n",
    "Thor_user_rating"
   ],
   "execution_count":14,
   "outputs":[
    {
     "data":{
      "text\/html":[
       "<pre>userId\n",
       "1      NaN\n",
       "2      NaN\n",
       "3      NaN\n",
       "4      NaN\n",
       "5      NaN\n",
       "      ... \n",
       "606    NaN\n",
       "607    NaN\n",
       "608    NaN\n",
       "609    NaN\n",
       "610    3.5\n",
       "Name: Thor (2011), Length: 610, dtype: float64<\/pre>"
      ]
     },
     "metadata":{
      
     },
     "output_type":"display_data"
    }
   ],
   "metadata":{
    "datalore":{
     "node_id":"ppMLoFdw87FZINyqmCRucU",
     "type":"CODE",
     "hide_input_from_viewers":true,
     "hide_output_from_viewers":true
    }
   }
  },
  {
   "cell_type":"code",
   "source":[
    "similar_to_Thor = movie_matrix.corrwith(Thor_user_rating)\n",
    "similar_to_Thor"
   ],
   "execution_count":15,
   "outputs":[
    {
     "data":{
      "text\/html":[
       "<pre>title\n",
       "'71 (2014)                                        NaN\n",
       "'Hellboy': The Seeds of Creation (2004)           NaN\n",
       "'Round Midnight (1986)                            NaN\n",
       "'Salem's Lot (2004)                               NaN\n",
       "'Til There Was You (1997)                         NaN\n",
       "                                               ...   \n",
       "eXistenZ (1999)                              0.917663\n",
       "xXx (2002)                                   0.345586\n",
       "xXx: State of the Union (2005)              -0.970725\n",
       "¡Three Amigos! (1986)                        0.914659\n",
       "À nous la liberté (Freedom for Us) (1931)         NaN\n",
       "Length: 8747, dtype: float64<\/pre>"
      ]
     },
     "metadata":{
      
     },
     "output_type":"display_data"
    }
   ],
   "metadata":{
    "datalore":{
     "node_id":"4aqJGmH8wfuY64DhlY6X35",
     "type":"CODE",
     "hide_input_from_viewers":true,
     "hide_output_from_viewers":true
    }
   }
  },
  {
   "cell_type":"code",
   "source":[
    "corr_Thor = pd.DataFrame(similar_to_Thor,columns=['correlation'])\n",
    "corr_Thor.dropna(inplace=True)\n",
    "corr_Thor = corr_Thor.join(df_ratings['number_of_ratings'])\n",
    "corr_Thor.head()"
   ],
   "execution_count":16,
   "outputs":[
    {
     "data":{
      "text\/html":[
       "<div>\n",
       "<style scoped>\n",
       "    .dataframe tbody tr th:only-of-type {\n",
       "        vertical-align: middle;\n",
       "    }\n",
       "\n",
       "    .dataframe tbody tr th {\n",
       "        vertical-align: top;\n",
       "    }\n",
       "\n",
       "    .dataframe thead th {\n",
       "        text-align: right;\n",
       "    }\n",
       "<\/style>\n",
       "<table border=\"1\" class=\"dataframe\">\n",
       "  <thead>\n",
       "    <tr style=\"text-align: right;\">\n",
       "      <th><\/th>\n",
       "      <th>correlation<\/th>\n",
       "      <th>number_of_ratings<\/th>\n",
       "    <\/tr>\n",
       "    <tr>\n",
       "      <th>title<\/th>\n",
       "      <th><\/th>\n",
       "      <th><\/th>\n",
       "    <\/tr>\n",
       "  <\/thead>\n",
       "  <tbody>\n",
       "    <tr>\n",
       "      <th>'burbs, The (1989)<\/th>\n",
       "      <td>0.997176<\/td>\n",
       "      <td>17<\/td>\n",
       "    <\/tr>\n",
       "    <tr>\n",
       "      <th>(500) Days of Summer (2009)<\/th>\n",
       "      <td>0.386820<\/td>\n",
       "      <td>42<\/td>\n",
       "    <\/tr>\n",
       "    <tr>\n",
       "      <th>10 Things I Hate About You (1999)<\/th>\n",
       "      <td>0.273560<\/td>\n",
       "      <td>54<\/td>\n",
       "    <\/tr>\n",
       "    <tr>\n",
       "      <th>10,000 BC (2008)<\/th>\n",
       "      <td>0.245718<\/td>\n",
       "      <td>17<\/td>\n",
       "    <\/tr>\n",
       "    <tr>\n",
       "      <th>101 Dalmatians (1996)<\/th>\n",
       "      <td>0.089730<\/td>\n",
       "      <td>47<\/td>\n",
       "    <\/tr>\n",
       "  <\/tbody>\n",
       "<\/table>\n",
       "<\/div>"
      ]
     },
     "metadata":{
      
     },
     "output_type":"display_data"
    }
   ],
   "metadata":{
    "datalore":{
     "node_id":"T45GP2ycXHr3xbjEODIByc",
     "type":"CODE",
     "hide_input_from_viewers":true,
     "hide_output_from_viewers":true
    }
   }
  },
  {
   "cell_type":"code",
   "source":[
    "corr_Thor[df_ratings['number_of_ratings']>100].sort_values(by='correlation',ascending=False).head(10)"
   ],
   "execution_count":17,
   "outputs":[
    {
     "data":{
      "text\/html":[
       "<div>\n",
       "<style scoped>\n",
       "    .dataframe tbody tr th:only-of-type {\n",
       "        vertical-align: middle;\n",
       "    }\n",
       "\n",
       "    .dataframe tbody tr th {\n",
       "        vertical-align: top;\n",
       "    }\n",
       "\n",
       "    .dataframe thead th {\n",
       "        text-align: right;\n",
       "    }\n",
       "<\/style>\n",
       "<table border=\"1\" class=\"dataframe\">\n",
       "  <thead>\n",
       "    <tr style=\"text-align: right;\">\n",
       "      <th><\/th>\n",
       "      <th>correlation<\/th>\n",
       "      <th>number_of_ratings<\/th>\n",
       "    <\/tr>\n",
       "    <tr>\n",
       "      <th>title<\/th>\n",
       "      <th><\/th>\n",
       "      <th><\/th>\n",
       "    <\/tr>\n",
       "  <\/thead>\n",
       "  <tbody>\n",
       "    <tr>\n",
       "      <th>Stargate (1994)<\/th>\n",
       "      <td>0.759494<\/td>\n",
       "      <td>140<\/td>\n",
       "    <\/tr>\n",
       "    <tr>\n",
       "      <th>Aladdin (1992)<\/th>\n",
       "      <td>0.730377<\/td>\n",
       "      <td>183<\/td>\n",
       "    <\/tr>\n",
       "    <tr>\n",
       "      <th>Jurassic Park (1993)<\/th>\n",
       "      <td>0.714481<\/td>\n",
       "      <td>238<\/td>\n",
       "    <\/tr>\n",
       "    <tr>\n",
       "      <th>Lion King, The (1994)<\/th>\n",
       "      <td>0.710244<\/td>\n",
       "      <td>172<\/td>\n",
       "    <\/tr>\n",
       "    <tr>\n",
       "      <th>Bourne Identity, The (2002)<\/th>\n",
       "      <td>0.705183<\/td>\n",
       "      <td>112<\/td>\n",
       "    <\/tr>\n",
       "    <tr>\n",
       "      <th>X-Men (2000)<\/th>\n",
       "      <td>0.670755<\/td>\n",
       "      <td>133<\/td>\n",
       "    <\/tr>\n",
       "    <tr>\n",
       "      <th>Up (2009)<\/th>\n",
       "      <td>0.665904<\/td>\n",
       "      <td>105<\/td>\n",
       "    <\/tr>\n",
       "    <tr>\n",
       "      <th>Batman Begins (2005)<\/th>\n",
       "      <td>0.665208<\/td>\n",
       "      <td>116<\/td>\n",
       "    <\/tr>\n",
       "    <tr>\n",
       "      <th>Harry Potter and the Sorcerer's Stone (a.k.a. Harry Potter and the Philosopher's Stone) (2001)<\/th>\n",
       "      <td>0.658109<\/td>\n",
       "      <td>107<\/td>\n",
       "    <\/tr>\n",
       "    <tr>\n",
       "      <th>Men in Black (a.k.a. MIB) (1997)<\/th>\n",
       "      <td>0.643894<\/td>\n",
       "      <td>165<\/td>\n",
       "    <\/tr>\n",
       "  <\/tbody>\n",
       "<\/table>\n",
       "<\/div>"
      ]
     },
     "metadata":{
      
     },
     "output_type":"display_data"
    }
   ],
   "metadata":{
    "datalore":{
     "node_id":"p1Gve0EP437iMBPM1NvwEb",
     "type":"CODE",
     "hide_input_from_viewers":true,
     "hide_output_from_viewers":true
    }
   }
  },
  {
   "cell_type":"code",
   "source":[
    "df_ratings.hist(bins=50)"
   ],
   "execution_count":18,
   "outputs":[
    {
     "data":{
      "text\/html":[
       "<pre>array([[%lt;Axes: title={'center': 'rating'}%gt;,\n",
       "        %lt;Axes: title={'center': 'number_of_ratings'}%gt;]], dtype=object)<\/pre>"
      ]
     },
     "metadata":{
      
     },
     "output_type":"display_data"
    },
    {
     "data":{
      "image\/png":"[encoded data removed]"
     },
     "metadata":{
      "image\/png":{
       
      }
     },
     "output_type":"display_data"
    }
   ],
   "metadata":{
    "datalore":{
     "node_id":"nMCwA0dnsTcoxlT2zYyvMk",
     "type":"CODE",
     "hide_input_from_viewers":true,
     "hide_output_from_viewers":true
    }
   }
  },
  {
   "cell_type":"code",
   "source":[
    "sns.jointplot(x='rating',y='number_of_ratings',data=df_ratings)"
   ],
   "execution_count":20,
   "outputs":[
    {
     "data":{
      "text\/plain":[
       "<seaborn.axisgrid.JointGrid at 0x7f69a362e3d0>"
      ]
     },
     "metadata":{
      
     },
     "output_type":"display_data"
    },
    {
     "data":{
      "image\/png":"[encoded data removed]"
     },
     "metadata":{
      "image\/png":{
       
      }
     },
     "output_type":"display_data"
    }
   ],
   "metadata":{
    "datalore":{
     "node_id":"etkGlYitEwmiAAUHPYA56N",
     "type":"CODE",
     "hide_input_from_viewers":true,
     "hide_output_from_viewers":true
    }
   }
  }
 ],
 "metadata":{
  "kernelspec":{
   "display_name":"Python",
   "language":"python",
   "name":"python"
  },
  "datalore":{
   "computation_mode":"JUPYTER",
   "package_manager":"pip",
   "base_environment":"default",
   "packages":[
    
   ],
   "report_row_ids":[
    
   ],
   "version":3
  }
 },
 "nbformat":4,
 "nbformat_minor":4
}