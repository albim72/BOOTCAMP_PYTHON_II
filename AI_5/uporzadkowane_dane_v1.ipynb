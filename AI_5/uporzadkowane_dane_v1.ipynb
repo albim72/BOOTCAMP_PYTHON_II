{
 "cells":[
  {
   "cell_type":"markdown",
   "source":[
    "Klasyfikacja uporządkowanych danych za pomocą warstw przetwarzania wstępnego"
   ],
   "attachments":{
    
   },
   "metadata":{
    "datalore":{
     "node_id":"ybPeEOQsM2chyK72RNJrC3",
     "type":"MD",
     "hide_input_from_viewers":true,
     "hide_output_from_viewers":true
    }
   }
  },
  {
   "cell_type":"code",
   "source":[
    "import numpy as np\n",
    "import pandas as pd\n",
    "import tensorflow as tf\n",
    "\n",
    "from tensorflow.keras import layers"
   ],
   "execution_count":1,
   "outputs":[
    
   ],
   "metadata":{
    "datalore":{
     "node_id":"ZL4q8aMVusUX5MiY3DUHrA",
     "type":"CODE",
     "hide_input_from_viewers":true,
     "hide_output_from_viewers":true
    }
   }
  },
  {
   "cell_type":"code",
   "source":[
    "#ładowanie zbioru danych petfinder\n",
    "dataset_url = 'http:\/\/storage.googleapis.com\/download.tensorflow.org\/data\/petfinder-mini.zip'\n",
    "csv_file = 'datasets\/petfinder-mini\/petfinder-mini.csv'\n",
    "\n",
    "tf.keras.utils.get_file('petfinder_mini.zip',dataset_url,extract=True,cache_dir='.')\n",
    "dataframe = pd.read_csv(csv_file)"
   ],
   "execution_count":2,
   "outputs":[
    {
     "name":"stdout",
     "text":[
      "Downloading data from http:\/\/storage.googleapis.com\/download.tensorflow.org\/data\/petfinder-mini.zip\n",
      "\r   8192\/1668792 [..............................] - ETA: 0s\b\b\b\b\b\b\b\b\b\b\b\b\b\b\b\b\b\b\b\b\b\b\b\b\b\b\b\b\b\b\b\b\b\b\b\b\b\b\b\b\b\b\b\b\b\b\b\b\b\b\b\b\b\b\b\b\b\b\r  49152\/1668792 [..............................] - ETA: 3s\b\b\b\b\b\b\b\b\b\b\b\b\b\b\b\b\b\b\b\b\b\b\b\b\b\b\b\b\b\b\b\b\b\b\b\b\b\b\b\b\b\b\b\b\b\b\b\b\b\b\b\b\b\b\b\b\b\b\r  81920\/1668792 [>.............................] - ETA: 4s\b\b\b\b\b\b\b\b\b\b\b\b\b\b\b\b\b\b\b\b\b\b\b\b\b\b\b\b\b\b\b\b\b\b\b\b\b\b\b\b\b\b\b\b\b\b\b\b\b\b\b\b\b\b\b\b\b\b\r 147456\/1668792 [=>............................] - ETA: 2s\b\b\b\b\b\b\b\b\b\b\b\b\b\b\b\b\b\b\b\b\b\b\b\b\b\b\b\b\b\b\b\b\b\b\b\b\b\b\b\b\b\b\b\b\b\b\b\b\b\b\b\b\b\b\b\b\b\b\r 229376\/1668792 [===>..........................] - ETA: 2s\b\b\b\b\b\b\b\b\b\b\b\b\b\b\b\b\b\b\b\b\b\b\b\b\b\b\b\b\b\b\b\b\b\b\b\b\b\b\b\b\b\b\b\b\b\b\b\b\b\b\b\b\b\b\b\b\b\b\r 311296\/1668792 [====>.........................] - ETA: 1s\b\b\b\b\b\b\b\b\b\b\b\b\b\b\b\b\b\b\b\b\b\b\b\b\b\b\b\b\b\b\b\b\b\b\b\b\b\b\b\b\b\b\b\b\b\b\b\b\b\b\b\b\b\b\b\b\b\b\r 442368\/1668792 [======>.......................] - ETA: 1s\b\b\b\b\b\b\b\b\b\b\b\b\b\b\b\b\b\b\b\b\b\b\b\b\b\b\b\b\b\b\b\b\b\b\b\b\b\b\b\b\b\b\b\b\b\b\b\b\b\b\b\b\b\b\b\b\b\b\r 638976\/1668792 [==========>...................] - ETA: 0s\b\b\b\b\b\b\b\b\b\b\b\b\b\b\b\b\b\b\b\b\b\b\b\b\b\b\b\b\b\b\b\b\b\b\b\b\b\b\b\b\b\b\b\b\b\b\b\b\b\b\b\b\b\b\b\b\b\b\r 901120\/1668792 [===============>..............] - ETA: 0s\b\b\b\b\b\b\b\b\b\b\b\b\b\b\b\b\b\b\b\b\b\b\b\b\b\b\b\b\b\b\b\b\b\b\b\b\b\b\b\b\b\b\b\b\b\b\b\b\b\b\b\b\b\b\b\b\b\b\r1327104\/1668792 [======================>.......] - ETA: 0s\b\b\b\b\b\b\b\b\b\b\b\b\b\b\b\b\b\b\b\b\b\b\b\b\b\b\b\b\b\b\b\b\b\b\b\b\b\b\b\b\b\b\b\b\b\b\b\b\b\b\b\b\b\b\b\b\b\b\r1668792\/1668792 [==============================] - 1s 0us\/step\n"
     ],
     "output_type":"stream"
    }
   ],
   "metadata":{
    "datalore":{
     "node_id":"ireTqElrWQ5nm4PmQ8Qsib",
     "type":"CODE",
     "hide_input_from_viewers":true,
     "hide_output_from_viewers":true
    }
   }
  },
  {
   "cell_type":"code",
   "source":[
    "dataframe.head()"
   ],
   "execution_count":3,
   "outputs":[
    {
     "data":{
      "text\/html":[
       "<div>\n",
       "<style scoped>\n",
       "    .dataframe tbody tr th:only-of-type {\n",
       "        vertical-align: middle;\n",
       "    }\n",
       "\n",
       "    .dataframe tbody tr th {\n",
       "        vertical-align: top;\n",
       "    }\n",
       "\n",
       "    .dataframe thead th {\n",
       "        text-align: right;\n",
       "    }\n",
       "<\/style>\n",
       "<table border=\"1\" class=\"dataframe\">\n",
       "  <thead>\n",
       "    <tr style=\"text-align: right;\">\n",
       "      <th><\/th>\n",
       "      <th>Type<\/th>\n",
       "      <th>Age<\/th>\n",
       "      <th>Breed1<\/th>\n",
       "      <th>Gender<\/th>\n",
       "      <th>Color1<\/th>\n",
       "      <th>Color2<\/th>\n",
       "      <th>MaturitySize<\/th>\n",
       "      <th>FurLength<\/th>\n",
       "      <th>Vaccinated<\/th>\n",
       "      <th>Sterilized<\/th>\n",
       "      <th>Health<\/th>\n",
       "      <th>Fee<\/th>\n",
       "      <th>Description<\/th>\n",
       "      <th>PhotoAmt<\/th>\n",
       "      <th>AdoptionSpeed<\/th>\n",
       "    <\/tr>\n",
       "  <\/thead>\n",
       "  <tbody>\n",
       "    <tr>\n",
       "      <th>0<\/th>\n",
       "      <td>Cat<\/td>\n",
       "      <td>3<\/td>\n",
       "      <td>Tabby<\/td>\n",
       "      <td>Male<\/td>\n",
       "      <td>Black<\/td>\n",
       "      <td>White<\/td>\n",
       "      <td>Small<\/td>\n",
       "      <td>Short<\/td>\n",
       "      <td>No<\/td>\n",
       "      <td>No<\/td>\n",
       "      <td>Healthy<\/td>\n",
       "      <td>100<\/td>\n",
       "      <td>Nibble is a 3+ month old ball of cuteness. He ...<\/td>\n",
       "      <td>1<\/td>\n",
       "      <td>2<\/td>\n",
       "    <\/tr>\n",
       "    <tr>\n",
       "      <th>1<\/th>\n",
       "      <td>Cat<\/td>\n",
       "      <td>1<\/td>\n",
       "      <td>Domestic Medium Hair<\/td>\n",
       "      <td>Male<\/td>\n",
       "      <td>Black<\/td>\n",
       "      <td>Brown<\/td>\n",
       "      <td>Medium<\/td>\n",
       "      <td>Medium<\/td>\n",
       "      <td>Not Sure<\/td>\n",
       "      <td>Not Sure<\/td>\n",
       "      <td>Healthy<\/td>\n",
       "      <td>0<\/td>\n",
       "      <td>I just found it alone yesterday near my apartm...<\/td>\n",
       "      <td>2<\/td>\n",
       "      <td>0<\/td>\n",
       "    <\/tr>\n",
       "    <tr>\n",
       "      <th>2<\/th>\n",
       "      <td>Dog<\/td>\n",
       "      <td>1<\/td>\n",
       "      <td>Mixed Breed<\/td>\n",
       "      <td>Male<\/td>\n",
       "      <td>Brown<\/td>\n",
       "      <td>White<\/td>\n",
       "      <td>Medium<\/td>\n",
       "      <td>Medium<\/td>\n",
       "      <td>Yes<\/td>\n",
       "      <td>No<\/td>\n",
       "      <td>Healthy<\/td>\n",
       "      <td>0<\/td>\n",
       "      <td>Their pregnant mother was dumped by her irresp...<\/td>\n",
       "      <td>7<\/td>\n",
       "      <td>3<\/td>\n",
       "    <\/tr>\n",
       "    <tr>\n",
       "      <th>3<\/th>\n",
       "      <td>Dog<\/td>\n",
       "      <td>4<\/td>\n",
       "      <td>Mixed Breed<\/td>\n",
       "      <td>Female<\/td>\n",
       "      <td>Black<\/td>\n",
       "      <td>Brown<\/td>\n",
       "      <td>Medium<\/td>\n",
       "      <td>Short<\/td>\n",
       "      <td>Yes<\/td>\n",
       "      <td>No<\/td>\n",
       "      <td>Healthy<\/td>\n",
       "      <td>150<\/td>\n",
       "      <td>Good guard dog, very alert, active, obedience ...<\/td>\n",
       "      <td>8<\/td>\n",
       "      <td>2<\/td>\n",
       "    <\/tr>\n",
       "    <tr>\n",
       "      <th>4<\/th>\n",
       "      <td>Dog<\/td>\n",
       "      <td>1<\/td>\n",
       "      <td>Mixed Breed<\/td>\n",
       "      <td>Male<\/td>\n",
       "      <td>Black<\/td>\n",
       "      <td>No Color<\/td>\n",
       "      <td>Medium<\/td>\n",
       "      <td>Short<\/td>\n",
       "      <td>No<\/td>\n",
       "      <td>No<\/td>\n",
       "      <td>Healthy<\/td>\n",
       "      <td>0<\/td>\n",
       "      <td>This handsome yet cute boy is up for adoption....<\/td>\n",
       "      <td>3<\/td>\n",
       "      <td>2<\/td>\n",
       "    <\/tr>\n",
       "  <\/tbody>\n",
       "<\/table>\n",
       "<\/div>"
      ]
     },
     "metadata":{
      
     },
     "output_type":"display_data"
    }
   ],
   "metadata":{
    "datalore":{
     "node_id":"FMWC0LHjGuJJ8X8fhwvfVz",
     "type":"CODE",
     "hide_input_from_viewers":true,
     "hide_output_from_viewers":true
    }
   }
  },
  {
   "cell_type":"code",
   "source":[
    "dataframe['target'] = np.where(dataframe['AdoptionSpeed']==4,0,1)\n",
    "dataframe = dataframe.drop(columns=['AdoptionSpeed','Description'])"
   ],
   "execution_count":4,
   "outputs":[
    
   ],
   "metadata":{
    "datalore":{
     "node_id":"xUNevLTtGUrWhYxsmW9V1G",
     "type":"CODE",
     "hide_input_from_viewers":true,
     "hide_output_from_viewers":true
    }
   }
  },
  {
   "cell_type":"code",
   "source":[
    "train,val,test = np.split(dataframe.sample(frac=1),[int(0.8*len(dataframe)),int(0.9*len(dataframe))])"
   ],
   "execution_count":5,
   "outputs":[
    
   ],
   "metadata":{
    "datalore":{
     "node_id":"61IemaI3D4mBBbcncqBquK",
     "type":"CODE",
     "hide_input_from_viewers":true,
     "hide_output_from_viewers":true
    }
   }
  },
  {
   "cell_type":"code",
   "source":[
    "print(len(train),'training examples')\n",
    "print(len(val),'validation examples')\n",
    "print(len(test),'test examples')"
   ],
   "execution_count":6,
   "outputs":[
    {
     "name":"stdout",
     "text":[
      "9229 training examples\n",
      "1154 validation examples\n",
      "1154 test examples\n"
     ],
     "output_type":"stream"
    }
   ],
   "metadata":{
    "datalore":{
     "node_id":"8pV1lWHr5Ch6rCQ8zevRpx",
     "type":"CODE",
     "hide_input_from_viewers":true,
     "hide_output_from_viewers":true
    }
   }
  },
  {
   "cell_type":"code",
   "source":[
    "#utworzenie potoku wejściowego\n",
    "def df_to_dataset(dataframe,shuffle=True, batch_size=32):\n",
    "    df = dataframe.copy()\n",
    "    labels = df.pop('target')\n",
    "    df = {key:value[:,tf.newaxis] for key,value in dataframe.items()}\n",
    "    ds = tf.data.Dataset.from_tensor_slices((dict(df),labels))\n",
    "    if shuffle:\n",
    "        ds = ds.shuffle(buffer_size=len(dataframe))\n",
    "    ds = ds.batch(batch_size)\n",
    "    ds = ds.prefetch(batch_size)\n",
    "    return ds"
   ],
   "execution_count":7,
   "outputs":[
    
   ],
   "metadata":{
    "datalore":{
     "node_id":"84e36Zkj9IR0NfmZxKhHvc",
     "type":"CODE",
     "hide_input_from_viewers":true,
     "hide_output_from_viewers":true
    }
   }
  },
  {
   "cell_type":"code",
   "source":[
    "batch_size = 5\n",
    "train_ds = df_to_dataset(train,batch_size = batch_size)"
   ],
   "execution_count":8,
   "outputs":[
    {
     "name":"stderr",
     "text":[
      "<ipython-input-7-005602ec104a>:5: FutureWarning: Support for multi-dimensional indexing (e.g. `obj[:, None]`) is deprecated and will be removed in a future version.  Convert to a numpy array before indexing instead.\n",
      "  df = {key:value[:,tf.newaxis] for key,value in dataframe.items()}\n"
     ],
     "output_type":"stream"
    }
   ],
   "metadata":{
    "datalore":{
     "node_id":"mxcl4fiSXdlSy2iI0kgIiY",
     "type":"CODE",
     "hide_input_from_viewers":true,
     "hide_output_from_viewers":true
    }
   }
  },
  {
   "cell_type":"code",
   "source":[
    "[(train_features,label_batch)] = train_ds.take(1)\n",
    "print('każdy przypadek:',list(train_features.keys()))\n",
    "print('Batch -> ages:',train_features['Age'])\n",
    "print('Batch dla celów:',label_batch)"
   ],
   "execution_count":9,
   "outputs":[
    {
     "name":"stdout",
     "text":[
      "każdy przypadek: ['Type', 'Age', 'Breed1', 'Gender', 'Color1', 'Color2', 'MaturitySize', 'FurLength', 'Vaccinated', 'Sterilized', 'Health', 'Fee', 'PhotoAmt', 'target']\n",
      "Batch -> ages: tf.Tensor(\n",
      "[[ 2]\n",
      " [ 6]\n",
      " [ 6]\n",
      " [ 3]\n",
      " [48]], shape=(5, 1), dtype=int64)\n",
      "Batch dla celów: tf.Tensor([1 1 1 1 1], shape=(5,), dtype=int64)\n"
     ],
     "output_type":"stream"
    }
   ],
   "metadata":{
    "datalore":{
     "node_id":"oMQ1GFyM4lNhCwlgrXu268",
     "type":"CODE",
     "hide_input_from_viewers":true,
     "hide_output_from_viewers":true
    }
   }
  }
 ],
 "metadata":{
  "kernelspec":{
   "display_name":"Python",
   "language":"python",
   "name":"python"
  },
  "datalore":{
   "computation_mode":"JUPYTER",
   "package_manager":"pip",
   "base_environment":"default",
   "packages":[
    
   ],
   "report_row_ids":[
    
   ],
   "version":3
  }
 },
 "nbformat":4,
 "nbformat_minor":4
}