{
 "cells":[
  {
   "cell_type":"code",
   "source":[
    "import numpy as np"
   ],
   "execution_count":11,
   "outputs":[
    
   ],
   "metadata":{
    "datalore":{
     "node_id":"6Fu7wwobYAIJOIJvVfmR3B",
     "type":"CODE",
     "hide_input_from_viewers":false,
     "hide_output_from_viewers":false
    }
   }
  },
  {
   "cell_type":"code",
   "source":[
    "arr = np.array([[1.,2.,3.],[6.,8.,9.]])\n",
    "arr"
   ],
   "execution_count":12,
   "outputs":[
    {
     "data":{
      "text\/html":[
       "<pre>array([[1., 2., 3.],\n",
       "       [6., 8., 9.]])<\/pre>"
      ]
     },
     "metadata":{
      
     },
     "output_type":"display_data"
    }
   ],
   "metadata":{
    "datalore":{
     "node_id":"lFKJQqX5EKXjqxvYAz51p0",
     "type":"CODE",
     "hide_input_from_viewers":false,
     "hide_output_from_viewers":false
    }
   }
  },
  {
   "cell_type":"code",
   "source":[
    "arr*arr"
   ],
   "execution_count":13,
   "outputs":[
    {
     "data":{
      "text\/html":[
       "<pre>array([[ 1.,  4.,  9.],\n",
       "       [36., 64., 81.]])<\/pre>"
      ]
     },
     "metadata":{
      
     },
     "output_type":"display_data"
    }
   ],
   "metadata":{
    "datalore":{
     "node_id":"Fv2H3PmwkHmDSErfh6hee3",
     "type":"CODE",
     "hide_input_from_viewers":false,
     "hide_output_from_viewers":false
    }
   }
  },
  {
   "cell_type":"code",
   "source":[
    "arr-arr"
   ],
   "execution_count":14,
   "outputs":[
    {
     "data":{
      "text\/html":[
       "<pre>array([[0., 0., 0.],\n",
       "       [0., 0., 0.]])<\/pre>"
      ]
     },
     "metadata":{
      
     },
     "output_type":"display_data"
    }
   ],
   "metadata":{
    "datalore":{
     "node_id":"fg9tkrSjnA9PnVkzsD90dv",
     "type":"CODE",
     "hide_input_from_viewers":false,
     "hide_output_from_viewers":false
    }
   }
  },
  {
   "cell_type":"code",
   "source":[
    "1\/arr"
   ],
   "execution_count":15,
   "outputs":[
    {
     "data":{
      "text\/html":[
       "<pre>array([[1.        , 0.5       , 0.33333333],\n",
       "       [0.16666667, 0.125     , 0.11111111]])<\/pre>"
      ]
     },
     "metadata":{
      
     },
     "output_type":"display_data"
    }
   ],
   "metadata":{
    "datalore":{
     "node_id":"NGNDAS58zgy5xRdK03ySyt",
     "type":"CODE",
     "hide_input_from_viewers":false,
     "hide_output_from_viewers":false
    }
   }
  },
  {
   "cell_type":"code",
   "source":[
    "arr**0.5"
   ],
   "execution_count":16,
   "outputs":[
    {
     "data":{
      "text\/html":[
       "<pre>array([[1.        , 1.41421356, 1.73205081],\n",
       "       [2.44948974, 2.82842712, 3.        ]])<\/pre>"
      ]
     },
     "metadata":{
      
     },
     "output_type":"display_data"
    }
   ],
   "metadata":{
    "datalore":{
     "node_id":"X1kUQUrNsk5v7Ir8jQM4HK",
     "type":"CODE",
     "hide_input_from_viewers":false,
     "hide_output_from_viewers":false
    }
   }
  },
  {
   "cell_type":"code",
   "source":[
    "arr2 = np.array([[0.,4.,1.],[7.,5.,14.]])\n",
    "arr2"
   ],
   "execution_count":17,
   "outputs":[
    {
     "data":{
      "text\/html":[
       "<pre>array([[ 0.,  4.,  1.],\n",
       "       [ 7.,  5., 14.]])<\/pre>"
      ]
     },
     "metadata":{
      
     },
     "output_type":"display_data"
    }
   ],
   "metadata":{
    "datalore":{
     "node_id":"Bnbc1RdrFEijiuTS6J8ece",
     "type":"CODE",
     "hide_input_from_viewers":false,
     "hide_output_from_viewers":false
    }
   }
  },
  {
   "cell_type":"code",
   "source":[
    "arr2>arr"
   ],
   "execution_count":18,
   "outputs":[
    {
     "data":{
      "text\/html":[
       "<pre>array([[False,  True, False],\n",
       "       [ True, False,  True]])<\/pre>"
      ]
     },
     "metadata":{
      
     },
     "output_type":"display_data"
    }
   ],
   "metadata":{
    "datalore":{
     "node_id":"mmVS24O0ZmS11VXXg3VI7L",
     "type":"CODE",
     "hide_input_from_viewers":false,
     "hide_output_from_viewers":false
    }
   }
  },
  {
   "cell_type":"code",
   "source":[
    "arr2d = np.array([[1,2,3],[4,5,6],[7,8,9]])\n",
    "arr2d[2]"
   ],
   "execution_count":19,
   "outputs":[
    {
     "data":{
      "text\/html":[
       "<pre>array([7, 8, 9])<\/pre>"
      ]
     },
     "metadata":{
      
     },
     "output_type":"display_data"
    }
   ],
   "metadata":{
    "datalore":{
     "node_id":"b9HKfJkBfgQhJsPgPqvqk2",
     "type":"CODE",
     "hide_input_from_viewers":false,
     "hide_output_from_viewers":false
    }
   }
  },
  {
   "cell_type":"code",
   "source":[
    "arr2d[0][2]"
   ],
   "execution_count":20,
   "outputs":[
    {
     "data":{
      "text\/plain":[
       "3"
      ]
     },
     "metadata":{
      
     },
     "output_type":"display_data"
    }
   ],
   "metadata":{
    "datalore":{
     "node_id":"wYICvN0CrcMraB9AzdpP8R",
     "type":"CODE",
     "hide_input_from_viewers":false,
     "hide_output_from_viewers":false
    }
   }
  },
  {
   "cell_type":"code",
   "source":[
    "arr2d[0,2]"
   ],
   "execution_count":21,
   "outputs":[
    {
     "data":{
      "text\/plain":[
       "3"
      ]
     },
     "metadata":{
      
     },
     "output_type":"display_data"
    }
   ],
   "metadata":{
    "datalore":{
     "node_id":"VBwdjaQISshl93Q5gjENw2",
     "type":"CODE",
     "hide_input_from_viewers":false,
     "hide_output_from_viewers":false
    }
   }
  },
  {
   "cell_type":"code",
   "source":[
    "zl = [[1,2,3],[4,5,6],[7,8,9]]"
   ],
   "execution_count":23,
   "outputs":[
    
   ],
   "metadata":{
    "datalore":{
     "node_id":"atDZM5CEReHSkDMAVgCGPs",
     "type":"CODE",
     "hide_input_from_viewers":false,
     "hide_output_from_viewers":false
    }
   }
  },
  {
   "cell_type":"code",
   "source":[
    "zl[0][2]"
   ],
   "execution_count":24,
   "outputs":[
    {
     "data":{
      "text\/plain":[
       "3"
      ]
     },
     "metadata":{
      
     },
     "output_type":"display_data"
    }
   ],
   "metadata":{
    "datalore":{
     "node_id":"aRNQSR1CxpGWd580a45wXU",
     "type":"CODE",
     "hide_input_from_viewers":false,
     "hide_output_from_viewers":false
    }
   }
  },
  {
   "cell_type":"code",
   "source":[
    "arr3d = np.array([[[1,2,3],[4,5,6]],[[7,8,9],[10,11,12]]])\n",
    "arr3d"
   ],
   "execution_count":26,
   "outputs":[
    {
     "data":{
      "text\/plain":[
       "array([[[ 1,  2,  3],\n",
       "        [ 4,  5,  6]],\n",
       "\n",
       "       [[ 7,  8,  9],\n",
       "        [10, 11, 12]]])"
      ]
     },
     "metadata":{
      
     },
     "output_type":"display_data"
    }
   ],
   "metadata":{
    "datalore":{
     "node_id":"zAqbNZ7QLTgVcBS1eW74Sd",
     "type":"CODE",
     "hide_input_from_viewers":false,
     "hide_output_from_viewers":false
    }
   }
  },
  {
   "cell_type":"code",
   "source":[
    "arr3d[0]"
   ],
   "execution_count":27,
   "outputs":[
    {
     "data":{
      "text\/html":[
       "<pre>array([[1, 2, 3],\n",
       "       [4, 5, 6]])<\/pre>"
      ]
     },
     "metadata":{
      
     },
     "output_type":"display_data"
    }
   ],
   "metadata":{
    "datalore":{
     "node_id":"X0lbuEqVmSYBZbQYb25lBW",
     "type":"CODE",
     "hide_input_from_viewers":false,
     "hide_output_from_viewers":false
    }
   }
  },
  {
   "cell_type":"code",
   "source":[
    "arr3d[1]"
   ],
   "execution_count":28,
   "outputs":[
    {
     "data":{
      "text\/html":[
       "<pre>array([[ 7,  8,  9],\n",
       "       [10, 11, 12]])<\/pre>"
      ]
     },
     "metadata":{
      
     },
     "output_type":"display_data"
    }
   ],
   "metadata":{
    "datalore":{
     "node_id":"ZiAJ9obL71tehtn22LfXxc",
     "type":"CODE",
     "hide_input_from_viewers":false,
     "hide_output_from_viewers":false
    }
   }
  },
  {
   "cell_type":"code",
   "source":[
    "old_values = arr3d[0].copy()\n",
    "arr3d[0]=42\n",
    "arr3d"
   ],
   "execution_count":29,
   "outputs":[
    {
     "data":{
      "text\/plain":[
       "array([[[42, 42, 42],\n",
       "        [42, 42, 42]],\n",
       "\n",
       "       [[ 7,  8,  9],\n",
       "        [10, 11, 12]]])"
      ]
     },
     "metadata":{
      
     },
     "output_type":"display_data"
    }
   ],
   "metadata":{
    "datalore":{
     "node_id":"Jd9PBfs0A1ojoIwEhvBnZ9",
     "type":"CODE",
     "hide_input_from_viewers":false,
     "hide_output_from_viewers":false
    }
   }
  },
  {
   "cell_type":"code",
   "source":[
    "arr3d[0] = old_values\n",
    "arr3d"
   ],
   "execution_count":30,
   "outputs":[
    {
     "data":{
      "text\/plain":[
       "array([[[ 1,  2,  3],\n",
       "        [ 4,  5,  6]],\n",
       "\n",
       "       [[ 7,  8,  9],\n",
       "        [10, 11, 12]]])"
      ]
     },
     "metadata":{
      
     },
     "output_type":"display_data"
    }
   ],
   "metadata":{
    "datalore":{
     "node_id":"5l8NGSZeDUP7vPD5u8637l",
     "type":"CODE",
     "hide_input_from_viewers":false,
     "hide_output_from_viewers":false
    }
   }
  },
  {
   "cell_type":"code",
   "source":[
    "arr3d[1,0,1]"
   ],
   "execution_count":33,
   "outputs":[
    {
     "data":{
      "text\/plain":[
       "8"
      ]
     },
     "metadata":{
      
     },
     "output_type":"display_data"
    }
   ],
   "metadata":{
    "datalore":{
     "node_id":"o6mmLb3z2tEtIPGYNenk96",
     "type":"CODE",
     "hide_input_from_viewers":false,
     "hide_output_from_viewers":false
    }
   }
  },
  {
   "cell_type":"code",
   "source":[
    "arr3d.shape"
   ],
   "execution_count":35,
   "outputs":[
    {
     "data":{
      "text\/plain":[
       "(2, 2, 3)"
      ]
     },
     "metadata":{
      
     },
     "output_type":"display_data"
    }
   ],
   "metadata":{
    "datalore":{
     "node_id":"50aRzSfxiQKmUlWJKtKJ5a",
     "type":"CODE",
     "hide_input_from_viewers":false,
     "hide_output_from_viewers":false
    }
   }
  },
  {
   "cell_type":"code",
   "source":[
    "names = np.array(['Olek','Anna','Piotr','Leon','Anna','Jan','Jan'])\n",
    "data = np.random.randn(7,4)\n",
    "names"
   ],
   "execution_count":36,
   "outputs":[
    {
     "data":{
      "text\/html":[
       "<pre>array(['Olek', 'Anna', 'Piotr', 'Leon', 'Anna', 'Jan', 'Jan'], dtype='%lt;U5')<\/pre>"
      ]
     },
     "metadata":{
      
     },
     "output_type":"display_data"
    }
   ],
   "metadata":{
    "datalore":{
     "node_id":"ZPiQF6bPAru2VdHFaV3KaA",
     "type":"CODE",
     "hide_input_from_viewers":false,
     "hide_output_from_viewers":false
    }
   }
  },
  {
   "cell_type":"code",
   "source":[
    "data"
   ],
   "execution_count":37,
   "outputs":[
    {
     "data":{
      "text\/html":[
       "<pre>array([[ 0.55101181,  0.80284508,  0.03207375, -0.22170979],\n",
       "       [-0.98381018, -0.4974583 ,  0.18958798,  2.69763193],\n",
       "       [-1.69977827, -1.69309975,  0.84966665,  1.72442334],\n",
       "       [ 0.09673967,  0.82961862, -0.50585894, -0.22291162],\n",
       "       [-0.18738336,  0.75910398,  0.41537938,  0.71069471],\n",
       "       [ 1.74927986, -1.45734864, -1.68049239,  0.86784638],\n",
       "       [-1.53912826, -0.72881836,  0.66615015,  0.30100792]])<\/pre>"
      ]
     },
     "metadata":{
      
     },
     "output_type":"display_data"
    }
   ],
   "metadata":{
    "datalore":{
     "node_id":"5jZ4OGae0PiwayvCFlrp4U",
     "type":"CODE",
     "hide_input_from_viewers":false,
     "hide_output_from_viewers":false
    }
   }
  },
  {
   "cell_type":"code",
   "source":[
    "names == 'Jan'"
   ],
   "execution_count":38,
   "outputs":[
    {
     "data":{
      "text\/html":[
       "<pre>array([False, False, False, False, False,  True,  True])<\/pre>"
      ]
     },
     "metadata":{
      
     },
     "output_type":"display_data"
    }
   ],
   "metadata":{
    "datalore":{
     "node_id":"O4rAsGNskWVxvcT6Z03T09",
     "type":"CODE",
     "hide_input_from_viewers":false,
     "hide_output_from_viewers":false
    }
   }
  },
  {
   "cell_type":"code",
   "source":[
    "data[names==\"Jan\"]"
   ],
   "execution_count":39,
   "outputs":[
    {
     "data":{
      "text\/html":[
       "<pre>array([[ 1.74927986, -1.45734864, -1.68049239,  0.86784638],\n",
       "       [-1.53912826, -0.72881836,  0.66615015,  0.30100792]])<\/pre>"
      ]
     },
     "metadata":{
      
     },
     "output_type":"display_data"
    }
   ],
   "metadata":{
    "datalore":{
     "node_id":"4ZmVl8mFuu2ZszEUUJQesO",
     "type":"CODE",
     "hide_input_from_viewers":false,
     "hide_output_from_viewers":false
    }
   }
  },
  {
   "cell_type":"code",
   "source":[
    "data[names==\"Jan\",2:]"
   ],
   "execution_count":40,
   "outputs":[
    {
     "data":{
      "text\/html":[
       "<pre>array([[-1.68049239,  0.86784638],\n",
       "       [ 0.66615015,  0.30100792]])<\/pre>"
      ]
     },
     "metadata":{
      
     },
     "output_type":"display_data"
    }
   ],
   "metadata":{
    "datalore":{
     "node_id":"xjxxYFU9W57iqwF3ti945Q",
     "type":"CODE",
     "hide_input_from_viewers":false,
     "hide_output_from_viewers":false
    }
   }
  },
  {
   "cell_type":"code",
   "source":[
    "data[names==\"Jan\",3]"
   ],
   "execution_count":41,
   "outputs":[
    {
     "data":{
      "text\/html":[
       "<pre>array([0.86784638, 0.30100792])<\/pre>"
      ]
     },
     "metadata":{
      
     },
     "output_type":"display_data"
    }
   ],
   "metadata":{
    "datalore":{
     "node_id":"GNOBIZHDt4OTFo0ZzX1T3r",
     "type":"CODE",
     "hide_input_from_viewers":false,
     "hide_output_from_viewers":false
    }
   }
  },
  {
   "cell_type":"code",
   "source":[
    "names != \"Jan\""
   ],
   "execution_count":42,
   "outputs":[
    {
     "data":{
      "text\/html":[
       "<pre>array([ True,  True,  True,  True,  True, False, False])<\/pre>"
      ]
     },
     "metadata":{
      
     },
     "output_type":"display_data"
    }
   ],
   "metadata":{
    "datalore":{
     "node_id":"lBWAF3ixYOjw8ePiI6s1Wc",
     "type":"CODE",
     "hide_input_from_viewers":false,
     "hide_output_from_viewers":false
    }
   }
  },
  {
   "cell_type":"code",
   "source":[
    "data[~(names=='Jan')]"
   ],
   "execution_count":43,
   "outputs":[
    {
     "data":{
      "text\/html":[
       "<pre>array([[ 0.55101181,  0.80284508,  0.03207375, -0.22170979],\n",
       "       [-0.98381018, -0.4974583 ,  0.18958798,  2.69763193],\n",
       "       [-1.69977827, -1.69309975,  0.84966665,  1.72442334],\n",
       "       [ 0.09673967,  0.82961862, -0.50585894, -0.22291162],\n",
       "       [-0.18738336,  0.75910398,  0.41537938,  0.71069471]])<\/pre>"
      ]
     },
     "metadata":{
      
     },
     "output_type":"display_data"
    }
   ],
   "metadata":{
    "datalore":{
     "node_id":"dra0WA6srNJHe3rYtWBmNV",
     "type":"CODE",
     "hide_input_from_viewers":false,
     "hide_output_from_viewers":false
    }
   }
  },
  {
   "cell_type":"code",
   "source":[
    "cond = names == \"Jan\"\n",
    "data[~cond]"
   ],
   "execution_count":44,
   "outputs":[
    {
     "data":{
      "text\/html":[
       "<pre>array([[ 0.55101181,  0.80284508,  0.03207375, -0.22170979],\n",
       "       [-0.98381018, -0.4974583 ,  0.18958798,  2.69763193],\n",
       "       [-1.69977827, -1.69309975,  0.84966665,  1.72442334],\n",
       "       [ 0.09673967,  0.82961862, -0.50585894, -0.22291162],\n",
       "       [-0.18738336,  0.75910398,  0.41537938,  0.71069471]])<\/pre>"
      ]
     },
     "metadata":{
      
     },
     "output_type":"display_data"
    }
   ],
   "metadata":{
    "datalore":{
     "node_id":"4hUi3YefK6LHmVuZBadvPI",
     "type":"CODE",
     "hide_input_from_viewers":false,
     "hide_output_from_viewers":false
    }
   }
  },
  {
   "cell_type":"code",
   "source":[
    "mask = (names==\"Jan\") | (names=='Anna')\n",
    "mask"
   ],
   "execution_count":45,
   "outputs":[
    {
     "data":{
      "text\/html":[
       "<pre>array([False,  True, False, False,  True,  True,  True])<\/pre>"
      ]
     },
     "metadata":{
      
     },
     "output_type":"display_data"
    }
   ],
   "metadata":{
    "datalore":{
     "node_id":"Sl8g3yW3kRSI92LrsLco8i",
     "type":"CODE",
     "hide_input_from_viewers":false,
     "hide_output_from_viewers":false
    }
   }
  },
  {
   "cell_type":"code",
   "source":[
    "data[mask]"
   ],
   "execution_count":46,
   "outputs":[
    {
     "data":{
      "text\/html":[
       "<pre>array([[-0.98381018, -0.4974583 ,  0.18958798,  2.69763193],\n",
       "       [-0.18738336,  0.75910398,  0.41537938,  0.71069471],\n",
       "       [ 1.74927986, -1.45734864, -1.68049239,  0.86784638],\n",
       "       [-1.53912826, -0.72881836,  0.66615015,  0.30100792]])<\/pre>"
      ]
     },
     "metadata":{
      
     },
     "output_type":"display_data"
    }
   ],
   "metadata":{
    "datalore":{
     "node_id":"3s39S6JaKUY4xAHJn5ggnW",
     "type":"CODE",
     "hide_input_from_viewers":false,
     "hide_output_from_viewers":false
    }
   }
  },
  {
   "cell_type":"code",
   "source":[
    "data[data<0] = 0\n",
    "data"
   ],
   "execution_count":47,
   "outputs":[
    {
     "data":{
      "text\/html":[
       "<pre>array([[0.55101181, 0.80284508, 0.03207375, 0.        ],\n",
       "       [0.        , 0.        , 0.18958798, 2.69763193],\n",
       "       [0.        , 0.        , 0.84966665, 1.72442334],\n",
       "       [0.09673967, 0.82961862, 0.        , 0.        ],\n",
       "       [0.        , 0.75910398, 0.41537938, 0.71069471],\n",
       "       [1.74927986, 0.        , 0.        , 0.86784638],\n",
       "       [0.        , 0.        , 0.66615015, 0.30100792]])<\/pre>"
      ]
     },
     "metadata":{
      
     },
     "output_type":"display_data"
    }
   ],
   "metadata":{
    "datalore":{
     "node_id":"2OWGeriVNBaYq85KyIuy5k",
     "type":"CODE",
     "hide_input_from_viewers":false,
     "hide_output_from_viewers":false
    }
   }
  },
  {
   "cell_type":"code",
   "source":[
    "data[names!='Olek'] = 8\n",
    "data"
   ],
   "execution_count":48,
   "outputs":[
    {
     "data":{
      "text\/html":[
       "<pre>array([[0.55101181, 0.80284508, 0.03207375, 0.        ],\n",
       "       [8.        , 8.        , 8.        , 8.        ],\n",
       "       [8.        , 8.        , 8.        , 8.        ],\n",
       "       [8.        , 8.        , 8.        , 8.        ],\n",
       "       [8.        , 8.        , 8.        , 8.        ],\n",
       "       [8.        , 8.        , 8.        , 8.        ],\n",
       "       [8.        , 8.        , 8.        , 8.        ]])<\/pre>"
      ]
     },
     "metadata":{
      
     },
     "output_type":"display_data"
    }
   ],
   "metadata":{
    "datalore":{
     "node_id":"J3y95OF8DwZIMyEWQ230L4",
     "type":"CODE",
     "hide_input_from_viewers":false,
     "hide_output_from_viewers":false
    }
   }
  },
  {
   "cell_type":"code",
   "source":[
    "#indeksowanie specjalne\n",
    "arr = np.empty((8,4))\n",
    "for i in range(8):\n",
    "    arr[i] = i\n",
    "\n",
    "arr"
   ],
   "execution_count":49,
   "outputs":[
    {
     "data":{
      "text\/html":[
       "<pre>array([[0., 0., 0., 0.],\n",
       "       [1., 1., 1., 1.],\n",
       "       [2., 2., 2., 2.],\n",
       "       [3., 3., 3., 3.],\n",
       "       [4., 4., 4., 4.],\n",
       "       [5., 5., 5., 5.],\n",
       "       [6., 6., 6., 6.],\n",
       "       [7., 7., 7., 7.]])<\/pre>"
      ]
     },
     "metadata":{
      
     },
     "output_type":"display_data"
    }
   ],
   "metadata":{
    "datalore":{
     "node_id":"CcIyUwgwTxfa6wOiEC9Vag",
     "type":"CODE",
     "hide_input_from_viewers":false,
     "hide_output_from_viewers":false
    }
   }
  },
  {
   "cell_type":"code",
   "source":[
    "arr[[4,3,0,6]]"
   ],
   "execution_count":50,
   "outputs":[
    {
     "data":{
      "text\/html":[
       "<pre>array([[4., 4., 4., 4.],\n",
       "       [3., 3., 3., 3.],\n",
       "       [0., 0., 0., 0.],\n",
       "       [6., 6., 6., 6.]])<\/pre>"
      ]
     },
     "metadata":{
      
     },
     "output_type":"display_data"
    }
   ],
   "metadata":{
    "datalore":{
     "node_id":"VMrekPGxx2CuNaxNS7hzW0",
     "type":"CODE",
     "hide_input_from_viewers":false,
     "hide_output_from_viewers":false
    }
   }
  },
  {
   "cell_type":"code",
   "source":[
    "arr[[-3,-6,-8]]"
   ],
   "execution_count":51,
   "outputs":[
    {
     "data":{
      "text\/html":[
       "<pre>array([[5., 5., 5., 5.],\n",
       "       [2., 2., 2., 2.],\n",
       "       [0., 0., 0., 0.]])<\/pre>"
      ]
     },
     "metadata":{
      
     },
     "output_type":"display_data"
    }
   ],
   "metadata":{
    "datalore":{
     "node_id":"fybtMZWgL7jewf2pyVUayY",
     "type":"CODE",
     "hide_input_from_viewers":false,
     "hide_output_from_viewers":false
    }
   }
  },
  {
   "cell_type":"code",
   "source":[
    "#transponowanie tablic i zmiana osi\n",
    "\n",
    "arr = np.arange(15).reshape((3,5))\n",
    "arr"
   ],
   "execution_count":52,
   "outputs":[
    {
     "data":{
      "text\/html":[
       "<pre>array([[ 0,  1,  2,  3,  4],\n",
       "       [ 5,  6,  7,  8,  9],\n",
       "       [10, 11, 12, 13, 14]])<\/pre>"
      ]
     },
     "metadata":{
      
     },
     "output_type":"display_data"
    }
   ],
   "metadata":{
    "datalore":{
     "node_id":"BjSYAMKb5704PDqzuQ0H7K",
     "type":"CODE",
     "hide_input_from_viewers":false,
     "hide_output_from_viewers":false
    }
   }
  },
  {
   "cell_type":"code",
   "source":[
    "arr.T"
   ],
   "execution_count":53,
   "outputs":[
    {
     "data":{
      "text\/html":[
       "<pre>array([[ 0,  5, 10],\n",
       "       [ 1,  6, 11],\n",
       "       [ 2,  7, 12],\n",
       "       [ 3,  8, 13],\n",
       "       [ 4,  9, 14]])<\/pre>"
      ]
     },
     "metadata":{
      
     },
     "output_type":"display_data"
    }
   ],
   "metadata":{
    "datalore":{
     "node_id":"mRXEs6Ha1RXobS6M1DA0Uj",
     "type":"CODE",
     "hide_input_from_viewers":false,
     "hide_output_from_viewers":false
    }
   }
  },
  {
   "cell_type":"code",
   "source":[
    "arr = np.random.randn(6,3)\n",
    "arr"
   ],
   "execution_count":54,
   "outputs":[
    {
     "data":{
      "text\/html":[
       "<pre>array([[ 0.70443951,  0.35869101,  0.64831301],\n",
       "       [-0.37579511, -1.35311771, -0.7051896 ],\n",
       "       [-0.61433452, -0.37487214, -1.57438623],\n",
       "       [-0.85880136, -0.56885579,  0.81976994],\n",
       "       [-0.38372605, -1.14822291, -1.01494502],\n",
       "       [ 0.18533577,  0.50114549, -0.14425079]])<\/pre>"
      ]
     },
     "metadata":{
      
     },
     "output_type":"display_data"
    }
   ],
   "metadata":{
    "datalore":{
     "node_id":"9IVE4mEkQtZRuZRzL7lceQ",
     "type":"CODE",
     "hide_input_from_viewers":false,
     "hide_output_from_viewers":false
    }
   }
  },
  {
   "cell_type":"code",
   "source":[
    "arr.T"
   ],
   "execution_count":55,
   "outputs":[
    {
     "data":{
      "text\/html":[
       "<pre>array([[ 0.70443951, -0.37579511, -0.61433452, -0.85880136, -0.38372605,\n",
       "         0.18533577],\n",
       "       [ 0.35869101, -1.35311771, -0.37487214, -0.56885579, -1.14822291,\n",
       "         0.50114549],\n",
       "       [ 0.64831301, -0.7051896 , -1.57438623,  0.81976994, -1.01494502,\n",
       "        -0.14425079]])<\/pre>"
      ]
     },
     "metadata":{
      
     },
     "output_type":"display_data"
    }
   ],
   "metadata":{
    "datalore":{
     "node_id":"ndbUzgEPZcmgyKVkJiETJt",
     "type":"CODE",
     "hide_input_from_viewers":false,
     "hide_output_from_viewers":false
    }
   }
  },
  {
   "cell_type":"code",
   "source":[
    "np.dot(arr.T,arr)"
   ],
   "execution_count":56,
   "outputs":[
    {
     "data":{
      "text\/html":[
       "<pre>array([[1.9339987 , 2.01348539, 1.34761038],\n",
       "       [2.01348539, 3.99327548, 2.40370374],\n",
       "       [1.34761038, 2.40370374, 5.11923856]])<\/pre>"
      ]
     },
     "metadata":{
      
     },
     "output_type":"display_data"
    }
   ],
   "metadata":{
    "datalore":{
     "node_id":"JMYrxGCWnJIlbFT3ujNuMr",
     "type":"CODE",
     "hide_input_from_viewers":false,
     "hide_output_from_viewers":false
    }
   }
  },
  {
   "cell_type":"code",
   "source":[
    "arr = np.arange(16).reshape((2,2,4))\n",
    "arr"
   ],
   "execution_count":62,
   "outputs":[
    {
     "data":{
      "text\/plain":[
       "array([[[ 0,  1,  2,  3],\n",
       "        [ 4,  5,  6,  7]],\n",
       "\n",
       "       [[ 8,  9, 10, 11],\n",
       "        [12, 13, 14, 15]]])"
      ]
     },
     "metadata":{
      
     },
     "output_type":"display_data"
    }
   ],
   "metadata":{
    "datalore":{
     "node_id":"9pggH3kJZGZDB5zdIiqV2g",
     "type":"CODE",
     "hide_input_from_viewers":false,
     "hide_output_from_viewers":false
    }
   }
  },
  {
   "cell_type":"code",
   "source":[
    "arr2 = arr.transpose((1,0,2))\n",
    "arr2"
   ],
   "execution_count":63,
   "outputs":[
    {
     "data":{
      "text\/plain":[
       "array([[[ 0,  1,  2,  3],\n",
       "        [ 8,  9, 10, 11]],\n",
       "\n",
       "       [[ 4,  5,  6,  7],\n",
       "        [12, 13, 14, 15]]])"
      ]
     },
     "metadata":{
      
     },
     "output_type":"display_data"
    }
   ],
   "metadata":{
    "datalore":{
     "node_id":"tQQUpnB3SBqbV0YHCUH2Ul",
     "type":"CODE",
     "hide_input_from_viewers":false,
     "hide_output_from_viewers":false
    }
   }
  },
  {
   "cell_type":"code",
   "source":[
    "arr"
   ],
   "execution_count":64,
   "outputs":[
    {
     "data":{
      "text\/plain":[
       "array([[[ 0,  1,  2,  3],\n",
       "        [ 4,  5,  6,  7]],\n",
       "\n",
       "       [[ 8,  9, 10, 11],\n",
       "        [12, 13, 14, 15]]])"
      ]
     },
     "metadata":{
      
     },
     "output_type":"display_data"
    }
   ],
   "metadata":{
    "datalore":{
     "node_id":"HoNfHw4et1P2b001xbYKcG",
     "type":"CODE",
     "hide_input_from_viewers":false,
     "hide_output_from_viewers":false
    }
   }
  },
  {
   "cell_type":"code",
   "source":[
    "arr3 = arr.swapaxes(1,2)\n",
    "arr3"
   ],
   "execution_count":66,
   "outputs":[
    {
     "data":{
      "text\/plain":[
       "array([[[ 0,  4],\n",
       "        [ 1,  5],\n",
       "        [ 2,  6],\n",
       "        [ 3,  7]],\n",
       "\n",
       "       [[ 8, 12],\n",
       "        [ 9, 13],\n",
       "        [10, 14],\n",
       "        [11, 15]]])"
      ]
     },
     "metadata":{
      
     },
     "output_type":"display_data"
    }
   ],
   "metadata":{
    "datalore":{
     "node_id":"ICRIIsM9g9qERzjPBk9q7k",
     "type":"CODE",
     "hide_input_from_viewers":false,
     "hide_output_from_viewers":false
    }
   }
  },
  {
   "cell_type":"code",
   "source":[
    "print(arr.shape)\n",
    "print(arr2.shape)\n",
    "print(arr3.shape)"
   ],
   "execution_count":68,
   "outputs":[
    {
     "name":"stdout",
     "text":[
      "(2, 2, 4)\n",
      "(2, 2, 4)\n",
      "(2, 4, 2)\n"
     ],
     "output_type":"stream"
    }
   ],
   "metadata":{
    "datalore":{
     "node_id":"pMYR4vXOPqsW1P4EgGcUrY",
     "type":"CODE",
     "hide_input_from_viewers":false,
     "hide_output_from_viewers":false
    }
   }
  }
 ],
 "metadata":{
  "kernelspec":{
   "display_name":"Python",
   "language":"python",
   "name":"python"
  },
  "datalore":{
   "version":1,
   "computation_mode":"JUPYTER",
   "package_manager":"pip",
   "base_environment":"default",
   "packages":[
    
   ]
  }
 },
 "nbformat":4,
 "nbformat_minor":4
}