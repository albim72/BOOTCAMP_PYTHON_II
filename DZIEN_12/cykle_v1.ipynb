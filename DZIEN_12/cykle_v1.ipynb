{
 "cells":[
  {
   "cell_type":"code",
   "source":[
    "from cycler import cycler\n",
    "import numpy as np\n",
    "import matplotlib\n",
    "import matplotlib.pyplot as plt"
   ],
   "execution_count":1,
   "outputs":[
    
   ],
   "metadata":{
    "datalore":{
     "node_id":"jz14ohjEFJGFFPOejBb8Yo",
     "type":"CODE",
     "hide_input_from_viewers":false,
     "hide_output_from_viewers":false
    }
   }
  },
  {
   "cell_type":"code",
   "source":[
    "cases = [\n",
    "    None,\n",
    "    8,\n",
    "    (30,8),\n",
    "    [16,24,30],\n",
    "    [0,-1],\n",
    "    slice(200,200,3),\n",
    "    0.1,\n",
    "    0.3,\n",
    "    (0.0,0.1),\n",
    "    (0.45,0.1)\n",
    "]\n",
    "\n",
    "colors = [\n",
    "    '#1f77b4',\n",
    "    '#ff7f0e',\n",
    "    '#2ca02c',\n",
    "    '#d62728',\n",
    "    '#9467bd',\n",
    "    '#8c564b',\n",
    "    '#e377c2',\n",
    "    '#7f7f7f',\n",
    "    '#bcbd22',\n",
    "    '#17becf',\n",
    "]"
   ],
   "execution_count":2,
   "outputs":[
    
   ],
   "metadata":{
    "datalore":{
     "node_id":"a5gsaZpzd8eMmZ5ntXKsW5",
     "type":"CODE",
     "hide_input_from_viewers":false,
     "hide_output_from_viewers":false
    }
   }
  }
 ],
 "metadata":{
  "kernelspec":{
   "display_name":"Python",
   "language":"python",
   "name":"python"
  },
  "datalore":{
   "version":1,
   "computation_mode":"JUPYTER",
   "package_manager":"pip",
   "base_environment":"default",
   "packages":[
    
   ]
  }
 },
 "nbformat":4,
 "nbformat_minor":4
}