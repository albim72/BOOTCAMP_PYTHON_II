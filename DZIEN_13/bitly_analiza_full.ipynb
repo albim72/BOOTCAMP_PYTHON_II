{
 "cells":[
  {
   "cell_type":"code",
   "source":[
    "import numpy as np\n",
    "import pandas as pd\n",
    "import json"
   ],
   "execution_count":1,
   "outputs":[
    
   ],
   "metadata":{
    "datalore":{
     "node_id":"CK5YMBOYr6dyEouwa0iC7W",
     "type":"CODE",
     "hide_input_from_viewers":false,
     "hide_output_from_viewers":false
    }
   }
  },
  {
   "cell_type":"code",
   "source":[
    "path = 'bitly.txt'\n",
    "open(path).readline()"
   ],
   "execution_count":2,
   "outputs":[
    {
     "data":{
      "text\/plain":[
       "'{ \"a\": \"Mozilla\\\\\/5.0 (Windows NT 6.1; WOW64) AppleWebKit\\\\\/535.11 (KHTML, like Gecko) Chrome\\\\\/17.0.963.78 Safari\\\\\/535.11\", \"c\": \"US\", \"nk\": 1, \"tz\": \"America\\\\\/New_York\", \"gr\": \"MA\", \"g\": \"A6qOVH\", \"h\": \"wfLQtf\", \"l\": \"orofrog\", \"al\": \"en-US,en;q=0.8\", \"hh\": \"1.usa.gov\", \"r\": \"http:\\\\\/\\\\\/www.facebook.com\\\\\/l\\\\\/7AQEFzjSi\\\\\/1.usa.gov\\\\\/wfLQtf\", \"u\": \"http:\\\\\/\\\\\/www.ncbi.nlm.nih.gov\\\\\/pubmed\\\\\/22415991\", \"t\": 1331923247, \"hc\": 1331822918, \"cy\": \"Danvers\", \"ll\": [ 42.576698, -70.954903 ] }\\n'"
      ]
     },
     "metadata":{
      
     },
     "output_type":"display_data"
    }
   ],
   "metadata":{
    "datalore":{
     "node_id":"QwtrMnERmJoV07dJCqaGVL",
     "type":"CODE",
     "hide_input_from_viewers":false,
     "hide_output_from_viewers":false
    }
   }
  },
  {
   "cell_type":"code",
   "source":[
    "records = [json.loads(line) for line in open(path)]\n",
    "records[0]"
   ],
   "execution_count":3,
   "outputs":[
    {
     "data":{
      "text\/plain":[
       "{'a': 'Mozilla\/5.0 (Windows NT 6.1; WOW64) AppleWebKit\/535.11 (KHTML, like Gecko) Chrome\/17.0.963.78 Safari\/535.11',\n",
       " 'c': 'US',\n",
       " 'nk': 1,\n",
       " 'tz': 'America\/New_York',\n",
       " 'gr': 'MA',\n",
       " 'g': 'A6qOVH',\n",
       " 'h': 'wfLQtf',\n",
       " 'l': 'orofrog',\n",
       " 'al': 'en-US,en;q=0.8',\n",
       " 'hh': '1.usa.gov',\n",
       " 'r': 'http:\/\/www.facebook.com\/l\/7AQEFzjSi\/1.usa.gov\/wfLQtf',\n",
       " 'u': 'http:\/\/www.ncbi.nlm.nih.gov\/pubmed\/22415991',\n",
       " 't': 1331923247,\n",
       " 'hc': 1331822918,\n",
       " 'cy': 'Danvers',\n",
       " 'll': [42.576698, -70.954903]}"
      ]
     },
     "metadata":{
      
     },
     "output_type":"display_data"
    }
   ],
   "metadata":{
    "datalore":{
     "node_id":"NCJJWlKAObei9NdFuFUaGM",
     "type":"CODE",
     "hide_input_from_viewers":false,
     "hide_output_from_viewers":false
    }
   }
  },
  {
   "cell_type":"code",
   "source":[
    "time_zones = [rec['tz'] for rec in records if 'tz' in rec]\n",
    "time_zones[:10]"
   ],
   "execution_count":4,
   "outputs":[
    {
     "data":{
      "text\/plain":[
       "['America\/New_York',\n",
       " 'America\/Denver',\n",
       " 'America\/New_York',\n",
       " 'America\/Sao_Paulo',\n",
       " 'America\/New_York',\n",
       " 'America\/New_York',\n",
       " 'Europe\/Warsaw',\n",
       " '',\n",
       " '',\n",
       " '']"
      ]
     },
     "metadata":{
      
     },
     "output_type":"display_data"
    }
   ],
   "metadata":{
    "datalore":{
     "node_id":"b3DKbvhV1DXmFnY1iZ14dd",
     "type":"CODE",
     "hide_input_from_viewers":false,
     "hide_output_from_viewers":false
    }
   }
  },
  {
   "cell_type":"code",
   "source":[
    "def get_counts(sequence):\n",
    "    counts = {}\n",
    "    for x in sequence:\n",
    "        if x in counts:\n",
    "            counts[x] += 1\n",
    "        else:\n",
    "            counts[x] = 1\n",
    "    return counts"
   ],
   "execution_count":5,
   "outputs":[
    
   ],
   "metadata":{
    "datalore":{
     "node_id":"Odu9U5brDqO16WuSjd3uK8",
     "type":"CODE",
     "hide_input_from_viewers":false,
     "hide_output_from_viewers":false
    }
   }
  },
  {
   "cell_type":"code",
   "source":[
    "from collections import defaultdict\n",
    "\n",
    "def get_counts2(sequence):\n",
    "    counts = defaultdict(int)\n",
    "    for x in sequence:\n",
    "        counts[x] += 1\n",
    "    return counts"
   ],
   "execution_count":6,
   "outputs":[
    
   ],
   "metadata":{
    "datalore":{
     "node_id":"HvjGzObM3wCNl7JdN5x9pn",
     "type":"CODE",
     "hide_input_from_viewers":false,
     "hide_output_from_viewers":false
    }
   }
  },
  {
   "cell_type":"code",
   "source":[
    "counts = get_counts(time_zones)\n",
    "counts['America\/New_York']"
   ],
   "execution_count":7,
   "outputs":[
    {
     "data":{
      "text\/plain":[
       "1251"
      ]
     },
     "metadata":{
      
     },
     "output_type":"display_data"
    }
   ],
   "metadata":{
    "datalore":{
     "node_id":"FLlXQGq1W43QthX1IMB6pz",
     "type":"CODE",
     "hide_input_from_viewers":false,
     "hide_output_from_viewers":false
    }
   }
  },
  {
   "cell_type":"code",
   "source":[
    "len(time_zones)"
   ],
   "execution_count":8,
   "outputs":[
    {
     "data":{
      "text\/plain":[
       "3440"
      ]
     },
     "metadata":{
      
     },
     "output_type":"display_data"
    }
   ],
   "metadata":{
    "datalore":{
     "node_id":"dsItiqG24SBJzuTf1Cinh8",
     "type":"CODE",
     "hide_input_from_viewers":false,
     "hide_output_from_viewers":false
    }
   }
  },
  {
   "cell_type":"code",
   "source":[
    "d = get_counts2(time_zones)\n",
    "d['America\/New_York']"
   ],
   "execution_count":9,
   "outputs":[
    {
     "data":{
      "text\/plain":[
       "1251"
      ]
     },
     "metadata":{
      
     },
     "output_type":"display_data"
    }
   ],
   "metadata":{
    "datalore":{
     "node_id":"dQBGm1AUPhjGJHQ2JItyA5",
     "type":"CODE",
     "hide_input_from_viewers":false,
     "hide_output_from_viewers":false
    }
   }
  },
  {
   "cell_type":"code",
   "source":[
    "def top_counts(count_dict,n=10):\n",
    "    value_key_pairs = [(count,tz) for tz,count in count_dict.items()]\n",
    "    value_key_pairs.sort()\n",
    "    return value_key_pairs[-n:]"
   ],
   "execution_count":10,
   "outputs":[
    
   ],
   "metadata":{
    "datalore":{
     "node_id":"oAQW3E5ptaA8A5ZkIBsC5f",
     "type":"CODE",
     "hide_input_from_viewers":false,
     "hide_output_from_viewers":false
    }
   }
  },
  {
   "cell_type":"code",
   "source":[
    "top_counts(counts)"
   ],
   "execution_count":11,
   "outputs":[
    {
     "data":{
      "text\/plain":[
       "[(33, 'America\/Sao_Paulo'),\n",
       " (35, 'Europe\/Madrid'),\n",
       " (36, 'Pacific\/Honolulu'),\n",
       " (37, 'Asia\/Tokyo'),\n",
       " (74, 'Europe\/London'),\n",
       " (191, 'America\/Denver'),\n",
       " (382, 'America\/Los_Angeles'),\n",
       " (400, 'America\/Chicago'),\n",
       " (521, ''),\n",
       " (1251, 'America\/New_York')]"
      ]
     },
     "metadata":{
      
     },
     "output_type":"display_data"
    }
   ],
   "metadata":{
    "datalore":{
     "node_id":"Y0kefPCDnm8pAKYtxKeY5E",
     "type":"CODE",
     "hide_input_from_viewers":false,
     "hide_output_from_viewers":false
    }
   }
  },
  {
   "cell_type":"code",
   "source":[
    "from collections import Counter\n",
    "counts = Counter(time_zones)\n",
    "counts.most_common(10)"
   ],
   "execution_count":12,
   "outputs":[
    {
     "data":{
      "text\/plain":[
       "[('America\/New_York', 1251),\n",
       " ('', 521),\n",
       " ('America\/Chicago', 400),\n",
       " ('America\/Los_Angeles', 382),\n",
       " ('America\/Denver', 191),\n",
       " ('Europe\/London', 74),\n",
       " ('Asia\/Tokyo', 37),\n",
       " ('Pacific\/Honolulu', 36),\n",
       " ('Europe\/Madrid', 35),\n",
       " ('America\/Sao_Paulo', 33)]"
      ]
     },
     "metadata":{
      
     },
     "output_type":"display_data"
    }
   ],
   "metadata":{
    "datalore":{
     "node_id":"WcaxJlbsBv6xqUkxHZtNpy",
     "type":"CODE",
     "hide_input_from_viewers":false,
     "hide_output_from_viewers":false
    }
   }
  },
  {
   "cell_type":"code",
   "source":[
    "frame = pd.DataFrame(records)\n",
    "frame.info()"
   ],
   "execution_count":13,
   "outputs":[
    {
     "name":"stdout",
     "text":[
      "<class 'pandas.core.frame.DataFrame'>\n",
      "RangeIndex: 3560 entries, 0 to 3559\n",
      "Data columns (total 18 columns):\n",
      " #   Column       Non-Null Count  Dtype  \n",
      "---  ------       --------------  -----  \n",
      " 0   a            3440 non-null   object \n",
      " 1   c            2919 non-null   object \n",
      " 2   nk           3440 non-null   float64\n",
      " 3   tz           3440 non-null   object \n",
      " 4   gr           2919 non-null   object \n",
      " 5   g            3440 non-null   object \n",
      " 6   h            3440 non-null   object \n",
      " 7   l            3440 non-null   object \n",
      " 8   al           3094 non-null   object \n",
      " 9   hh           3440 non-null   object \n",
      " 10  r            3440 non-null   object \n",
      " 11  u            3440 non-null   object \n",
      " 12  t            3440 non-null   float64\n",
      " 13  hc           3440 non-null   float64\n",
      " 14  cy           2919 non-null   object \n",
      " 15  ll           2919 non-null   object \n",
      " 16  _heartbeat_  120 non-null    float64\n",
      " 17  kw           93 non-null     object \n",
      "dtypes: float64(4), object(14)\n",
      "memory usage: 500.8+ KB\n"
     ],
     "output_type":"stream"
    }
   ],
   "metadata":{
    "datalore":{
     "node_id":"nYAo1UaHRMiP6cWS1OdvKZ",
     "type":"CODE",
     "hide_input_from_viewers":false,
     "hide_output_from_viewers":false
    }
   }
  },
  {
   "cell_type":"code",
   "source":[
    "tz_counts = frame['tz'].value_counts()\n",
    "tz_counts[:10]"
   ],
   "execution_count":14,
   "outputs":[
    {
     "data":{
      "text\/html":[
       "<pre>America\/New_York       1251\n",
       "                        521\n",
       "America\/Chicago         400\n",
       "America\/Los_Angeles     382\n",
       "America\/Denver          191\n",
       "Europe\/London            74\n",
       "Asia\/Tokyo               37\n",
       "Pacific\/Honolulu         36\n",
       "Europe\/Madrid            35\n",
       "America\/Sao_Paulo        33\n",
       "Name: tz, dtype: int64<\/pre>"
      ]
     },
     "metadata":{
      
     },
     "output_type":"display_data"
    }
   ],
   "metadata":{
    "datalore":{
     "node_id":"WD85gZZ9LParg8rBhlwSmN",
     "type":"CODE",
     "hide_input_from_viewers":false,
     "hide_output_from_viewers":false
    }
   }
  },
  {
   "cell_type":"code",
   "source":[
    "clean_tz = frame['tz'].fillna('Brak danych')\n",
    "clean_tz[clean_tz==''] = 'Nieznana'\n",
    "tz_counts = clean_tz.value_counts()\n",
    "tz_counts[:10]"
   ],
   "execution_count":15,
   "outputs":[
    {
     "data":{
      "text\/html":[
       "<pre>America\/New_York       1251\n",
       "Nieznana                521\n",
       "America\/Chicago         400\n",
       "America\/Los_Angeles     382\n",
       "America\/Denver          191\n",
       "Brak danych             120\n",
       "Europe\/London            74\n",
       "Asia\/Tokyo               37\n",
       "Pacific\/Honolulu         36\n",
       "Europe\/Madrid            35\n",
       "Name: tz, dtype: int64<\/pre>"
      ]
     },
     "metadata":{
      
     },
     "output_type":"display_data"
    }
   ],
   "metadata":{
    "datalore":{
     "node_id":"ITrOXYGiwhGK98ZJx5ceeO",
     "type":"CODE",
     "hide_input_from_viewers":false,
     "hide_output_from_viewers":false
    }
   }
  },
  {
   "cell_type":"code",
   "source":[
    "import seaborn as sns\n",
    "subset  = tz_counts[:10]\n",
    "sns.barplot(y=subset.index, x=subset.values)"
   ],
   "execution_count":16,
   "outputs":[
    {
     "data":{
      "text\/plain":[
       "<AxesSubplot:>"
      ]
     },
     "metadata":{
      
     },
     "output_type":"display_data"
    },
    {
     "data":{
      "image\/png":"[encoded data removed]"
     },
     "metadata":{
      "image\/png":{
       
      }
     },
     "output_type":"display_data"
    }
   ],
   "metadata":{
    "datalore":{
     "node_id":"cRjkoUSbzbKEtnqCty0Lmx",
     "type":"CODE",
     "hide_input_from_viewers":false,
     "hide_output_from_viewers":false
    }
   }
  },
  {
   "cell_type":"code",
   "source":[
    "frame['a'][1]"
   ],
   "execution_count":17,
   "outputs":[
    {
     "data":{
      "text\/plain":[
       "'GoogleMaps\/RochesterNY'"
      ]
     },
     "metadata":{
      
     },
     "output_type":"display_data"
    }
   ],
   "metadata":{
    "datalore":{
     "node_id":"3CeGZNg9Q4HFm5dGvUYyqq",
     "type":"CODE",
     "hide_input_from_viewers":false,
     "hide_output_from_viewers":false
    }
   }
  },
  {
   "cell_type":"code",
   "source":[
    "frame['a'][50]"
   ],
   "execution_count":18,
   "outputs":[
    {
     "data":{
      "text\/plain":[
       "'Mozilla\/5.0 (Windows NT 5.1; rv:10.0.2) Gecko\/20100101 Firefox\/10.0.2'"
      ]
     },
     "metadata":{
      
     },
     "output_type":"display_data"
    }
   ],
   "metadata":{
    "datalore":{
     "node_id":"i9ztzSZuQTjnX7XuXG9blz",
     "type":"CODE",
     "hide_input_from_viewers":false,
     "hide_output_from_viewers":false
    }
   }
  },
  {
   "cell_type":"code",
   "source":[
    "frame['a'][51][:50]"
   ],
   "execution_count":19,
   "outputs":[
    {
     "data":{
      "text\/plain":[
       "'Mozilla\/5.0 (Linux; U; Android 2.2.2; en-us; LG-P9'"
      ]
     },
     "metadata":{
      
     },
     "output_type":"display_data"
    }
   ],
   "metadata":{
    "datalore":{
     "node_id":"E2HQlDZoPdp7gYz5vaYAAd",
     "type":"CODE",
     "hide_input_from_viewers":false,
     "hide_output_from_viewers":false
    }
   }
  },
  {
   "cell_type":"code",
   "source":[
    "results = pd.Series([x.split()[0] for x in frame.a.dropna()])\n",
    "results[:5]"
   ],
   "execution_count":20,
   "outputs":[
    {
     "data":{
      "text\/html":[
       "<pre>0               Mozilla\/5.0\n",
       "1    GoogleMaps\/RochesterNY\n",
       "2               Mozilla\/4.0\n",
       "3               Mozilla\/5.0\n",
       "4               Mozilla\/5.0\n",
       "dtype: object<\/pre>"
      ]
     },
     "metadata":{
      
     },
     "output_type":"display_data"
    }
   ],
   "metadata":{
    "datalore":{
     "node_id":"H3rAxJRrH2WwQTHcdgsyln",
     "type":"CODE",
     "hide_input_from_viewers":false,
     "hide_output_from_viewers":false
    }
   }
  },
  {
   "cell_type":"code",
   "source":[
    "results.value_counts()[:8]"
   ],
   "execution_count":21,
   "outputs":[
    {
     "data":{
      "text\/html":[
       "<pre>Mozilla\/5.0                 2594\n",
       "Mozilla\/4.0                  601\n",
       "GoogleMaps\/RochesterNY       121\n",
       "Opera\/9.80                    34\n",
       "TEST_INTERNET_AGENT           24\n",
       "GoogleProducer                21\n",
       "Mozilla\/6.0                    5\n",
       "BlackBerry8520\/5.0.0.681       4\n",
       "dtype: int64<\/pre>"
      ]
     },
     "metadata":{
      
     },
     "output_type":"display_data"
    }
   ],
   "metadata":{
    "datalore":{
     "node_id":"TFacPV3Q6TaHiv7TithhN6",
     "type":"CODE",
     "hide_input_from_viewers":false,
     "hide_output_from_viewers":false
    }
   }
  },
  {
   "cell_type":"code",
   "source":[
    "cframe = frame[frame.a.notnull()]\n",
    "#print(cframe['a'].str.contains('Windows'))\n",
    "cframe = cframe.copy()\n",
    "cframe['os'] = np.where(cframe['a'].str.contains('Windows'),'Windows','Inny system')\n",
    "#cframe.insert(column='os',value='',loc=1)\n",
    "cframe['os'][:5]"
   ],
   "execution_count":24,
   "outputs":[
    {
     "data":{
      "text\/html":[
       "<pre>0        Windows\n",
       "1    Inny system\n",
       "2        Windows\n",
       "3    Inny system\n",
       "4        Windows\n",
       "Name: os, dtype: object<\/pre>"
      ]
     },
     "metadata":{
      
     },
     "output_type":"display_data"
    }
   ],
   "metadata":{
    "datalore":{
     "node_id":"5MQW1VPdauTAMJo4Bn5XAi",
     "type":"CODE",
     "hide_input_from_viewers":false,
     "hide_output_from_viewers":false
    }
   }
  },
  {
   "cell_type":"code",
   "source":[
    "by_tz_os = cframe.groupby(['tz','os'])\n",
    "agg_counts = by_tz_os.size().unstack().fillna(0)\n",
    "agg_counts[:10]"
   ],
   "execution_count":25,
   "outputs":[
    {
     "data":{
      "text\/html":[
       "<div>\n",
       "<style scoped>\n",
       "    .dataframe tbody tr th:only-of-type {\n",
       "        vertical-align: middle;\n",
       "    }\n",
       "\n",
       "    .dataframe tbody tr th {\n",
       "        vertical-align: top;\n",
       "    }\n",
       "\n",
       "    .dataframe thead th {\n",
       "        text-align: right;\n",
       "    }\n",
       "<\/style>\n",
       "<table border=\"1\" class=\"dataframe\">\n",
       "  <thead>\n",
       "    <tr style=\"text-align: right;\">\n",
       "      <th>os<\/th>\n",
       "      <th>Inny system<\/th>\n",
       "      <th>Windows<\/th>\n",
       "    <\/tr>\n",
       "    <tr>\n",
       "      <th>tz<\/th>\n",
       "      <th><\/th>\n",
       "      <th><\/th>\n",
       "    <\/tr>\n",
       "  <\/thead>\n",
       "  <tbody>\n",
       "    <tr>\n",
       "      <th><\/th>\n",
       "      <td>245.0<\/td>\n",
       "      <td>276.0<\/td>\n",
       "    <\/tr>\n",
       "    <tr>\n",
       "      <th>Africa\/Cairo<\/th>\n",
       "      <td>0.0<\/td>\n",
       "      <td>3.0<\/td>\n",
       "    <\/tr>\n",
       "    <tr>\n",
       "      <th>Africa\/Casablanca<\/th>\n",
       "      <td>0.0<\/td>\n",
       "      <td>1.0<\/td>\n",
       "    <\/tr>\n",
       "    <tr>\n",
       "      <th>Africa\/Ceuta<\/th>\n",
       "      <td>0.0<\/td>\n",
       "      <td>2.0<\/td>\n",
       "    <\/tr>\n",
       "    <tr>\n",
       "      <th>Africa\/Johannesburg<\/th>\n",
       "      <td>0.0<\/td>\n",
       "      <td>1.0<\/td>\n",
       "    <\/tr>\n",
       "    <tr>\n",
       "      <th>Africa\/Lusaka<\/th>\n",
       "      <td>0.0<\/td>\n",
       "      <td>1.0<\/td>\n",
       "    <\/tr>\n",
       "    <tr>\n",
       "      <th>America\/Anchorage<\/th>\n",
       "      <td>4.0<\/td>\n",
       "      <td>1.0<\/td>\n",
       "    <\/tr>\n",
       "    <tr>\n",
       "      <th>America\/Argentina\/Buenos_Aires<\/th>\n",
       "      <td>1.0<\/td>\n",
       "      <td>0.0<\/td>\n",
       "    <\/tr>\n",
       "    <tr>\n",
       "      <th>America\/Argentina\/Cordoba<\/th>\n",
       "      <td>0.0<\/td>\n",
       "      <td>1.0<\/td>\n",
       "    <\/tr>\n",
       "    <tr>\n",
       "      <th>America\/Argentina\/Mendoza<\/th>\n",
       "      <td>0.0<\/td>\n",
       "      <td>1.0<\/td>\n",
       "    <\/tr>\n",
       "  <\/tbody>\n",
       "<\/table>\n",
       "<\/div>"
      ]
     },
     "metadata":{
      
     },
     "output_type":"display_data"
    }
   ],
   "metadata":{
    "datalore":{
     "node_id":"RwRisM6gtv96tcD9Dwyrke",
     "type":"CODE",
     "hide_input_from_viewers":false,
     "hide_output_from_viewers":false
    }
   }
  },
  {
   "cell_type":"code",
   "source":[
    "indexer = agg_counts.sum(1).argsort()\n",
    "indexer[:10]"
   ],
   "execution_count":26,
   "outputs":[
    {
     "data":{
      "text\/html":[
       "<pre>tz\n",
       "                                  24\n",
       "Africa\/Cairo                      20\n",
       "Africa\/Casablanca                 21\n",
       "Africa\/Ceuta                      92\n",
       "Africa\/Johannesburg               87\n",
       "Africa\/Lusaka                     53\n",
       "America\/Anchorage                 54\n",
       "America\/Argentina\/Buenos_Aires    57\n",
       "America\/Argentina\/Cordoba         26\n",
       "America\/Argentina\/Mendoza         55\n",
       "dtype: int64<\/pre>"
      ]
     },
     "metadata":{
      
     },
     "output_type":"display_data"
    }
   ],
   "metadata":{
    "datalore":{
     "node_id":"43oMlI22rV0nre8FUU3JdC",
     "type":"CODE",
     "hide_input_from_viewers":false,
     "hide_output_from_viewers":false
    }
   }
  },
  {
   "cell_type":"code",
   "source":[
    "count_subset = agg_counts.take(indexer[-10:])\n",
    "count_subset"
   ],
   "execution_count":27,
   "outputs":[
    {
     "data":{
      "text\/html":[
       "<div>\n",
       "<style scoped>\n",
       "    .dataframe tbody tr th:only-of-type {\n",
       "        vertical-align: middle;\n",
       "    }\n",
       "\n",
       "    .dataframe tbody tr th {\n",
       "        vertical-align: top;\n",
       "    }\n",
       "\n",
       "    .dataframe thead th {\n",
       "        text-align: right;\n",
       "    }\n",
       "<\/style>\n",
       "<table border=\"1\" class=\"dataframe\">\n",
       "  <thead>\n",
       "    <tr style=\"text-align: right;\">\n",
       "      <th>os<\/th>\n",
       "      <th>Inny system<\/th>\n",
       "      <th>Windows<\/th>\n",
       "    <\/tr>\n",
       "    <tr>\n",
       "      <th>tz<\/th>\n",
       "      <th><\/th>\n",
       "      <th><\/th>\n",
       "    <\/tr>\n",
       "  <\/thead>\n",
       "  <tbody>\n",
       "    <tr>\n",
       "      <th>America\/Sao_Paulo<\/th>\n",
       "      <td>13.0<\/td>\n",
       "      <td>20.0<\/td>\n",
       "    <\/tr>\n",
       "    <tr>\n",
       "      <th>Europe\/Madrid<\/th>\n",
       "      <td>16.0<\/td>\n",
       "      <td>19.0<\/td>\n",
       "    <\/tr>\n",
       "    <tr>\n",
       "      <th>Pacific\/Honolulu<\/th>\n",
       "      <td>0.0<\/td>\n",
       "      <td>36.0<\/td>\n",
       "    <\/tr>\n",
       "    <tr>\n",
       "      <th>Asia\/Tokyo<\/th>\n",
       "      <td>2.0<\/td>\n",
       "      <td>35.0<\/td>\n",
       "    <\/tr>\n",
       "    <tr>\n",
       "      <th>Europe\/London<\/th>\n",
       "      <td>43.0<\/td>\n",
       "      <td>31.0<\/td>\n",
       "    <\/tr>\n",
       "    <tr>\n",
       "      <th>America\/Denver<\/th>\n",
       "      <td>132.0<\/td>\n",
       "      <td>59.0<\/td>\n",
       "    <\/tr>\n",
       "    <tr>\n",
       "      <th>America\/Los_Angeles<\/th>\n",
       "      <td>130.0<\/td>\n",
       "      <td>252.0<\/td>\n",
       "    <\/tr>\n",
       "    <tr>\n",
       "      <th>America\/Chicago<\/th>\n",
       "      <td>115.0<\/td>\n",
       "      <td>285.0<\/td>\n",
       "    <\/tr>\n",
       "    <tr>\n",
       "      <th><\/th>\n",
       "      <td>245.0<\/td>\n",
       "      <td>276.0<\/td>\n",
       "    <\/tr>\n",
       "    <tr>\n",
       "      <th>America\/New_York<\/th>\n",
       "      <td>339.0<\/td>\n",
       "      <td>912.0<\/td>\n",
       "    <\/tr>\n",
       "  <\/tbody>\n",
       "<\/table>\n",
       "<\/div>"
      ]
     },
     "metadata":{
      
     },
     "output_type":"display_data"
    }
   ],
   "metadata":{
    "datalore":{
     "node_id":"99M8BNXxi2G3O5WVctaNvM",
     "type":"CODE",
     "hide_input_from_viewers":false,
     "hide_output_from_viewers":false
    }
   }
  },
  {
   "cell_type":"code",
   "source":[
    "agg_counts.sum(1).nlargest(10)"
   ],
   "execution_count":28,
   "outputs":[
    {
     "data":{
      "text\/html":[
       "<pre>tz\n",
       "America\/New_York       1251.0\n",
       "                        521.0\n",
       "America\/Chicago         400.0\n",
       "America\/Los_Angeles     382.0\n",
       "America\/Denver          191.0\n",
       "Europe\/London            74.0\n",
       "Asia\/Tokyo               37.0\n",
       "Pacific\/Honolulu         36.0\n",
       "Europe\/Madrid            35.0\n",
       "America\/Sao_Paulo        33.0\n",
       "dtype: float64<\/pre>"
      ]
     },
     "metadata":{
      
     },
     "output_type":"display_data"
    }
   ],
   "metadata":{
    "datalore":{
     "node_id":"LljRNDzPfUXqfEu3FzifSn",
     "type":"CODE",
     "hide_input_from_viewers":false,
     "hide_output_from_viewers":false
    }
   }
  },
  {
   "cell_type":"code",
   "source":[
    "count_subset = count_subset.stack()\n",
    "count_subset.name = 'total'\n",
    "count_subset = count_subset.reset_index()\n",
    "count_subset[:10]"
   ],
   "execution_count":29,
   "outputs":[
    {
     "data":{
      "text\/html":[
       "<div>\n",
       "<style scoped>\n",
       "    .dataframe tbody tr th:only-of-type {\n",
       "        vertical-align: middle;\n",
       "    }\n",
       "\n",
       "    .dataframe tbody tr th {\n",
       "        vertical-align: top;\n",
       "    }\n",
       "\n",
       "    .dataframe thead th {\n",
       "        text-align: right;\n",
       "    }\n",
       "<\/style>\n",
       "<table border=\"1\" class=\"dataframe\">\n",
       "  <thead>\n",
       "    <tr style=\"text-align: right;\">\n",
       "      <th><\/th>\n",
       "      <th>tz<\/th>\n",
       "      <th>os<\/th>\n",
       "      <th>total<\/th>\n",
       "    <\/tr>\n",
       "  <\/thead>\n",
       "  <tbody>\n",
       "    <tr>\n",
       "      <th>0<\/th>\n",
       "      <td>America\/Sao_Paulo<\/td>\n",
       "      <td>Inny system<\/td>\n",
       "      <td>13.0<\/td>\n",
       "    <\/tr>\n",
       "    <tr>\n",
       "      <th>1<\/th>\n",
       "      <td>America\/Sao_Paulo<\/td>\n",
       "      <td>Windows<\/td>\n",
       "      <td>20.0<\/td>\n",
       "    <\/tr>\n",
       "    <tr>\n",
       "      <th>2<\/th>\n",
       "      <td>Europe\/Madrid<\/td>\n",
       "      <td>Inny system<\/td>\n",
       "      <td>16.0<\/td>\n",
       "    <\/tr>\n",
       "    <tr>\n",
       "      <th>3<\/th>\n",
       "      <td>Europe\/Madrid<\/td>\n",
       "      <td>Windows<\/td>\n",
       "      <td>19.0<\/td>\n",
       "    <\/tr>\n",
       "    <tr>\n",
       "      <th>4<\/th>\n",
       "      <td>Pacific\/Honolulu<\/td>\n",
       "      <td>Inny system<\/td>\n",
       "      <td>0.0<\/td>\n",
       "    <\/tr>\n",
       "    <tr>\n",
       "      <th>5<\/th>\n",
       "      <td>Pacific\/Honolulu<\/td>\n",
       "      <td>Windows<\/td>\n",
       "      <td>36.0<\/td>\n",
       "    <\/tr>\n",
       "    <tr>\n",
       "      <th>6<\/th>\n",
       "      <td>Asia\/Tokyo<\/td>\n",
       "      <td>Inny system<\/td>\n",
       "      <td>2.0<\/td>\n",
       "    <\/tr>\n",
       "    <tr>\n",
       "      <th>7<\/th>\n",
       "      <td>Asia\/Tokyo<\/td>\n",
       "      <td>Windows<\/td>\n",
       "      <td>35.0<\/td>\n",
       "    <\/tr>\n",
       "    <tr>\n",
       "      <th>8<\/th>\n",
       "      <td>Europe\/London<\/td>\n",
       "      <td>Inny system<\/td>\n",
       "      <td>43.0<\/td>\n",
       "    <\/tr>\n",
       "    <tr>\n",
       "      <th>9<\/th>\n",
       "      <td>Europe\/London<\/td>\n",
       "      <td>Windows<\/td>\n",
       "      <td>31.0<\/td>\n",
       "    <\/tr>\n",
       "  <\/tbody>\n",
       "<\/table>\n",
       "<\/div>"
      ]
     },
     "metadata":{
      
     },
     "output_type":"display_data"
    }
   ],
   "metadata":{
    "datalore":{
     "node_id":"dGen7XNr6k1Tj4YaRzZmVF",
     "type":"CODE",
     "hide_input_from_viewers":false,
     "hide_output_from_viewers":false
    }
   }
  },
  {
   "cell_type":"code",
   "source":[
    "sns.barplot(x='total',y='tz',hue='os',data=count_subset)"
   ],
   "execution_count":30,
   "outputs":[
    {
     "data":{
      "text\/plain":[
       "<AxesSubplot:xlabel='total', ylabel='tz'>"
      ]
     },
     "metadata":{
      
     },
     "output_type":"display_data"
    },
    {
     "data":{
      "image\/png":"[encoded data removed]"
     },
     "metadata":{
      "image\/png":{
       
      }
     },
     "output_type":"display_data"
    }
   ],
   "metadata":{
    "datalore":{
     "node_id":"wGVYfVGTn4ZyzHzRzzbvCH",
     "type":"CODE",
     "hide_input_from_viewers":false,
     "hide_output_from_viewers":false
    }
   }
  },
  {
   "cell_type":"code",
   "source":[
    "def norm_total(group):\n",
    "    group['normed_total'] = group.total\/group.total.sum()\n",
    "    return group\n",
    "\n",
    "results = count_subset.groupby('tz').apply(norm_total)"
   ],
   "execution_count":31,
   "outputs":[
    
   ],
   "metadata":{
    "datalore":{
     "node_id":"fz4EV5xNRjRWOPcxUT4rQA",
     "type":"CODE",
     "hide_input_from_viewers":false,
     "hide_output_from_viewers":false
    }
   }
  },
  {
   "cell_type":"code",
   "source":[
    "sns.barplot(x='normed_total',y='tz',hue='os',data=results)"
   ],
   "execution_count":32,
   "outputs":[
    {
     "data":{
      "text\/plain":[
       "<AxesSubplot:xlabel='normed_total', ylabel='tz'>"
      ]
     },
     "metadata":{
      
     },
     "output_type":"display_data"
    },
    {
     "data":{
      "image\/png":"[encoded data removed]"
     },
     "metadata":{
      "image\/png":{
       
      }
     },
     "output_type":"display_data"
    }
   ],
   "metadata":{
    "datalore":{
     "node_id":"v5Vf823SZ1thulk78s65tD",
     "type":"CODE",
     "hide_input_from_viewers":false,
     "hide_output_from_viewers":false
    }
   }
  }
 ],
 "metadata":{
  "kernelspec":{
   "display_name":"Python",
   "language":"python",
   "name":"python"
  },
  "datalore":{
   "version":1,
   "computation_mode":"JUPYTER",
   "package_manager":"pip",
   "base_environment":"default",
   "packages":[
    
   ]
  }
 },
 "nbformat":4,
 "nbformat_minor":4
}