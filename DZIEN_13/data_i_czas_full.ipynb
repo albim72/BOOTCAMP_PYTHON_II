{
 "cells":[
  {
   "cell_type":"code",
   "source":[
    "from datetime import datetime"
   ],
   "execution_count":85,
   "outputs":[
    
   ],
   "metadata":{
    "datalore":{
     "node_id":"OiZ0igGlepbM46QV9cbmNo",
     "type":"CODE",
     "hide_input_from_viewers":false,
     "hide_output_from_viewers":false
    }
   }
  },
  {
   "cell_type":"code",
   "source":[
    "now = datetime.now()\n",
    "now"
   ],
   "execution_count":86,
   "outputs":[
    {
     "data":{
      "text\/plain":[
       "datetime.datetime(2023, 2, 25, 8, 15, 42, 378430)"
      ]
     },
     "metadata":{
      
     },
     "output_type":"display_data"
    }
   ],
   "metadata":{
    "datalore":{
     "node_id":"U6Ty7mYUKcKry5IVGBJS36",
     "type":"CODE",
     "hide_input_from_viewers":false,
     "hide_output_from_viewers":false
    }
   }
  },
  {
   "cell_type":"code",
   "source":[
    "now.year, now.month, now.day"
   ],
   "execution_count":87,
   "outputs":[
    {
     "data":{
      "text\/plain":[
       "(2023, 2, 25)"
      ]
     },
     "metadata":{
      
     },
     "output_type":"display_data"
    }
   ],
   "metadata":{
    "datalore":{
     "node_id":"kOklF00NLOOw9m4nPygaEH",
     "type":"CODE",
     "hide_input_from_viewers":false,
     "hide_output_from_viewers":false
    }
   }
  },
  {
   "cell_type":"code",
   "source":[
    "delta = datetime(2011,1,7) - datetime(2008,6,24,8,15)\n",
    "delta"
   ],
   "execution_count":88,
   "outputs":[
    {
     "data":{
      "text\/plain":[
       "datetime.timedelta(days=926, seconds=56700)"
      ]
     },
     "metadata":{
      
     },
     "output_type":"display_data"
    }
   ],
   "metadata":{
    "datalore":{
     "node_id":"Jq5np2VsmCq6sm9Xn4G2jL",
     "type":"CODE",
     "hide_input_from_viewers":false,
     "hide_output_from_viewers":false
    }
   }
  },
  {
   "cell_type":"code",
   "source":[
    "delta.days"
   ],
   "execution_count":89,
   "outputs":[
    {
     "data":{
      "text\/plain":[
       "926"
      ]
     },
     "metadata":{
      
     },
     "output_type":"display_data"
    }
   ],
   "metadata":{
    "datalore":{
     "node_id":"7gUFxSLR2ohYAPmcz3oYa4",
     "type":"CODE",
     "hide_input_from_viewers":false,
     "hide_output_from_viewers":false
    }
   }
  },
  {
   "cell_type":"code",
   "source":[
    "from datetime import timedelta"
   ],
   "execution_count":90,
   "outputs":[
    
   ],
   "metadata":{
    "datalore":{
     "node_id":"IzTe7gF9djy8Nty69FlGAQ",
     "type":"CODE",
     "hide_input_from_viewers":false,
     "hide_output_from_viewers":false
    }
   }
  },
  {
   "cell_type":"code",
   "source":[
    "start = datetime(2011,1,7)\n",
    "start+timedelta(12)"
   ],
   "execution_count":91,
   "outputs":[
    {
     "data":{
      "text\/plain":[
       "datetime.datetime(2011, 1, 19, 0, 0)"
      ]
     },
     "metadata":{
      
     },
     "output_type":"display_data"
    }
   ],
   "metadata":{
    "datalore":{
     "node_id":"yk5gw1JnKpsJjYiRgltlIn",
     "type":"CODE",
     "hide_input_from_viewers":false,
     "hide_output_from_viewers":false
    }
   }
  },
  {
   "cell_type":"code",
   "source":[
    "start - 2*timedelta(12)"
   ],
   "execution_count":92,
   "outputs":[
    {
     "data":{
      "text\/plain":[
       "datetime.datetime(2010, 12, 14, 0, 0)"
      ]
     },
     "metadata":{
      
     },
     "output_type":"display_data"
    }
   ],
   "metadata":{
    "datalore":{
     "node_id":"xp8GHTWnyQrWg3TZiaxsKS",
     "type":"CODE",
     "hide_input_from_viewers":false,
     "hide_output_from_viewers":false
    }
   }
  },
  {
   "cell_type":"code",
   "source":[
    "stamp = datetime(2011,1,3)\n",
    "str(stamp)"
   ],
   "execution_count":93,
   "outputs":[
    {
     "data":{
      "text\/plain":[
       "'2011-01-03 00:00:00'"
      ]
     },
     "metadata":{
      
     },
     "output_type":"display_data"
    }
   ],
   "metadata":{
    "datalore":{
     "node_id":"yhA6yqxgBW9xddiwWpT3De",
     "type":"CODE",
     "hide_input_from_viewers":false,
     "hide_output_from_viewers":false
    }
   }
  },
  {
   "cell_type":"code",
   "source":[
    "start.strftime('%Y\/%d\/%m')"
   ],
   "execution_count":94,
   "outputs":[
    {
     "data":{
      "text\/plain":[
       "'2011\/07\/01'"
      ]
     },
     "metadata":{
      
     },
     "output_type":"display_data"
    }
   ],
   "metadata":{
    "datalore":{
     "node_id":"vmg5NdsaHOrGighcYWJQxV",
     "type":"CODE",
     "hide_input_from_viewers":false,
     "hide_output_from_viewers":false
    }
   }
  },
  {
   "cell_type":"code",
   "source":[
    "value = '2018-08-19'\n",
    "datetime.strptime(value,'%Y-%m-%d')"
   ],
   "execution_count":95,
   "outputs":[
    {
     "data":{
      "text\/plain":[
       "datetime.datetime(2018, 8, 19, 0, 0)"
      ]
     },
     "metadata":{
      
     },
     "output_type":"display_data"
    }
   ],
   "metadata":{
    "datalore":{
     "node_id":"rDWzbOlT3tEWKDtqxY8klJ",
     "type":"CODE",
     "hide_input_from_viewers":false,
     "hide_output_from_viewers":false
    }
   }
  },
  {
   "cell_type":"code",
   "source":[
    "datestr = ['7\/6\/2019','8\/6\/2019','12\/7\/2020']\n",
    "[datetime.strptime(x,'%m\/%d\/%Y') for x in datestr]"
   ],
   "execution_count":96,
   "outputs":[
    {
     "data":{
      "text\/plain":[
       "[datetime.datetime(2019, 7, 6, 0, 0),\n",
       " datetime.datetime(2019, 8, 6, 0, 0),\n",
       " datetime.datetime(2020, 12, 7, 0, 0)]"
      ]
     },
     "metadata":{
      
     },
     "output_type":"display_data"
    }
   ],
   "metadata":{
    "datalore":{
     "node_id":"kxcyrIoGlJ8TZ79Dke5P9p",
     "type":"CODE",
     "hide_input_from_viewers":false,
     "hide_output_from_viewers":false
    }
   }
  },
  {
   "cell_type":"code",
   "source":[
    "from dateutil.parser import parse"
   ],
   "execution_count":97,
   "outputs":[
    
   ],
   "metadata":{
    "datalore":{
     "node_id":"i7giezZxhwJgpBzmPp5gkq",
     "type":"CODE",
     "hide_input_from_viewers":false,
     "hide_output_from_viewers":false
    }
   }
  },
  {
   "cell_type":"code",
   "source":[
    "parse('2021-10-10')"
   ],
   "execution_count":98,
   "outputs":[
    {
     "data":{
      "text\/plain":[
       "datetime.datetime(2021, 10, 10, 0, 0)"
      ]
     },
     "metadata":{
      
     },
     "output_type":"display_data"
    }
   ],
   "metadata":{
    "datalore":{
     "node_id":"ajwbWlKFXFjzppqnqim4rC",
     "type":"CODE",
     "hide_input_from_viewers":false,
     "hide_output_from_viewers":false
    }
   }
  },
  {
   "cell_type":"code",
   "source":[
    "parse('2020.8.8')"
   ],
   "execution_count":99,
   "outputs":[
    {
     "data":{
      "text\/plain":[
       "datetime.datetime(2020, 8, 8, 0, 0)"
      ]
     },
     "metadata":{
      
     },
     "output_type":"display_data"
    }
   ],
   "metadata":{
    "datalore":{
     "node_id":"OZh0BfSdc7eRHjGHxCO6A3",
     "type":"CODE",
     "hide_input_from_viewers":false,
     "hide_output_from_viewers":false
    }
   }
  },
  {
   "cell_type":"code",
   "source":[
    "parse('Jan 31, 1997 10:45 PM')"
   ],
   "execution_count":100,
   "outputs":[
    {
     "data":{
      "text\/plain":[
       "datetime.datetime(1997, 1, 31, 22, 45)"
      ]
     },
     "metadata":{
      
     },
     "output_type":"display_data"
    }
   ],
   "metadata":{
    "datalore":{
     "node_id":"FRVJiuDrp4UiRkTDsOAGzG",
     "type":"CODE",
     "hide_input_from_viewers":false,
     "hide_output_from_viewers":false
    }
   }
  },
  {
   "cell_type":"code",
   "source":[
    "parse('6\/12\/2012', dayfirst=True)"
   ],
   "execution_count":101,
   "outputs":[
    {
     "data":{
      "text\/plain":[
       "datetime.datetime(2012, 12, 6, 0, 0)"
      ]
     },
     "metadata":{
      
     },
     "output_type":"display_data"
    }
   ],
   "metadata":{
    "datalore":{
     "node_id":"sc4tuD5AtVe2uTKFxx1Srb",
     "type":"CODE",
     "hide_input_from_viewers":false,
     "hide_output_from_viewers":false
    }
   }
  },
  {
   "cell_type":"code",
   "source":[
    "datestr = ['2012-07-06 12:11:19','2012-10-23 17:33:00']\n",
    "import pandas as pd\n",
    "pd.to_datetime(datestr)"
   ],
   "execution_count":102,
   "outputs":[
    {
     "data":{
      "text\/plain":[
       "DatetimeIndex(['2012-07-06 12:11:19', '2012-10-23 17:33:00'], dtype='datetime64[ns]', freq=None)"
      ]
     },
     "metadata":{
      
     },
     "output_type":"display_data"
    }
   ],
   "metadata":{
    "datalore":{
     "node_id":"bZp8RXqDduCbVh6xr9rXnE",
     "type":"CODE",
     "hide_input_from_viewers":false,
     "hide_output_from_viewers":false
    }
   }
  },
  {
   "cell_type":"code",
   "source":[
    "idx = pd.to_datetime(datestr + [None])\n",
    "idx"
   ],
   "execution_count":103,
   "outputs":[
    {
     "data":{
      "text\/plain":[
       "DatetimeIndex(['2012-07-06 12:11:19', '2012-10-23 17:33:00', 'NaT'], dtype='datetime64[ns]', freq=None)"
      ]
     },
     "metadata":{
      
     },
     "output_type":"display_data"
    }
   ],
   "metadata":{
    "datalore":{
     "node_id":"O2V9OUrVrfSQ774PX91PCt",
     "type":"CODE",
     "hide_input_from_viewers":false,
     "hide_output_from_viewers":false
    }
   }
  },
  {
   "cell_type":"code",
   "source":[
    "dates = [datetime(2011,1,2),datetime(2011,1,5),datetime(2011,1,7),datetime(2011,1,8),datetime(2011,1,12),datetime(2011,1,21)]"
   ],
   "execution_count":104,
   "outputs":[
    
   ],
   "metadata":{
    "datalore":{
     "node_id":"P9UDPEPBpyuueTBc7ZKLeL",
     "type":"CODE",
     "hide_input_from_viewers":false,
     "hide_output_from_viewers":false
    }
   }
  },
  {
   "cell_type":"code",
   "source":[
    "import numpy as np\n",
    "ts = pd.Series(np.random.randn(6),index=dates)\n",
    "ts"
   ],
   "execution_count":105,
   "outputs":[
    {
     "data":{
      "text\/html":[
       "<pre>2011-01-02    1.382874\n",
       "2011-01-05    1.783550\n",
       "2011-01-07   -3.285124\n",
       "2011-01-08    0.279650\n",
       "2011-01-12   -1.317467\n",
       "2011-01-21   -0.243745\n",
       "dtype: float64<\/pre>"
      ]
     },
     "metadata":{
      
     },
     "output_type":"display_data"
    }
   ],
   "metadata":{
    "datalore":{
     "node_id":"1nOAJMjxp5FsPJT6JbcH52",
     "type":"CODE",
     "hide_input_from_viewers":false,
     "hide_output_from_viewers":false
    }
   }
  },
  {
   "cell_type":"code",
   "source":[
    "ts.index"
   ],
   "execution_count":106,
   "outputs":[
    {
     "data":{
      "text\/plain":[
       "DatetimeIndex(['2011-01-02', '2011-01-05', '2011-01-07', '2011-01-08',\n",
       "               '2011-01-12', '2011-01-21'],\n",
       "              dtype='datetime64[ns]', freq=None)"
      ]
     },
     "metadata":{
      
     },
     "output_type":"display_data"
    }
   ],
   "metadata":{
    "datalore":{
     "node_id":"xgmwQXlTr8Rc8ez7dEYmlS",
     "type":"CODE",
     "hide_input_from_viewers":false,
     "hide_output_from_viewers":false
    }
   }
  },
  {
   "cell_type":"code",
   "source":[
    "ts + ts[::2]"
   ],
   "execution_count":107,
   "outputs":[
    {
     "data":{
      "text\/html":[
       "<pre>2011-01-02    2.765748\n",
       "2011-01-05         NaN\n",
       "2011-01-07   -6.570248\n",
       "2011-01-08         NaN\n",
       "2011-01-12   -2.634933\n",
       "2011-01-21         NaN\n",
       "dtype: float64<\/pre>"
      ]
     },
     "metadata":{
      
     },
     "output_type":"display_data"
    }
   ],
   "metadata":{
    "datalore":{
     "node_id":"ZQc2SMX6FZuurGCbpMZHKr",
     "type":"CODE",
     "hide_input_from_viewers":false,
     "hide_output_from_viewers":false
    }
   }
  },
  {
   "cell_type":"code",
   "source":[
    "stamp = ts.index[2]\n",
    "start"
   ],
   "execution_count":108,
   "outputs":[
    {
     "data":{
      "text\/plain":[
       "datetime.datetime(2011, 1, 7, 0, 0)"
      ]
     },
     "metadata":{
      
     },
     "output_type":"display_data"
    }
   ],
   "metadata":{
    "datalore":{
     "node_id":"ApsKx2WOBX3BLQ77j3ZalI",
     "type":"CODE",
     "hide_input_from_viewers":false,
     "hide_output_from_viewers":false
    }
   }
  },
  {
   "cell_type":"code",
   "source":[
    "ts[start]"
   ],
   "execution_count":109,
   "outputs":[
    {
     "data":{
      "text\/plain":[
       "-3.285124125825483"
      ]
     },
     "metadata":{
      
     },
     "output_type":"display_data"
    }
   ],
   "metadata":{
    "datalore":{
     "node_id":"TDMpqjX0LRAMv03gGFmQm1",
     "type":"CODE",
     "hide_input_from_viewers":false,
     "hide_output_from_viewers":false
    }
   }
  },
  {
   "cell_type":"code",
   "source":[
    "ts['1\/12\/2011']"
   ],
   "execution_count":110,
   "outputs":[
    {
     "data":{
      "text\/plain":[
       "-1.3174665626658595"
      ]
     },
     "metadata":{
      
     },
     "output_type":"display_data"
    }
   ],
   "metadata":{
    "datalore":{
     "node_id":"k63tPuxHL35p7W4TBV0lkj",
     "type":"CODE",
     "hide_input_from_viewers":false,
     "hide_output_from_viewers":false
    }
   }
  },
  {
   "cell_type":"code",
   "source":[
    "ts['20110105']"
   ],
   "execution_count":111,
   "outputs":[
    {
     "data":{
      "text\/plain":[
       "1.7835497824383582"
      ]
     },
     "metadata":{
      
     },
     "output_type":"display_data"
    }
   ],
   "metadata":{
    "datalore":{
     "node_id":"JcJvJNYF8jeU6Dqkz3U3zd",
     "type":"CODE",
     "hide_input_from_viewers":false,
     "hide_output_from_viewers":false
    }
   }
  },
  {
   "cell_type":"code",
   "source":[
    "longer_ts = pd.Series(np.random.randn(1000), index=pd.date_range('1\/1\/2020',periods=1000, freq='H'))\n",
    "longer_ts"
   ],
   "execution_count":112,
   "outputs":[
    {
     "data":{
      "text\/html":[
       "<pre>2020-01-01 00:00:00   -0.145357\n",
       "2020-01-01 01:00:00    1.430323\n",
       "2020-01-01 02:00:00   -0.124632\n",
       "2020-01-01 03:00:00   -1.602232\n",
       "2020-01-01 04:00:00    0.550303\n",
       "                         ...   \n",
       "2020-02-11 11:00:00    0.283822\n",
       "2020-02-11 12:00:00    0.754124\n",
       "2020-02-11 13:00:00    0.305277\n",
       "2020-02-11 14:00:00    0.405103\n",
       "2020-02-11 15:00:00    0.247800\n",
       "Freq: H, Length: 1000, dtype: float64<\/pre>"
      ]
     },
     "metadata":{
      
     },
     "output_type":"display_data"
    }
   ],
   "metadata":{
    "datalore":{
     "node_id":"dVLPqRQJAdSoeCBTQ3ULW3",
     "type":"CODE",
     "hide_input_from_viewers":false,
     "hide_output_from_viewers":false
    }
   }
  },
  {
   "cell_type":"code",
   "source":[
    "ts[datetime(2011,1,7):]"
   ],
   "execution_count":113,
   "outputs":[
    {
     "data":{
      "text\/html":[
       "<pre>2011-01-07   -3.285124\n",
       "2011-01-08    0.279650\n",
       "2011-01-12   -1.317467\n",
       "2011-01-21   -0.243745\n",
       "dtype: float64<\/pre>"
      ]
     },
     "metadata":{
      
     },
     "output_type":"display_data"
    }
   ],
   "metadata":{
    "datalore":{
     "node_id":"XlLn4moOVaU0pC4Jq62uOM",
     "type":"CODE",
     "hide_input_from_viewers":false,
     "hide_output_from_viewers":false
    }
   }
  },
  {
   "cell_type":"code",
   "source":[
    "index = pd.date_range('2012-04-01','2012-06-01')\n",
    "index"
   ],
   "execution_count":114,
   "outputs":[
    {
     "data":{
      "text\/plain":[
       "DatetimeIndex(['2012-04-01', '2012-04-02', '2012-04-03', '2012-04-04',\n",
       "               '2012-04-05', '2012-04-06', '2012-04-07', '2012-04-08',\n",
       "               '2012-04-09', '2012-04-10', '2012-04-11', '2012-04-12',\n",
       "               '2012-04-13', '2012-04-14', '2012-04-15', '2012-04-16',\n",
       "               '2012-04-17', '2012-04-18', '2012-04-19', '2012-04-20',\n",
       "               '2012-04-21', '2012-04-22', '2012-04-23', '2012-04-24',\n",
       "               '2012-04-25', '2012-04-26', '2012-04-27', '2012-04-28',\n",
       "               '2012-04-29', '2012-04-30', '2012-05-01', '2012-05-02',\n",
       "               '2012-05-03', '2012-05-04', '2012-05-05', '2012-05-06',\n",
       "               '2012-05-07', '2012-05-08', '2012-05-09', '2012-05-10',\n",
       "               '2012-05-11', '2012-05-12', '2012-05-13', '2012-05-14',\n",
       "               '2012-05-15', '2012-05-16', '2012-05-17', '2012-05-18',\n",
       "               '2012-05-19', '2012-05-20', '2012-05-21', '2012-05-22',\n",
       "               '2012-05-23', '2012-05-24', '2012-05-25', '2012-05-26',\n",
       "               '2012-05-27', '2012-05-28', '2012-05-29', '2012-05-30',\n",
       "               '2012-05-31', '2012-06-01'],\n",
       "              dtype='datetime64[ns]', freq='D')"
      ]
     },
     "metadata":{
      
     },
     "output_type":"display_data"
    }
   ],
   "metadata":{
    "datalore":{
     "node_id":"30EOqRJC2iPzhrVkIIs1Q7",
     "type":"CODE",
     "hide_input_from_viewers":false,
     "hide_output_from_viewers":false
    }
   }
  },
  {
   "cell_type":"code",
   "source":[
    "pd.date_range(start='2012-10-10',periods=20)"
   ],
   "execution_count":115,
   "outputs":[
    {
     "data":{
      "text\/plain":[
       "DatetimeIndex(['2012-10-10', '2012-10-11', '2012-10-12', '2012-10-13',\n",
       "               '2012-10-14', '2012-10-15', '2012-10-16', '2012-10-17',\n",
       "               '2012-10-18', '2012-10-19', '2012-10-20', '2012-10-21',\n",
       "               '2012-10-22', '2012-10-23', '2012-10-24', '2012-10-25',\n",
       "               '2012-10-26', '2012-10-27', '2012-10-28', '2012-10-29'],\n",
       "              dtype='datetime64[ns]', freq='D')"
      ]
     },
     "metadata":{
      
     },
     "output_type":"display_data"
    }
   ],
   "metadata":{
    "datalore":{
     "node_id":"APo4NazQsZcesJC33tTZlZ",
     "type":"CODE",
     "hide_input_from_viewers":false,
     "hide_output_from_viewers":false
    }
   }
  },
  {
   "cell_type":"code",
   "source":[
    "pd.date_range(end='2012-10-10',periods=20)"
   ],
   "execution_count":116,
   "outputs":[
    {
     "data":{
      "text\/plain":[
       "DatetimeIndex(['2012-09-21', '2012-09-22', '2012-09-23', '2012-09-24',\n",
       "               '2012-09-25', '2012-09-26', '2012-09-27', '2012-09-28',\n",
       "               '2012-09-29', '2012-09-30', '2012-10-01', '2012-10-02',\n",
       "               '2012-10-03', '2012-10-04', '2012-10-05', '2012-10-06',\n",
       "               '2012-10-07', '2012-10-08', '2012-10-09', '2012-10-10'],\n",
       "              dtype='datetime64[ns]', freq='D')"
      ]
     },
     "metadata":{
      
     },
     "output_type":"display_data"
    }
   ],
   "metadata":{
    "datalore":{
     "node_id":"56N2PjxgulWpsHnuMFb93G",
     "type":"CODE",
     "hide_input_from_viewers":false,
     "hide_output_from_viewers":false
    }
   }
  },
  {
   "cell_type":"code",
   "source":[
    "pd.date_range('2018-01-01','2018-12-02',freq='BM')"
   ],
   "execution_count":117,
   "outputs":[
    {
     "data":{
      "text\/plain":[
       "DatetimeIndex(['2018-01-31', '2018-02-28', '2018-03-30', '2018-04-30',\n",
       "               '2018-05-31', '2018-06-29', '2018-07-31', '2018-08-31',\n",
       "               '2018-09-28', '2018-10-31', '2018-11-30'],\n",
       "              dtype='datetime64[ns]', freq='BM')"
      ]
     },
     "metadata":{
      
     },
     "output_type":"display_data"
    }
   ],
   "metadata":{
    "datalore":{
     "node_id":"pJeOKT30iEUm2GIL0AsKmy",
     "type":"CODE",
     "hide_input_from_viewers":false,
     "hide_output_from_viewers":false
    }
   }
  },
  {
   "cell_type":"code",
   "source":[
    "from pandas.tseries.offsets import Hour,Minute"
   ],
   "execution_count":118,
   "outputs":[
    
   ],
   "metadata":{
    "datalore":{
     "node_id":"56lQ2MomWofvEBBNYHzFeU",
     "type":"CODE",
     "hide_input_from_viewers":false,
     "hide_output_from_viewers":false
    }
   }
  },
  {
   "cell_type":"code",
   "source":[
    "hour = Hour()\n",
    "hour"
   ],
   "execution_count":119,
   "outputs":[
    {
     "data":{
      "text\/plain":[
       "<Hour>"
      ]
     },
     "metadata":{
      
     },
     "output_type":"display_data"
    }
   ],
   "metadata":{
    "datalore":{
     "node_id":"KqtUVXOaPJySKs3wBcSrDK",
     "type":"CODE",
     "hide_input_from_viewers":false,
     "hide_output_from_viewers":false
    }
   }
  },
  {
   "cell_type":"code",
   "source":[
    "four_h = Hour(4)\n",
    "four_h"
   ],
   "execution_count":120,
   "outputs":[
    {
     "data":{
      "text\/plain":[
       "<4 * Hours>"
      ]
     },
     "metadata":{
      
     },
     "output_type":"display_data"
    }
   ],
   "metadata":{
    "datalore":{
     "node_id":"bkeG2nWWgewIkUgBymSTyw",
     "type":"CODE",
     "hide_input_from_viewers":false,
     "hide_output_from_viewers":false
    }
   }
  },
  {
   "cell_type":"code",
   "source":[
    "pd.date_range('2000-01-01','2000-01-03', freq='4h')"
   ],
   "execution_count":121,
   "outputs":[
    {
     "data":{
      "text\/plain":[
       "DatetimeIndex(['2000-01-01 00:00:00', '2000-01-01 04:00:00',\n",
       "               '2000-01-01 08:00:00', '2000-01-01 12:00:00',\n",
       "               '2000-01-01 16:00:00', '2000-01-01 20:00:00',\n",
       "               '2000-01-02 00:00:00', '2000-01-02 04:00:00',\n",
       "               '2000-01-02 08:00:00', '2000-01-02 12:00:00',\n",
       "               '2000-01-02 16:00:00', '2000-01-02 20:00:00',\n",
       "               '2000-01-03 00:00:00'],\n",
       "              dtype='datetime64[ns]', freq='4H')"
      ]
     },
     "metadata":{
      
     },
     "output_type":"display_data"
    }
   ],
   "metadata":{
    "datalore":{
     "node_id":"zWRKzppYahrom2Y1WND6Ti",
     "type":"CODE",
     "hide_input_from_viewers":false,
     "hide_output_from_viewers":false
    }
   }
  },
  {
   "cell_type":"code",
   "source":[
    "Hour(2)+Minute(30)"
   ],
   "execution_count":122,
   "outputs":[
    {
     "data":{
      "text\/plain":[
       "<150 * Minutes>"
      ]
     },
     "metadata":{
      
     },
     "output_type":"display_data"
    }
   ],
   "metadata":{
    "datalore":{
     "node_id":"11Tp1AYmlilLrSNNkOGHG7",
     "type":"CODE",
     "hide_input_from_viewers":false,
     "hide_output_from_viewers":false
    }
   }
  },
  {
   "cell_type":"code",
   "source":[
    "pd.date_range('2000-01-01',periods=10,freq='1h30min')"
   ],
   "execution_count":123,
   "outputs":[
    {
     "data":{
      "text\/plain":[
       "DatetimeIndex(['2000-01-01 00:00:00', '2000-01-01 01:30:00',\n",
       "               '2000-01-01 03:00:00', '2000-01-01 04:30:00',\n",
       "               '2000-01-01 06:00:00', '2000-01-01 07:30:00',\n",
       "               '2000-01-01 09:00:00', '2000-01-01 10:30:00',\n",
       "               '2000-01-01 12:00:00', '2000-01-01 13:30:00'],\n",
       "              dtype='datetime64[ns]', freq='90T')"
      ]
     },
     "metadata":{
      
     },
     "output_type":"display_data"
    }
   ],
   "metadata":{
    "datalore":{
     "node_id":"Np1Bjm1afJBdgnxJtEm08P",
     "type":"CODE",
     "hide_input_from_viewers":false,
     "hide_output_from_viewers":false
    }
   }
  },
  {
   "cell_type":"code",
   "source":[
    "rng = pd.date_range('2012-01-01', '2012-09-01',freq='WOM-3FRI')\n",
    "list(rng)"
   ],
   "execution_count":125,
   "outputs":[
    {
     "data":{
      "text\/plain":[
       "[Timestamp('2012-01-20 00:00:00', freq='WOM-3FRI'),\n",
       " Timestamp('2012-02-17 00:00:00', freq='WOM-3FRI'),\n",
       " Timestamp('2012-03-16 00:00:00', freq='WOM-3FRI'),\n",
       " Timestamp('2012-04-20 00:00:00', freq='WOM-3FRI'),\n",
       " Timestamp('2012-05-18 00:00:00', freq='WOM-3FRI'),\n",
       " Timestamp('2012-06-15 00:00:00', freq='WOM-3FRI'),\n",
       " Timestamp('2012-07-20 00:00:00', freq='WOM-3FRI'),\n",
       " Timestamp('2012-08-17 00:00:00', freq='WOM-3FRI')]"
      ]
     },
     "metadata":{
      
     },
     "output_type":"display_data"
    }
   ],
   "metadata":{
    "datalore":{
     "node_id":"knqRofAAXC2F50PYiLkNZu",
     "type":"CODE",
     "hide_input_from_viewers":false,
     "hide_output_from_viewers":false
    }
   }
  },
  {
   "cell_type":"code",
   "source":[
    "ts = pd.Series(np.random.rand(4),index=pd.date_range('1\/1\/2000',periods=4, freq='M'))\n",
    "ts"
   ],
   "execution_count":126,
   "outputs":[
    {
     "data":{
      "text\/html":[
       "<pre>2000-01-31    0.738338\n",
       "2000-02-29    0.933842\n",
       "2000-03-31    0.146199\n",
       "2000-04-30    0.117280\n",
       "Freq: M, dtype: float64<\/pre>"
      ]
     },
     "metadata":{
      
     },
     "output_type":"display_data"
    }
   ],
   "metadata":{
    "datalore":{
     "node_id":"yxtVUxrgjLUo0YhTUz6HHz",
     "type":"CODE",
     "hide_input_from_viewers":false,
     "hide_output_from_viewers":false
    }
   }
  },
  {
   "cell_type":"code",
   "source":[
    "ts.shift(2)"
   ],
   "execution_count":127,
   "outputs":[
    {
     "data":{
      "text\/html":[
       "<pre>2000-01-31         NaN\n",
       "2000-02-29         NaN\n",
       "2000-03-31    0.738338\n",
       "2000-04-30    0.933842\n",
       "Freq: M, dtype: float64<\/pre>"
      ]
     },
     "metadata":{
      
     },
     "output_type":"display_data"
    }
   ],
   "metadata":{
    "datalore":{
     "node_id":"y5hYLn01y0o51yr3F3Ala1",
     "type":"CODE",
     "hide_input_from_viewers":false,
     "hide_output_from_viewers":false
    }
   }
  },
  {
   "cell_type":"code",
   "source":[
    "ts.shift(-2)"
   ],
   "execution_count":128,
   "outputs":[
    {
     "data":{
      "text\/html":[
       "<pre>2000-01-31    0.146199\n",
       "2000-02-29    0.117280\n",
       "2000-03-31         NaN\n",
       "2000-04-30         NaN\n",
       "Freq: M, dtype: float64<\/pre>"
      ]
     },
     "metadata":{
      
     },
     "output_type":"display_data"
    }
   ],
   "metadata":{
    "datalore":{
     "node_id":"b91szvji7RZYkxLIW8hDFw",
     "type":"CODE",
     "hide_input_from_viewers":false,
     "hide_output_from_viewers":false
    }
   }
  },
  {
   "cell_type":"code",
   "source":[
    "from pandas.tseries.offsets import Day,MonthEnd"
   ],
   "execution_count":129,
   "outputs":[
    
   ],
   "metadata":{
    "datalore":{
     "node_id":"AHckyR5j2PdHN61lQYrXnT",
     "type":"CODE",
     "hide_input_from_viewers":false,
     "hide_output_from_viewers":false
    }
   }
  },
  {
   "cell_type":"code",
   "source":[
    "now = datetime(2011,11,17)\n",
    "now+3*Day()"
   ],
   "execution_count":131,
   "outputs":[
    {
     "data":{
      "text\/plain":[
       "Timestamp('2011-11-20 00:00:00')"
      ]
     },
     "metadata":{
      
     },
     "output_type":"display_data"
    }
   ],
   "metadata":{
    "datalore":{
     "node_id":"0hgwHzgWKcSfWp5WDtCqcK",
     "type":"CODE",
     "hide_input_from_viewers":false,
     "hide_output_from_viewers":false
    }
   }
  },
  {
   "cell_type":"code",
   "source":[
    "now+MonthEnd()"
   ],
   "execution_count":132,
   "outputs":[
    {
     "data":{
      "text\/plain":[
       "Timestamp('2011-11-30 00:00:00')"
      ]
     },
     "metadata":{
      
     },
     "output_type":"display_data"
    }
   ],
   "metadata":{
    "datalore":{
     "node_id":"vo4I3GvJ9RA4FyVQhgMiI0",
     "type":"CODE",
     "hide_input_from_viewers":false,
     "hide_output_from_viewers":false
    }
   }
  },
  {
   "cell_type":"code",
   "source":[
    "now + MonthEnd(2)"
   ],
   "execution_count":133,
   "outputs":[
    {
     "data":{
      "text\/plain":[
       "Timestamp('2011-12-31 00:00:00')"
      ]
     },
     "metadata":{
      
     },
     "output_type":"display_data"
    }
   ],
   "metadata":{
    "datalore":{
     "node_id":"P6X0W8TVyE5Al59qneWTx0",
     "type":"CODE",
     "hide_input_from_viewers":false,
     "hide_output_from_viewers":false
    }
   }
  },
  {
   "cell_type":"code",
   "source":[
    "offset = MonthEnd()\n",
    "offset.rollforward(now)"
   ],
   "execution_count":134,
   "outputs":[
    {
     "data":{
      "text\/plain":[
       "Timestamp('2011-11-30 00:00:00')"
      ]
     },
     "metadata":{
      
     },
     "output_type":"display_data"
    }
   ],
   "metadata":{
    "datalore":{
     "node_id":"gJD7PL8zhKmn85Qk36NJBY",
     "type":"CODE",
     "hide_input_from_viewers":false,
     "hide_output_from_viewers":false
    }
   }
  },
  {
   "cell_type":"code",
   "source":[
    "offset.rollback(now)"
   ],
   "execution_count":135,
   "outputs":[
    {
     "data":{
      "text\/plain":[
       "Timestamp('2011-10-31 00:00:00')"
      ]
     },
     "metadata":{
      
     },
     "output_type":"display_data"
    }
   ],
   "metadata":{
    "datalore":{
     "node_id":"pY4Tngvu23Uuyas7N8ENlz",
     "type":"CODE",
     "hide_input_from_viewers":false,
     "hide_output_from_viewers":false
    }
   }
  }
 ],
 "metadata":{
  "kernelspec":{
   "display_name":"Python",
   "language":"python",
   "name":"python"
  },
  "datalore":{
   "version":1,
   "computation_mode":"JUPYTER",
   "package_manager":"pip",
   "base_environment":"default",
   "packages":[
    
   ]
  }
 },
 "nbformat":4,
 "nbformat_minor":4
}