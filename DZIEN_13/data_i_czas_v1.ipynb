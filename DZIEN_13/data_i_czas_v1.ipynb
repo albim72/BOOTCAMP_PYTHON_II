{
 "cells":[
  {
   "cell_type":"code",
   "source":[
    "from datetime import datetime"
   ],
   "execution_count":42,
   "outputs":[
    
   ],
   "metadata":{
    "datalore":{
     "node_id":"OiZ0igGlepbM46QV9cbmNo",
     "type":"CODE",
     "hide_input_from_viewers":false,
     "hide_output_from_viewers":false
    }
   }
  },
  {
   "cell_type":"code",
   "source":[
    "now = datetime.now()\n",
    "now"
   ],
   "execution_count":43,
   "outputs":[
    {
     "data":{
      "text\/plain":[
       "datetime.datetime(2023, 2, 25, 8, 2, 57, 148378)"
      ]
     },
     "metadata":{
      
     },
     "output_type":"display_data"
    }
   ],
   "metadata":{
    "datalore":{
     "node_id":"U6Ty7mYUKcKry5IVGBJS36",
     "type":"CODE",
     "hide_input_from_viewers":false,
     "hide_output_from_viewers":false
    }
   }
  },
  {
   "cell_type":"code",
   "source":[
    "now.year, now.month, now.day"
   ],
   "execution_count":44,
   "outputs":[
    {
     "data":{
      "text\/plain":[
       "(2023, 2, 25)"
      ]
     },
     "metadata":{
      
     },
     "output_type":"display_data"
    }
   ],
   "metadata":{
    "datalore":{
     "node_id":"kOklF00NLOOw9m4nPygaEH",
     "type":"CODE",
     "hide_input_from_viewers":false,
     "hide_output_from_viewers":false
    }
   }
  },
  {
   "cell_type":"code",
   "source":[
    "delta = datetime(2011,1,7) - datetime(2008,6,24,8,15)\n",
    "delta"
   ],
   "execution_count":45,
   "outputs":[
    {
     "data":{
      "text\/plain":[
       "datetime.timedelta(days=926, seconds=56700)"
      ]
     },
     "metadata":{
      
     },
     "output_type":"display_data"
    }
   ],
   "metadata":{
    "datalore":{
     "node_id":"Jq5np2VsmCq6sm9Xn4G2jL",
     "type":"CODE",
     "hide_input_from_viewers":false,
     "hide_output_from_viewers":false
    }
   }
  },
  {
   "cell_type":"code",
   "source":[
    "delta.days"
   ],
   "execution_count":46,
   "outputs":[
    {
     "data":{
      "text\/plain":[
       "926"
      ]
     },
     "metadata":{
      
     },
     "output_type":"display_data"
    }
   ],
   "metadata":{
    "datalore":{
     "node_id":"7gUFxSLR2ohYAPmcz3oYa4",
     "type":"CODE",
     "hide_input_from_viewers":false,
     "hide_output_from_viewers":false
    }
   }
  },
  {
   "cell_type":"code",
   "source":[
    "from datetime import timedelta"
   ],
   "execution_count":47,
   "outputs":[
    
   ],
   "metadata":{
    "datalore":{
     "node_id":"IzTe7gF9djy8Nty69FlGAQ",
     "type":"CODE",
     "hide_input_from_viewers":false,
     "hide_output_from_viewers":false
    }
   }
  },
  {
   "cell_type":"code",
   "source":[
    "start = datetime(2011,1,7)\n",
    "start+timedelta(12)"
   ],
   "execution_count":48,
   "outputs":[
    {
     "data":{
      "text\/plain":[
       "datetime.datetime(2011, 1, 19, 0, 0)"
      ]
     },
     "metadata":{
      
     },
     "output_type":"display_data"
    }
   ],
   "metadata":{
    "datalore":{
     "node_id":"yk5gw1JnKpsJjYiRgltlIn",
     "type":"CODE",
     "hide_input_from_viewers":false,
     "hide_output_from_viewers":false
    }
   }
  },
  {
   "cell_type":"code",
   "source":[
    "start - 2*timedelta(12)"
   ],
   "execution_count":49,
   "outputs":[
    {
     "data":{
      "text\/plain":[
       "datetime.datetime(2010, 12, 14, 0, 0)"
      ]
     },
     "metadata":{
      
     },
     "output_type":"display_data"
    }
   ],
   "metadata":{
    "datalore":{
     "node_id":"xp8GHTWnyQrWg3TZiaxsKS",
     "type":"CODE",
     "hide_input_from_viewers":false,
     "hide_output_from_viewers":false
    }
   }
  },
  {
   "cell_type":"code",
   "source":[
    "stamp = datetime(2011,1,3)\n",
    "str(stamp)"
   ],
   "execution_count":50,
   "outputs":[
    {
     "data":{
      "text\/plain":[
       "'2011-01-03 00:00:00'"
      ]
     },
     "metadata":{
      
     },
     "output_type":"display_data"
    }
   ],
   "metadata":{
    "datalore":{
     "node_id":"yhA6yqxgBW9xddiwWpT3De",
     "type":"CODE",
     "hide_input_from_viewers":false,
     "hide_output_from_viewers":false
    }
   }
  },
  {
   "cell_type":"code",
   "source":[
    "start.strftime('%Y\/%d\/%m')"
   ],
   "execution_count":51,
   "outputs":[
    {
     "data":{
      "text\/plain":[
       "'2011\/07\/01'"
      ]
     },
     "metadata":{
      
     },
     "output_type":"display_data"
    }
   ],
   "metadata":{
    "datalore":{
     "node_id":"vmg5NdsaHOrGighcYWJQxV",
     "type":"CODE",
     "hide_input_from_viewers":false,
     "hide_output_from_viewers":false
    }
   }
  },
  {
   "cell_type":"code",
   "source":[
    "value = '2018-08-19'\n",
    "datetime.strptime(value,'%Y-%m-%d')"
   ],
   "execution_count":52,
   "outputs":[
    {
     "data":{
      "text\/plain":[
       "datetime.datetime(2018, 8, 19, 0, 0)"
      ]
     },
     "metadata":{
      
     },
     "output_type":"display_data"
    }
   ],
   "metadata":{
    "datalore":{
     "node_id":"rDWzbOlT3tEWKDtqxY8klJ",
     "type":"CODE",
     "hide_input_from_viewers":false,
     "hide_output_from_viewers":false
    }
   }
  },
  {
   "cell_type":"code",
   "source":[
    "datestr = ['7\/6\/2019','8\/6\/2019','12\/7\/2020']\n",
    "[datetime.strptime(x,'%m\/%d\/%Y') for x in datestr]"
   ],
   "execution_count":53,
   "outputs":[
    {
     "data":{
      "text\/plain":[
       "[datetime.datetime(2019, 7, 6, 0, 0),\n",
       " datetime.datetime(2019, 8, 6, 0, 0),\n",
       " datetime.datetime(2020, 12, 7, 0, 0)]"
      ]
     },
     "metadata":{
      
     },
     "output_type":"display_data"
    }
   ],
   "metadata":{
    "datalore":{
     "node_id":"kxcyrIoGlJ8TZ79Dke5P9p",
     "type":"CODE",
     "hide_input_from_viewers":false,
     "hide_output_from_viewers":false
    }
   }
  },
  {
   "cell_type":"code",
   "source":[
    "from dateutil.parser import parse"
   ],
   "execution_count":54,
   "outputs":[
    
   ],
   "metadata":{
    "datalore":{
     "node_id":"i7giezZxhwJgpBzmPp5gkq",
     "type":"CODE",
     "hide_input_from_viewers":false,
     "hide_output_from_viewers":false
    }
   }
  },
  {
   "cell_type":"code",
   "source":[
    "parse('2021-10-10')"
   ],
   "execution_count":55,
   "outputs":[
    {
     "data":{
      "text\/plain":[
       "datetime.datetime(2021, 10, 10, 0, 0)"
      ]
     },
     "metadata":{
      
     },
     "output_type":"display_data"
    }
   ],
   "metadata":{
    "datalore":{
     "node_id":"ajwbWlKFXFjzppqnqim4rC",
     "type":"CODE",
     "hide_input_from_viewers":false,
     "hide_output_from_viewers":false
    }
   }
  },
  {
   "cell_type":"code",
   "source":[
    "parse('2020.8.8')"
   ],
   "execution_count":56,
   "outputs":[
    {
     "data":{
      "text\/plain":[
       "datetime.datetime(2020, 8, 8, 0, 0)"
      ]
     },
     "metadata":{
      
     },
     "output_type":"display_data"
    }
   ],
   "metadata":{
    "datalore":{
     "node_id":"OZh0BfSdc7eRHjGHxCO6A3",
     "type":"CODE",
     "hide_input_from_viewers":false,
     "hide_output_from_viewers":false
    }
   }
  },
  {
   "cell_type":"code",
   "source":[
    "parse('Jan 31, 1997 10:45 PM')"
   ],
   "execution_count":57,
   "outputs":[
    {
     "data":{
      "text\/plain":[
       "datetime.datetime(1997, 1, 31, 22, 45)"
      ]
     },
     "metadata":{
      
     },
     "output_type":"display_data"
    }
   ],
   "metadata":{
    "datalore":{
     "node_id":"FRVJiuDrp4UiRkTDsOAGzG",
     "type":"CODE",
     "hide_input_from_viewers":false,
     "hide_output_from_viewers":false
    }
   }
  },
  {
   "cell_type":"code",
   "source":[
    "parse('6\/12\/2012', dayfirst=True)"
   ],
   "execution_count":58,
   "outputs":[
    {
     "data":{
      "text\/plain":[
       "datetime.datetime(2012, 12, 6, 0, 0)"
      ]
     },
     "metadata":{
      
     },
     "output_type":"display_data"
    }
   ],
   "metadata":{
    "datalore":{
     "node_id":"sc4tuD5AtVe2uTKFxx1Srb",
     "type":"CODE",
     "hide_input_from_viewers":false,
     "hide_output_from_viewers":false
    }
   }
  },
  {
   "cell_type":"code",
   "source":[
    "datestr = ['2012-07-06 12:11:19','2012-10-23 17:33:00']\n",
    "import pandas as pd\n",
    "pd.to_datetime(datestr)"
   ],
   "execution_count":59,
   "outputs":[
    {
     "data":{
      "text\/plain":[
       "DatetimeIndex(['2012-07-06 12:11:19', '2012-10-23 17:33:00'], dtype='datetime64[ns]', freq=None)"
      ]
     },
     "metadata":{
      
     },
     "output_type":"display_data"
    }
   ],
   "metadata":{
    "datalore":{
     "node_id":"bZp8RXqDduCbVh6xr9rXnE",
     "type":"CODE",
     "hide_input_from_viewers":false,
     "hide_output_from_viewers":false
    }
   }
  },
  {
   "cell_type":"code",
   "source":[
    "idx = pd.to_datetime(datestr + [None])\n",
    "idx"
   ],
   "execution_count":60,
   "outputs":[
    {
     "data":{
      "text\/plain":[
       "DatetimeIndex(['2012-07-06 12:11:19', '2012-10-23 17:33:00', 'NaT'], dtype='datetime64[ns]', freq=None)"
      ]
     },
     "metadata":{
      
     },
     "output_type":"display_data"
    }
   ],
   "metadata":{
    "datalore":{
     "node_id":"O2V9OUrVrfSQ774PX91PCt",
     "type":"CODE",
     "hide_input_from_viewers":false,
     "hide_output_from_viewers":false
    }
   }
  },
  {
   "cell_type":"code",
   "source":[
    "dates = [datetime(2011,1,2),datetime(2011,1,5),datetime(2011,1,7),datetime(2011,1,8),datetime(2011,1,12),datetime(2011,1,21)]"
   ],
   "execution_count":61,
   "outputs":[
    
   ],
   "metadata":{
    "datalore":{
     "node_id":"P9UDPEPBpyuueTBc7ZKLeL",
     "type":"CODE",
     "hide_input_from_viewers":false,
     "hide_output_from_viewers":false
    }
   }
  },
  {
   "cell_type":"code",
   "source":[
    "import numpy as np\n",
    "ts = pd.Series(np.random.randn(6),index=dates)\n",
    "ts"
   ],
   "execution_count":62,
   "outputs":[
    {
     "data":{
      "text\/html":[
       "<pre>2011-01-02   -0.593673\n",
       "2011-01-05    0.357990\n",
       "2011-01-07   -2.517273\n",
       "2011-01-08   -0.310770\n",
       "2011-01-12   -0.434419\n",
       "2011-01-21   -0.290686\n",
       "dtype: float64<\/pre>"
      ]
     },
     "metadata":{
      
     },
     "output_type":"display_data"
    }
   ],
   "metadata":{
    "datalore":{
     "node_id":"1nOAJMjxp5FsPJT6JbcH52",
     "type":"CODE",
     "hide_input_from_viewers":false,
     "hide_output_from_viewers":false
    }
   }
  },
  {
   "cell_type":"code",
   "source":[
    "ts.index"
   ],
   "execution_count":63,
   "outputs":[
    {
     "data":{
      "text\/plain":[
       "DatetimeIndex(['2011-01-02', '2011-01-05', '2011-01-07', '2011-01-08',\n",
       "               '2011-01-12', '2011-01-21'],\n",
       "              dtype='datetime64[ns]', freq=None)"
      ]
     },
     "metadata":{
      
     },
     "output_type":"display_data"
    }
   ],
   "metadata":{
    "datalore":{
     "node_id":"xgmwQXlTr8Rc8ez7dEYmlS",
     "type":"CODE",
     "hide_input_from_viewers":false,
     "hide_output_from_viewers":false
    }
   }
  },
  {
   "cell_type":"code",
   "source":[
    "ts + ts[::2]"
   ],
   "execution_count":64,
   "outputs":[
    {
     "data":{
      "text\/html":[
       "<pre>2011-01-02   -1.187345\n",
       "2011-01-05         NaN\n",
       "2011-01-07   -5.034545\n",
       "2011-01-08         NaN\n",
       "2011-01-12   -0.868838\n",
       "2011-01-21         NaN\n",
       "dtype: float64<\/pre>"
      ]
     },
     "metadata":{
      
     },
     "output_type":"display_data"
    }
   ],
   "metadata":{
    "datalore":{
     "node_id":"ZQc2SMX6FZuurGCbpMZHKr",
     "type":"CODE",
     "hide_input_from_viewers":false,
     "hide_output_from_viewers":false
    }
   }
  },
  {
   "cell_type":"code",
   "source":[
    "stamp = ts.index[2]\n",
    "start"
   ],
   "execution_count":65,
   "outputs":[
    {
     "data":{
      "text\/plain":[
       "datetime.datetime(2011, 1, 7, 0, 0)"
      ]
     },
     "metadata":{
      
     },
     "output_type":"display_data"
    }
   ],
   "metadata":{
    "datalore":{
     "node_id":"ApsKx2WOBX3BLQ77j3ZalI",
     "type":"CODE",
     "hide_input_from_viewers":false,
     "hide_output_from_viewers":false
    }
   }
  },
  {
   "cell_type":"code",
   "source":[
    "ts[start]"
   ],
   "execution_count":66,
   "outputs":[
    {
     "data":{
      "text\/plain":[
       "-2.517272609808693"
      ]
     },
     "metadata":{
      
     },
     "output_type":"display_data"
    }
   ],
   "metadata":{
    "datalore":{
     "node_id":"TDMpqjX0LRAMv03gGFmQm1",
     "type":"CODE",
     "hide_input_from_viewers":false,
     "hide_output_from_viewers":false
    }
   }
  },
  {
   "cell_type":"code",
   "source":[
    "ts['1\/12\/2011']"
   ],
   "execution_count":67,
   "outputs":[
    {
     "data":{
      "text\/plain":[
       "-0.4344190373483057"
      ]
     },
     "metadata":{
      
     },
     "output_type":"display_data"
    }
   ],
   "metadata":{
    "datalore":{
     "node_id":"k63tPuxHL35p7W4TBV0lkj",
     "type":"CODE",
     "hide_input_from_viewers":false,
     "hide_output_from_viewers":false
    }
   }
  },
  {
   "cell_type":"code",
   "source":[
    "ts['20110105']"
   ],
   "execution_count":68,
   "outputs":[
    {
     "data":{
      "text\/plain":[
       "0.3579903776101481"
      ]
     },
     "metadata":{
      
     },
     "output_type":"display_data"
    }
   ],
   "metadata":{
    "datalore":{
     "node_id":"JcJvJNYF8jeU6Dqkz3U3zd",
     "type":"CODE",
     "hide_input_from_viewers":false,
     "hide_output_from_viewers":false
    }
   }
  },
  {
   "cell_type":"code",
   "source":[
    "longer_ts = pd.Series(np.random.randn(1000), index=pd.date_range('1\/1\/2020',periods=1000, freq='H'))\n",
    "longer_ts"
   ],
   "execution_count":69,
   "outputs":[
    {
     "data":{
      "text\/html":[
       "<pre>2020-01-01 00:00:00    0.738631\n",
       "2020-01-01 01:00:00   -0.999534\n",
       "2020-01-01 02:00:00   -1.072065\n",
       "2020-01-01 03:00:00   -0.116945\n",
       "2020-01-01 04:00:00   -0.667069\n",
       "                         ...   \n",
       "2020-02-11 11:00:00    2.341163\n",
       "2020-02-11 12:00:00    0.333933\n",
       "2020-02-11 13:00:00   -1.272596\n",
       "2020-02-11 14:00:00    2.356562\n",
       "2020-02-11 15:00:00   -0.229981\n",
       "Freq: H, Length: 1000, dtype: float64<\/pre>"
      ]
     },
     "metadata":{
      
     },
     "output_type":"display_data"
    }
   ],
   "metadata":{
    "datalore":{
     "node_id":"dVLPqRQJAdSoeCBTQ3ULW3",
     "type":"CODE",
     "hide_input_from_viewers":false,
     "hide_output_from_viewers":false
    }
   }
  }
 ],
 "metadata":{
  "kernelspec":{
   "display_name":"Python",
   "language":"python",
   "name":"python"
  },
  "datalore":{
   "version":1,
   "computation_mode":"JUPYTER",
   "package_manager":"pip",
   "base_environment":"default",
   "packages":[
    
   ]
  }
 },
 "nbformat":4,
 "nbformat_minor":4
}