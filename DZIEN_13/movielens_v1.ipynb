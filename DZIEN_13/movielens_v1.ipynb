{
 "cells":[
  {
   "cell_type":"code",
   "source":[
    "import numpy as np\n",
    "import pandas as pd"
   ],
   "execution_count":1,
   "outputs":[
    
   ],
   "metadata":{
    "datalore":{
     "node_id":"QIggnKzGjaD2oHO7NQgjpI",
     "type":"CODE",
     "hide_input_from_viewers":false,
     "hide_output_from_viewers":false
    }
   }
  },
  {
   "cell_type":"code",
   "source":[
    "pd.options.display.max_rows = 10"
   ],
   "execution_count":2,
   "outputs":[
    
   ],
   "metadata":{
    "datalore":{
     "node_id":"cbgDRw4thpzBiQ09vJXWwh",
     "type":"CODE",
     "hide_input_from_viewers":false,
     "hide_output_from_viewers":false
    }
   }
  },
  {
   "cell_type":"code",
   "source":[
    "unames = ['user_id','gender','age','occupation','zip']\n",
    "users = pd.read_table('users.dat',sep='::',header=None,names=unames)\n",
    "\n",
    "rnames = ['user_id','movie_id','rating','timestamp']\n",
    "ratings= pd.read_table('ratings.dat',sep='::',header=None,names=rnames)\n",
    "\n",
    "mnames = ['movie_id','title','genres']\n",
    "movies = pd.read_table('movies.dat',sep='::',header=None,names=mnames)"
   ],
   "execution_count":11,
   "outputs":[
    
   ],
   "metadata":{
    "datalore":{
     "node_id":"uwcneD71eXzIPcslCkBpvc",
     "type":"CODE",
     "hide_input_from_viewers":false,
     "hide_output_from_viewers":false
    }
   }
  },
  {
   "cell_type":"code",
   "source":[
    "users[:5]"
   ],
   "execution_count":12,
   "outputs":[
    {
     "data":{
      "text\/html":[
       "<div>\n",
       "<style scoped>\n",
       "    .dataframe tbody tr th:only-of-type {\n",
       "        vertical-align: middle;\n",
       "    }\n",
       "\n",
       "    .dataframe tbody tr th {\n",
       "        vertical-align: top;\n",
       "    }\n",
       "\n",
       "    .dataframe thead th {\n",
       "        text-align: right;\n",
       "    }\n",
       "<\/style>\n",
       "<table border=\"1\" class=\"dataframe\">\n",
       "  <thead>\n",
       "    <tr style=\"text-align: right;\">\n",
       "      <th><\/th>\n",
       "      <th>user_id<\/th>\n",
       "      <th>gender<\/th>\n",
       "      <th>age<\/th>\n",
       "      <th>occupation<\/th>\n",
       "      <th>zip<\/th>\n",
       "    <\/tr>\n",
       "  <\/thead>\n",
       "  <tbody>\n",
       "    <tr>\n",
       "      <th>0<\/th>\n",
       "      <td>1<\/td>\n",
       "      <td>F<\/td>\n",
       "      <td>1<\/td>\n",
       "      <td>10<\/td>\n",
       "      <td>48067<\/td>\n",
       "    <\/tr>\n",
       "    <tr>\n",
       "      <th>1<\/th>\n",
       "      <td>2<\/td>\n",
       "      <td>M<\/td>\n",
       "      <td>56<\/td>\n",
       "      <td>16<\/td>\n",
       "      <td>70072<\/td>\n",
       "    <\/tr>\n",
       "    <tr>\n",
       "      <th>2<\/th>\n",
       "      <td>3<\/td>\n",
       "      <td>M<\/td>\n",
       "      <td>25<\/td>\n",
       "      <td>15<\/td>\n",
       "      <td>55117<\/td>\n",
       "    <\/tr>\n",
       "    <tr>\n",
       "      <th>3<\/th>\n",
       "      <td>4<\/td>\n",
       "      <td>M<\/td>\n",
       "      <td>45<\/td>\n",
       "      <td>7<\/td>\n",
       "      <td>02460<\/td>\n",
       "    <\/tr>\n",
       "    <tr>\n",
       "      <th>4<\/th>\n",
       "      <td>5<\/td>\n",
       "      <td>M<\/td>\n",
       "      <td>25<\/td>\n",
       "      <td>20<\/td>\n",
       "      <td>55455<\/td>\n",
       "    <\/tr>\n",
       "  <\/tbody>\n",
       "<\/table>\n",
       "<\/div>"
      ]
     },
     "metadata":{
      
     },
     "output_type":"display_data"
    }
   ],
   "metadata":{
    "datalore":{
     "node_id":"cthbOdW0n0H4dHFXouN8hi",
     "type":"CODE",
     "hide_input_from_viewers":false,
     "hide_output_from_viewers":false
    }
   }
  },
  {
   "cell_type":"code",
   "source":[
    "ratings[:5]"
   ],
   "execution_count":13,
   "outputs":[
    {
     "data":{
      "text\/html":[
       "<div>\n",
       "<style scoped>\n",
       "    .dataframe tbody tr th:only-of-type {\n",
       "        vertical-align: middle;\n",
       "    }\n",
       "\n",
       "    .dataframe tbody tr th {\n",
       "        vertical-align: top;\n",
       "    }\n",
       "\n",
       "    .dataframe thead th {\n",
       "        text-align: right;\n",
       "    }\n",
       "<\/style>\n",
       "<table border=\"1\" class=\"dataframe\">\n",
       "  <thead>\n",
       "    <tr style=\"text-align: right;\">\n",
       "      <th><\/th>\n",
       "      <th>user_id<\/th>\n",
       "      <th>movie_id<\/th>\n",
       "      <th>rating<\/th>\n",
       "      <th>timestamp<\/th>\n",
       "    <\/tr>\n",
       "  <\/thead>\n",
       "  <tbody>\n",
       "    <tr>\n",
       "      <th>0<\/th>\n",
       "      <td>1<\/td>\n",
       "      <td>1193<\/td>\n",
       "      <td>5<\/td>\n",
       "      <td>978300760<\/td>\n",
       "    <\/tr>\n",
       "    <tr>\n",
       "      <th>1<\/th>\n",
       "      <td>1<\/td>\n",
       "      <td>661<\/td>\n",
       "      <td>3<\/td>\n",
       "      <td>978302109<\/td>\n",
       "    <\/tr>\n",
       "    <tr>\n",
       "      <th>2<\/th>\n",
       "      <td>1<\/td>\n",
       "      <td>914<\/td>\n",
       "      <td>3<\/td>\n",
       "      <td>978301968<\/td>\n",
       "    <\/tr>\n",
       "    <tr>\n",
       "      <th>3<\/th>\n",
       "      <td>1<\/td>\n",
       "      <td>3408<\/td>\n",
       "      <td>4<\/td>\n",
       "      <td>978300275<\/td>\n",
       "    <\/tr>\n",
       "    <tr>\n",
       "      <th>4<\/th>\n",
       "      <td>1<\/td>\n",
       "      <td>2355<\/td>\n",
       "      <td>5<\/td>\n",
       "      <td>978824291<\/td>\n",
       "    <\/tr>\n",
       "  <\/tbody>\n",
       "<\/table>\n",
       "<\/div>"
      ]
     },
     "metadata":{
      
     },
     "output_type":"display_data"
    }
   ],
   "metadata":{
    "datalore":{
     "node_id":"LY6zXTwq30zbo4IL7e79Eg",
     "type":"CODE",
     "hide_input_from_viewers":false,
     "hide_output_from_viewers":false
    }
   }
  },
  {
   "cell_type":"code",
   "source":[
    "movies[:5]"
   ],
   "execution_count":14,
   "outputs":[
    {
     "data":{
      "text\/html":[
       "<div>\n",
       "<style scoped>\n",
       "    .dataframe tbody tr th:only-of-type {\n",
       "        vertical-align: middle;\n",
       "    }\n",
       "\n",
       "    .dataframe tbody tr th {\n",
       "        vertical-align: top;\n",
       "    }\n",
       "\n",
       "    .dataframe thead th {\n",
       "        text-align: right;\n",
       "    }\n",
       "<\/style>\n",
       "<table border=\"1\" class=\"dataframe\">\n",
       "  <thead>\n",
       "    <tr style=\"text-align: right;\">\n",
       "      <th><\/th>\n",
       "      <th>movie_id<\/th>\n",
       "      <th>title<\/th>\n",
       "      <th>genres<\/th>\n",
       "    <\/tr>\n",
       "  <\/thead>\n",
       "  <tbody>\n",
       "    <tr>\n",
       "      <th>0<\/th>\n",
       "      <td>1<\/td>\n",
       "      <td>Toy Story (1995)<\/td>\n",
       "      <td>Animation|Children's|Comedy<\/td>\n",
       "    <\/tr>\n",
       "    <tr>\n",
       "      <th>1<\/th>\n",
       "      <td>2<\/td>\n",
       "      <td>Jumanji (1995)<\/td>\n",
       "      <td>Adventure|Children's|Fantasy<\/td>\n",
       "    <\/tr>\n",
       "    <tr>\n",
       "      <th>2<\/th>\n",
       "      <td>3<\/td>\n",
       "      <td>Grumpier Old Men (1995)<\/td>\n",
       "      <td>Comedy|Romance<\/td>\n",
       "    <\/tr>\n",
       "    <tr>\n",
       "      <th>3<\/th>\n",
       "      <td>4<\/td>\n",
       "      <td>Waiting to Exhale (1995)<\/td>\n",
       "      <td>Comedy|Drama<\/td>\n",
       "    <\/tr>\n",
       "    <tr>\n",
       "      <th>4<\/th>\n",
       "      <td>5<\/td>\n",
       "      <td>Father of the Bride Part II (1995)<\/td>\n",
       "      <td>Comedy<\/td>\n",
       "    <\/tr>\n",
       "  <\/tbody>\n",
       "<\/table>\n",
       "<\/div>"
      ]
     },
     "metadata":{
      
     },
     "output_type":"display_data"
    }
   ],
   "metadata":{
    "datalore":{
     "node_id":"vdDoIHnAHZcW3olGIqgGuc",
     "type":"CODE",
     "hide_input_from_viewers":false,
     "hide_output_from_viewers":false
    }
   }
  },
  {
   "cell_type":"code",
   "source":[
    "data = pd.merge(pd.merge(ratings,users),movies)\n",
    "data"
   ],
   "execution_count":15,
   "outputs":[
    {
     "data":{
      "text\/html":[
       "<div>\n",
       "<style scoped>\n",
       "    .dataframe tbody tr th:only-of-type {\n",
       "        vertical-align: middle;\n",
       "    }\n",
       "\n",
       "    .dataframe tbody tr th {\n",
       "        vertical-align: top;\n",
       "    }\n",
       "\n",
       "    .dataframe thead th {\n",
       "        text-align: right;\n",
       "    }\n",
       "<\/style>\n",
       "<table border=\"1\" class=\"dataframe\">\n",
       "  <thead>\n",
       "    <tr style=\"text-align: right;\">\n",
       "      <th><\/th>\n",
       "      <th>user_id<\/th>\n",
       "      <th>movie_id<\/th>\n",
       "      <th>rating<\/th>\n",
       "      <th>timestamp<\/th>\n",
       "      <th>gender<\/th>\n",
       "      <th>age<\/th>\n",
       "      <th>occupation<\/th>\n",
       "      <th>zip<\/th>\n",
       "      <th>title<\/th>\n",
       "      <th>genres<\/th>\n",
       "    <\/tr>\n",
       "  <\/thead>\n",
       "  <tbody>\n",
       "    <tr>\n",
       "      <th>0<\/th>\n",
       "      <td>1<\/td>\n",
       "      <td>1193<\/td>\n",
       "      <td>5<\/td>\n",
       "      <td>978300760<\/td>\n",
       "      <td>F<\/td>\n",
       "      <td>1<\/td>\n",
       "      <td>10<\/td>\n",
       "      <td>48067<\/td>\n",
       "      <td>One Flew Over the Cuckoo's Nest (1975)<\/td>\n",
       "      <td>Drama<\/td>\n",
       "    <\/tr>\n",
       "    <tr>\n",
       "      <th>1<\/th>\n",
       "      <td>2<\/td>\n",
       "      <td>1193<\/td>\n",
       "      <td>5<\/td>\n",
       "      <td>978298413<\/td>\n",
       "      <td>M<\/td>\n",
       "      <td>56<\/td>\n",
       "      <td>16<\/td>\n",
       "      <td>70072<\/td>\n",
       "      <td>One Flew Over the Cuckoo's Nest (1975)<\/td>\n",
       "      <td>Drama<\/td>\n",
       "    <\/tr>\n",
       "    <tr>\n",
       "      <th>2<\/th>\n",
       "      <td>12<\/td>\n",
       "      <td>1193<\/td>\n",
       "      <td>4<\/td>\n",
       "      <td>978220179<\/td>\n",
       "      <td>M<\/td>\n",
       "      <td>25<\/td>\n",
       "      <td>12<\/td>\n",
       "      <td>32793<\/td>\n",
       "      <td>One Flew Over the Cuckoo's Nest (1975)<\/td>\n",
       "      <td>Drama<\/td>\n",
       "    <\/tr>\n",
       "    <tr>\n",
       "      <th>3<\/th>\n",
       "      <td>15<\/td>\n",
       "      <td>1193<\/td>\n",
       "      <td>4<\/td>\n",
       "      <td>978199279<\/td>\n",
       "      <td>M<\/td>\n",
       "      <td>25<\/td>\n",
       "      <td>7<\/td>\n",
       "      <td>22903<\/td>\n",
       "      <td>One Flew Over the Cuckoo's Nest (1975)<\/td>\n",
       "      <td>Drama<\/td>\n",
       "    <\/tr>\n",
       "    <tr>\n",
       "      <th>4<\/th>\n",
       "      <td>17<\/td>\n",
       "      <td>1193<\/td>\n",
       "      <td>5<\/td>\n",
       "      <td>978158471<\/td>\n",
       "      <td>M<\/td>\n",
       "      <td>50<\/td>\n",
       "      <td>1<\/td>\n",
       "      <td>95350<\/td>\n",
       "      <td>One Flew Over the Cuckoo's Nest (1975)<\/td>\n",
       "      <td>Drama<\/td>\n",
       "    <\/tr>\n",
       "    <tr>\n",
       "      <th>...<\/th>\n",
       "      <td>...<\/td>\n",
       "      <td>...<\/td>\n",
       "      <td>...<\/td>\n",
       "      <td>...<\/td>\n",
       "      <td>...<\/td>\n",
       "      <td>...<\/td>\n",
       "      <td>...<\/td>\n",
       "      <td>...<\/td>\n",
       "      <td>...<\/td>\n",
       "      <td>...<\/td>\n",
       "    <\/tr>\n",
       "    <tr>\n",
       "      <th>1000204<\/th>\n",
       "      <td>5949<\/td>\n",
       "      <td>2198<\/td>\n",
       "      <td>5<\/td>\n",
       "      <td>958846401<\/td>\n",
       "      <td>M<\/td>\n",
       "      <td>18<\/td>\n",
       "      <td>17<\/td>\n",
       "      <td>47901<\/td>\n",
       "      <td>Modulations (1998)<\/td>\n",
       "      <td>Documentary<\/td>\n",
       "    <\/tr>\n",
       "    <tr>\n",
       "      <th>1000205<\/th>\n",
       "      <td>5675<\/td>\n",
       "      <td>2703<\/td>\n",
       "      <td>3<\/td>\n",
       "      <td>976029116<\/td>\n",
       "      <td>M<\/td>\n",
       "      <td>35<\/td>\n",
       "      <td>14<\/td>\n",
       "      <td>30030<\/td>\n",
       "      <td>Broken Vessels (1998)<\/td>\n",
       "      <td>Drama<\/td>\n",
       "    <\/tr>\n",
       "    <tr>\n",
       "      <th>1000206<\/th>\n",
       "      <td>5780<\/td>\n",
       "      <td>2845<\/td>\n",
       "      <td>1<\/td>\n",
       "      <td>958153068<\/td>\n",
       "      <td>M<\/td>\n",
       "      <td>18<\/td>\n",
       "      <td>17<\/td>\n",
       "      <td>92886<\/td>\n",
       "      <td>White Boys (1999)<\/td>\n",
       "      <td>Drama<\/td>\n",
       "    <\/tr>\n",
       "    <tr>\n",
       "      <th>1000207<\/th>\n",
       "      <td>5851<\/td>\n",
       "      <td>3607<\/td>\n",
       "      <td>5<\/td>\n",
       "      <td>957756608<\/td>\n",
       "      <td>F<\/td>\n",
       "      <td>18<\/td>\n",
       "      <td>20<\/td>\n",
       "      <td>55410<\/td>\n",
       "      <td>One Little Indian (1973)<\/td>\n",
       "      <td>Comedy|Drama|Western<\/td>\n",
       "    <\/tr>\n",
       "    <tr>\n",
       "      <th>1000208<\/th>\n",
       "      <td>5938<\/td>\n",
       "      <td>2909<\/td>\n",
       "      <td>4<\/td>\n",
       "      <td>957273353<\/td>\n",
       "      <td>M<\/td>\n",
       "      <td>25<\/td>\n",
       "      <td>1<\/td>\n",
       "      <td>35401<\/td>\n",
       "      <td>Five Wives, Three Secretaries and Me (1998)<\/td>\n",
       "      <td>Documentary<\/td>\n",
       "    <\/tr>\n",
       "  <\/tbody>\n",
       "<\/table>\n",
       "<p>1000209 rows × 10 columns<\/p>\n",
       "<\/div>"
      ]
     },
     "metadata":{
      
     },
     "output_type":"display_data"
    }
   ],
   "metadata":{
    "datalore":{
     "node_id":"aS8gZBZ6jVLR7MmUj8i0wt",
     "type":"CODE",
     "hide_input_from_viewers":false,
     "hide_output_from_viewers":false
    }
   }
  },
  {
   "cell_type":"code",
   "source":[
    "data.iloc[0]"
   ],
   "execution_count":16,
   "outputs":[
    {
     "data":{
      "text\/html":[
       "<pre>user_id                                            1\n",
       "movie_id                                        1193\n",
       "rating                                             5\n",
       "timestamp                                  978300760\n",
       "gender                                             F\n",
       "age                                                1\n",
       "occupation                                        10\n",
       "zip                                            48067\n",
       "title         One Flew Over the Cuckoo's Nest (1975)\n",
       "genres                                         Drama\n",
       "Name: 0, dtype: object<\/pre>"
      ]
     },
     "metadata":{
      
     },
     "output_type":"display_data"
    }
   ],
   "metadata":{
    "datalore":{
     "node_id":"WVyXInqaV6UswecY0FdwRg",
     "type":"CODE",
     "hide_input_from_viewers":false,
     "hide_output_from_viewers":false
    }
   }
  },
  {
   "cell_type":"code",
   "source":[
    "#jaka jest średnia oceny każdego filmu z podziałem na płeć recenzenta...?\n",
    "mean_ratings = data.pivot_table('rating',index = 'title',columns = 'gender',aggfunc = 'mean')\n",
    "mean_ratings[:5]"
   ],
   "execution_count":17,
   "outputs":[
    {
     "data":{
      "text\/html":[
       "<div>\n",
       "<style scoped>\n",
       "    .dataframe tbody tr th:only-of-type {\n",
       "        vertical-align: middle;\n",
       "    }\n",
       "\n",
       "    .dataframe tbody tr th {\n",
       "        vertical-align: top;\n",
       "    }\n",
       "\n",
       "    .dataframe thead th {\n",
       "        text-align: right;\n",
       "    }\n",
       "<\/style>\n",
       "<table border=\"1\" class=\"dataframe\">\n",
       "  <thead>\n",
       "    <tr style=\"text-align: right;\">\n",
       "      <th>gender<\/th>\n",
       "      <th>F<\/th>\n",
       "      <th>M<\/th>\n",
       "    <\/tr>\n",
       "    <tr>\n",
       "      <th>title<\/th>\n",
       "      <th><\/th>\n",
       "      <th><\/th>\n",
       "    <\/tr>\n",
       "  <\/thead>\n",
       "  <tbody>\n",
       "    <tr>\n",
       "      <th>$1,000,000 Duck (1971)<\/th>\n",
       "      <td>3.375000<\/td>\n",
       "      <td>2.761905<\/td>\n",
       "    <\/tr>\n",
       "    <tr>\n",
       "      <th>'Night Mother (1986)<\/th>\n",
       "      <td>3.388889<\/td>\n",
       "      <td>3.352941<\/td>\n",
       "    <\/tr>\n",
       "    <tr>\n",
       "      <th>'Til There Was You (1997)<\/th>\n",
       "      <td>2.675676<\/td>\n",
       "      <td>2.733333<\/td>\n",
       "    <\/tr>\n",
       "    <tr>\n",
       "      <th>'burbs, The (1989)<\/th>\n",
       "      <td>2.793478<\/td>\n",
       "      <td>2.962085<\/td>\n",
       "    <\/tr>\n",
       "    <tr>\n",
       "      <th>...And Justice for All (1979)<\/th>\n",
       "      <td>3.828571<\/td>\n",
       "      <td>3.689024<\/td>\n",
       "    <\/tr>\n",
       "  <\/tbody>\n",
       "<\/table>\n",
       "<\/div>"
      ]
     },
     "metadata":{
      
     },
     "output_type":"display_data"
    }
   ],
   "metadata":{
    "datalore":{
     "node_id":"369W5PlnRZx0Gxtzw1NCuT",
     "type":"CODE",
     "hide_input_from_viewers":false,
     "hide_output_from_viewers":false
    }
   }
  },
  {
   "cell_type":"code",
   "source":[
    "type(mean_ratings)"
   ],
   "execution_count":18,
   "outputs":[
    {
     "data":{
      "text\/plain":[
       "pandas.core.frame.DataFrame"
      ]
     },
     "metadata":{
      
     },
     "output_type":"display_data"
    }
   ],
   "metadata":{
    "datalore":{
     "node_id":"H06XIzabnHFnZAISAGs1BM",
     "type":"CODE",
     "hide_input_from_viewers":false,
     "hide_output_from_viewers":false
    }
   }
  },
  {
   "cell_type":"code",
   "source":[
    "#odfiltruj filmy które zostały ocenione minimum 250 razy!\n",
    "ratings_by_title = data.groupby('title').size()\n",
    "ratings_by_title[:10]"
   ],
   "execution_count":19,
   "outputs":[
    {
     "data":{
      "text\/html":[
       "<pre>title\n",
       "$1,000,000 Duck (1971)                37\n",
       "'Night Mother (1986)                  70\n",
       "'Til There Was You (1997)             52\n",
       "'burbs, The (1989)                   303\n",
       "...And Justice for All (1979)        199\n",
       "1-900 (1994)                           2\n",
       "10 Things I Hate About You (1999)    700\n",
       "101 Dalmatians (1961)                565\n",
       "101 Dalmatians (1996)                364\n",
       "12 Angry Men (1957)                  616\n",
       "dtype: int64<\/pre>"
      ]
     },
     "metadata":{
      
     },
     "output_type":"display_data"
    }
   ],
   "metadata":{
    "datalore":{
     "node_id":"2DNQJRXVxs5cYs3c5lIAeT",
     "type":"CODE",
     "hide_input_from_viewers":false,
     "hide_output_from_viewers":false
    }
   }
  },
  {
   "cell_type":"code",
   "source":[
    "active_titles = ratings_by_title.index[ratings_by_title>=250]\n",
    "active_titles"
   ],
   "execution_count":20,
   "outputs":[
    {
     "data":{
      "text\/plain":[
       "Index([''burbs, The (1989)', '10 Things I Hate About You (1999)',\n",
       "       '101 Dalmatians (1961)', '101 Dalmatians (1996)', '12 Angry Men (1957)',\n",
       "       '13th Warrior, The (1999)', '2 Days in the Valley (1996)',\n",
       "       '20,000 Leagues Under the Sea (1954)', '2001: A Space Odyssey (1968)',\n",
       "       '2010 (1984)',\n",
       "       ...\n",
       "       'X-Men (2000)', 'Year of Living Dangerously (1982)',\n",
       "       'Yellow Submarine (1968)', 'You've Got Mail (1998)',\n",
       "       'Young Frankenstein (1974)', 'Young Guns (1988)',\n",
       "       'Young Guns II (1990)', 'Young Sherlock Holmes (1985)',\n",
       "       'Zero Effect (1998)', 'eXistenZ (1999)'],\n",
       "      dtype='object', name='title', length=1216)"
      ]
     },
     "metadata":{
      
     },
     "output_type":"display_data"
    }
   ],
   "metadata":{
    "datalore":{
     "node_id":"8gussOSS732EwZwRbkM085",
     "type":"CODE",
     "hide_input_from_viewers":false,
     "hide_output_from_viewers":false
    }
   }
  },
  {
   "cell_type":"code",
   "source":[
    "mean_ratings = mean_ratings.loc[active_titles]\n",
    "mean_ratings"
   ],
   "execution_count":22,
   "outputs":[
    {
     "data":{
      "text\/html":[
       "<div>\n",
       "<style scoped>\n",
       "    .dataframe tbody tr th:only-of-type {\n",
       "        vertical-align: middle;\n",
       "    }\n",
       "\n",
       "    .dataframe tbody tr th {\n",
       "        vertical-align: top;\n",
       "    }\n",
       "\n",
       "    .dataframe thead th {\n",
       "        text-align: right;\n",
       "    }\n",
       "<\/style>\n",
       "<table border=\"1\" class=\"dataframe\">\n",
       "  <thead>\n",
       "    <tr style=\"text-align: right;\">\n",
       "      <th>gender<\/th>\n",
       "      <th>F<\/th>\n",
       "      <th>M<\/th>\n",
       "    <\/tr>\n",
       "    <tr>\n",
       "      <th>title<\/th>\n",
       "      <th><\/th>\n",
       "      <th><\/th>\n",
       "    <\/tr>\n",
       "  <\/thead>\n",
       "  <tbody>\n",
       "    <tr>\n",
       "      <th>'burbs, The (1989)<\/th>\n",
       "      <td>2.793478<\/td>\n",
       "      <td>2.962085<\/td>\n",
       "    <\/tr>\n",
       "    <tr>\n",
       "      <th>10 Things I Hate About You (1999)<\/th>\n",
       "      <td>3.646552<\/td>\n",
       "      <td>3.311966<\/td>\n",
       "    <\/tr>\n",
       "    <tr>\n",
       "      <th>101 Dalmatians (1961)<\/th>\n",
       "      <td>3.791444<\/td>\n",
       "      <td>3.500000<\/td>\n",
       "    <\/tr>\n",
       "    <tr>\n",
       "      <th>101 Dalmatians (1996)<\/th>\n",
       "      <td>3.240000<\/td>\n",
       "      <td>2.911215<\/td>\n",
       "    <\/tr>\n",
       "    <tr>\n",
       "      <th>12 Angry Men (1957)<\/th>\n",
       "      <td>4.184397<\/td>\n",
       "      <td>4.328421<\/td>\n",
       "    <\/tr>\n",
       "    <tr>\n",
       "      <th>...<\/th>\n",
       "      <td>...<\/td>\n",
       "      <td>...<\/td>\n",
       "    <\/tr>\n",
       "    <tr>\n",
       "      <th>Young Guns (1988)<\/th>\n",
       "      <td>3.371795<\/td>\n",
       "      <td>3.425620<\/td>\n",
       "    <\/tr>\n",
       "    <tr>\n",
       "      <th>Young Guns II (1990)<\/th>\n",
       "      <td>2.934783<\/td>\n",
       "      <td>2.904025<\/td>\n",
       "    <\/tr>\n",
       "    <tr>\n",
       "      <th>Young Sherlock Holmes (1985)<\/th>\n",
       "      <td>3.514706<\/td>\n",
       "      <td>3.363344<\/td>\n",
       "    <\/tr>\n",
       "    <tr>\n",
       "      <th>Zero Effect (1998)<\/th>\n",
       "      <td>3.864407<\/td>\n",
       "      <td>3.723140<\/td>\n",
       "    <\/tr>\n",
       "    <tr>\n",
       "      <th>eXistenZ (1999)<\/th>\n",
       "      <td>3.098592<\/td>\n",
       "      <td>3.289086<\/td>\n",
       "    <\/tr>\n",
       "  <\/tbody>\n",
       "<\/table>\n",
       "<p>1216 rows × 2 columns<\/p>\n",
       "<\/div>"
      ]
     },
     "metadata":{
      
     },
     "output_type":"display_data"
    }
   ],
   "metadata":{
    "datalore":{
     "node_id":"AXHX7zDfy9EEXlPGkmtohb",
     "type":"CODE",
     "hide_input_from_viewers":false,
     "hide_output_from_viewers":false
    }
   }
  },
  {
   "cell_type":"code",
   "source":[
    "#które filmy zostały najwyżej ocenione przez kobiety?\n",
    "top_female_ratings = mean_ratings.sort_values(by='F',ascending=False)\n",
    "top_female_ratings[:10]"
   ],
   "execution_count":23,
   "outputs":[
    {
     "data":{
      "text\/html":[
       "<div>\n",
       "<style scoped>\n",
       "    .dataframe tbody tr th:only-of-type {\n",
       "        vertical-align: middle;\n",
       "    }\n",
       "\n",
       "    .dataframe tbody tr th {\n",
       "        vertical-align: top;\n",
       "    }\n",
       "\n",
       "    .dataframe thead th {\n",
       "        text-align: right;\n",
       "    }\n",
       "<\/style>\n",
       "<table border=\"1\" class=\"dataframe\">\n",
       "  <thead>\n",
       "    <tr style=\"text-align: right;\">\n",
       "      <th>gender<\/th>\n",
       "      <th>F<\/th>\n",
       "      <th>M<\/th>\n",
       "    <\/tr>\n",
       "    <tr>\n",
       "      <th>title<\/th>\n",
       "      <th><\/th>\n",
       "      <th><\/th>\n",
       "    <\/tr>\n",
       "  <\/thead>\n",
       "  <tbody>\n",
       "    <tr>\n",
       "      <th>Close Shave, A (1995)<\/th>\n",
       "      <td>4.644444<\/td>\n",
       "      <td>4.473795<\/td>\n",
       "    <\/tr>\n",
       "    <tr>\n",
       "      <th>Wrong Trousers, The (1993)<\/th>\n",
       "      <td>4.588235<\/td>\n",
       "      <td>4.478261<\/td>\n",
       "    <\/tr>\n",
       "    <tr>\n",
       "      <th>Sunset Blvd. (a.k.a. Sunset Boulevard) (1950)<\/th>\n",
       "      <td>4.572650<\/td>\n",
       "      <td>4.464589<\/td>\n",
       "    <\/tr>\n",
       "    <tr>\n",
       "      <th>Wallace &amp; Gromit: The Best of Aardman Animation (1996)<\/th>\n",
       "      <td>4.563107<\/td>\n",
       "      <td>4.385075<\/td>\n",
       "    <\/tr>\n",
       "    <tr>\n",
       "      <th>Schindler's List (1993)<\/th>\n",
       "      <td>4.562602<\/td>\n",
       "      <td>4.491415<\/td>\n",
       "    <\/tr>\n",
       "    <tr>\n",
       "      <th>Shawshank Redemption, The (1994)<\/th>\n",
       "      <td>4.539075<\/td>\n",
       "      <td>4.560625<\/td>\n",
       "    <\/tr>\n",
       "    <tr>\n",
       "      <th>Grand Day Out, A (1992)<\/th>\n",
       "      <td>4.537879<\/td>\n",
       "      <td>4.293255<\/td>\n",
       "    <\/tr>\n",
       "    <tr>\n",
       "      <th>To Kill a Mockingbird (1962)<\/th>\n",
       "      <td>4.536667<\/td>\n",
       "      <td>4.372611<\/td>\n",
       "    <\/tr>\n",
       "    <tr>\n",
       "      <th>Creature Comforts (1990)<\/th>\n",
       "      <td>4.513889<\/td>\n",
       "      <td>4.272277<\/td>\n",
       "    <\/tr>\n",
       "    <tr>\n",
       "      <th>Usual Suspects, The (1995)<\/th>\n",
       "      <td>4.513317<\/td>\n",
       "      <td>4.518248<\/td>\n",
       "    <\/tr>\n",
       "  <\/tbody>\n",
       "<\/table>\n",
       "<\/div>"
      ]
     },
     "metadata":{
      
     },
     "output_type":"display_data"
    }
   ],
   "metadata":{
    "datalore":{
     "node_id":"8yyW50W17Cr60qBgITm0Ez",
     "type":"CODE",
     "hide_input_from_viewers":false,
     "hide_output_from_viewers":false
    }
   }
  },
  {
   "cell_type":"code",
   "source":[
    
   ],
   "execution_count":null,
   "outputs":[
    
   ],
   "metadata":{
    "datalore":{
     "node_id":"r43pntKCdxHr0UROzVGEGt",
     "type":"CODE",
     "hide_input_from_viewers":false,
     "hide_output_from_viewers":false
    }
   }
  }
 ],
 "metadata":{
  "kernelspec":{
   "display_name":"Python",
   "language":"python",
   "name":"python"
  },
  "datalore":{
   "version":1,
   "computation_mode":"JUPYTER",
   "package_manager":"pip",
   "base_environment":"default",
   "packages":[
    
   ]
  }
 },
 "nbformat":4,
 "nbformat_minor":4
}