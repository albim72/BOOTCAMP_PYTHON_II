{
 "cells":[
  {
   "cell_type":"code",
   "source":[
    "import numpy as np\n",
    "import pandas as pd\n",
    "import tensorflow as tf\n",
    "\n",
    "tf.__version__"
   ],
   "execution_count":3,
   "outputs":[
    {
     "data":{
      "text\/plain":[
       "'2.9.3'"
      ]
     },
     "metadata":{
      
     },
     "output_type":"display_data"
    }
   ],
   "metadata":{
    "datalore":{
     "node_id":"PrHv2mKFzXgqKgjYnIM28S",
     "type":"CODE",
     "hide_input_from_viewers":false,
     "hide_output_from_viewers":false
    }
   }
  },
  {
   "cell_type":"code",
   "source":[
    "dataset_url = \"http:\/\/storage.googleapis.com\/download.tensorflow.org\/data\/petfinder-mini.zip\"\n",
    "csv_file = \"datasets\/petfinder-mini\/petfinder-mini.csv\"\n",
    "\n",
    "tf.keras.utils.get_file('petfinder-mini.zip',dataset_url,extract=True,cache_dir='.')\n",
    "dataframe = pd.read_csv(csv_file)"
   ],
   "execution_count":4,
   "outputs":[
    
   ],
   "metadata":{
    "datalore":{
     "node_id":"N74PCSWe3goET7O9bZM2Le",
     "type":"CODE",
     "hide_input_from_viewers":false,
     "hide_output_from_viewers":false
    }
   }
  },
  {
   "cell_type":"code",
   "source":[
    "dataframe.head()"
   ],
   "execution_count":5,
   "outputs":[
    {
     "data":{
      "text\/html":[
       "<div>\n",
       "<style scoped>\n",
       "    .dataframe tbody tr th:only-of-type {\n",
       "        vertical-align: middle;\n",
       "    }\n",
       "\n",
       "    .dataframe tbody tr th {\n",
       "        vertical-align: top;\n",
       "    }\n",
       "\n",
       "    .dataframe thead th {\n",
       "        text-align: right;\n",
       "    }\n",
       "<\/style>\n",
       "<table border=\"1\" class=\"dataframe\">\n",
       "  <thead>\n",
       "    <tr style=\"text-align: right;\">\n",
       "      <th><\/th>\n",
       "      <th>Type<\/th>\n",
       "      <th>Age<\/th>\n",
       "      <th>Breed1<\/th>\n",
       "      <th>Gender<\/th>\n",
       "      <th>Color1<\/th>\n",
       "      <th>Color2<\/th>\n",
       "      <th>MaturitySize<\/th>\n",
       "      <th>FurLength<\/th>\n",
       "      <th>Vaccinated<\/th>\n",
       "      <th>Sterilized<\/th>\n",
       "      <th>Health<\/th>\n",
       "      <th>Fee<\/th>\n",
       "      <th>Description<\/th>\n",
       "      <th>PhotoAmt<\/th>\n",
       "      <th>AdoptionSpeed<\/th>\n",
       "    <\/tr>\n",
       "  <\/thead>\n",
       "  <tbody>\n",
       "    <tr>\n",
       "      <th>0<\/th>\n",
       "      <td>Cat<\/td>\n",
       "      <td>3<\/td>\n",
       "      <td>Tabby<\/td>\n",
       "      <td>Male<\/td>\n",
       "      <td>Black<\/td>\n",
       "      <td>White<\/td>\n",
       "      <td>Small<\/td>\n",
       "      <td>Short<\/td>\n",
       "      <td>No<\/td>\n",
       "      <td>No<\/td>\n",
       "      <td>Healthy<\/td>\n",
       "      <td>100<\/td>\n",
       "      <td>Nibble is a 3+ month old ball of cuteness. He ...<\/td>\n",
       "      <td>1<\/td>\n",
       "      <td>2<\/td>\n",
       "    <\/tr>\n",
       "    <tr>\n",
       "      <th>1<\/th>\n",
       "      <td>Cat<\/td>\n",
       "      <td>1<\/td>\n",
       "      <td>Domestic Medium Hair<\/td>\n",
       "      <td>Male<\/td>\n",
       "      <td>Black<\/td>\n",
       "      <td>Brown<\/td>\n",
       "      <td>Medium<\/td>\n",
       "      <td>Medium<\/td>\n",
       "      <td>Not Sure<\/td>\n",
       "      <td>Not Sure<\/td>\n",
       "      <td>Healthy<\/td>\n",
       "      <td>0<\/td>\n",
       "      <td>I just found it alone yesterday near my apartm...<\/td>\n",
       "      <td>2<\/td>\n",
       "      <td>0<\/td>\n",
       "    <\/tr>\n",
       "    <tr>\n",
       "      <th>2<\/th>\n",
       "      <td>Dog<\/td>\n",
       "      <td>1<\/td>\n",
       "      <td>Mixed Breed<\/td>\n",
       "      <td>Male<\/td>\n",
       "      <td>Brown<\/td>\n",
       "      <td>White<\/td>\n",
       "      <td>Medium<\/td>\n",
       "      <td>Medium<\/td>\n",
       "      <td>Yes<\/td>\n",
       "      <td>No<\/td>\n",
       "      <td>Healthy<\/td>\n",
       "      <td>0<\/td>\n",
       "      <td>Their pregnant mother was dumped by her irresp...<\/td>\n",
       "      <td>7<\/td>\n",
       "      <td>3<\/td>\n",
       "    <\/tr>\n",
       "    <tr>\n",
       "      <th>3<\/th>\n",
       "      <td>Dog<\/td>\n",
       "      <td>4<\/td>\n",
       "      <td>Mixed Breed<\/td>\n",
       "      <td>Female<\/td>\n",
       "      <td>Black<\/td>\n",
       "      <td>Brown<\/td>\n",
       "      <td>Medium<\/td>\n",
       "      <td>Short<\/td>\n",
       "      <td>Yes<\/td>\n",
       "      <td>No<\/td>\n",
       "      <td>Healthy<\/td>\n",
       "      <td>150<\/td>\n",
       "      <td>Good guard dog, very alert, active, obedience ...<\/td>\n",
       "      <td>8<\/td>\n",
       "      <td>2<\/td>\n",
       "    <\/tr>\n",
       "    <tr>\n",
       "      <th>4<\/th>\n",
       "      <td>Dog<\/td>\n",
       "      <td>1<\/td>\n",
       "      <td>Mixed Breed<\/td>\n",
       "      <td>Male<\/td>\n",
       "      <td>Black<\/td>\n",
       "      <td>No Color<\/td>\n",
       "      <td>Medium<\/td>\n",
       "      <td>Short<\/td>\n",
       "      <td>No<\/td>\n",
       "      <td>No<\/td>\n",
       "      <td>Healthy<\/td>\n",
       "      <td>0<\/td>\n",
       "      <td>This handsome yet cute boy is up for adoption....<\/td>\n",
       "      <td>3<\/td>\n",
       "      <td>2<\/td>\n",
       "    <\/tr>\n",
       "  <\/tbody>\n",
       "<\/table>\n",
       "<\/div>"
      ]
     },
     "metadata":{
      
     },
     "output_type":"display_data"
    }
   ],
   "metadata":{
    "datalore":{
     "node_id":"wZm8jKXcMqvsPNpsLEBS93",
     "type":"CODE",
     "hide_input_from_viewers":false,
     "hide_output_from_viewers":false
    }
   }
  },
  {
   "cell_type":"code",
   "source":[
    "dataframe['target'] = np.where(dataframe['AdoptionSpeed']==4,0,1)\n",
    "dataframe = dataframe.drop(columns=['AdoptionSpeed','Description'])"
   ],
   "execution_count":6,
   "outputs":[
    
   ],
   "metadata":{
    "datalore":{
     "node_id":"lenrc3Ep0c63umCp5nRPBJ",
     "type":"CODE",
     "hide_input_from_viewers":false,
     "hide_output_from_viewers":false
    }
   }
  },
  {
   "cell_type":"code",
   "source":[
    "#podział DataFrame na trzy podstawowe strukturty: zbiór treningowy, walidacyjny i testowy\n",
    "train,val,test = np.split(dataframe.sample(frac=1),[int(0.8*len(dataframe)),int(0.9*len(dataframe))])"
   ],
   "execution_count":7,
   "outputs":[
    
   ],
   "metadata":{
    "datalore":{
     "node_id":"XBXsQQBd94DFsid3BwStIw",
     "type":"CODE",
     "hide_input_from_viewers":false,
     "hide_output_from_viewers":false
    }
   }
  },
  {
   "cell_type":"code",
   "source":[
    "print(f'zbiór treningowy: {len(train)}')\n",
    "print(f'zbiór walidacyjny: {len(val)}')\n",
    "print(f'zbiór testowy: {len(test)}')"
   ],
   "execution_count":8,
   "outputs":[
    {
     "name":"stdout",
     "text":[
      "zbiór treningowy: 9229\n",
      "zbiór walidacyjny: 1154\n",
      "zbiór testowy: 1154\n"
     ],
     "output_type":"stream"
    }
   ],
   "metadata":{
    "datalore":{
     "node_id":"n3t8u5TAAxAAEjY2TMKgyH",
     "type":"CODE",
     "hide_input_from_viewers":false,
     "hide_output_from_viewers":false
    }
   }
  },
  {
   "cell_type":"code",
   "source":[
    "#utworzenie potoku wejściowego\n",
    "def df_to_dataset(dataframe, shuffle=True, batch_size=32):\n",
    "    df = dataframe.copy()\n",
    "    labels = df.pop('target')\n",
    "    df = {key:value[:,tf.newaxis] for key,value in dataframe.items()}\n",
    "    ds = tf.data.Dataset.from_tensor_slices((dict(df),labels))\n",
    "    if shuffle:\n",
    "        ds = ds.shuffle(buffer_size=len(dataframe))\n",
    "    ds = ds.batch(batch_size)\n",
    "    ds = ds.prefetch(batch_size)\n",
    "    return ds"
   ],
   "execution_count":13,
   "outputs":[
    
   ],
   "metadata":{
    "datalore":{
     "node_id":"MlX9LRfit8INtEiLSdRLWF",
     "type":"CODE",
     "hide_input_from_viewers":false,
     "hide_output_from_viewers":false
    }
   }
  },
  {
   "cell_type":"code",
   "source":[
    "batch_size = 5\n",
    "train_ds = df_to_dataset(train,batch_size = batch_size)"
   ],
   "execution_count":14,
   "outputs":[
    {
     "name":"stderr",
     "text":[
      "<ipython-input-13-a989639dc007>:5: FutureWarning: Support for multi-dimensional indexing (e.g. `obj[:, None]`) is deprecated and will be removed in a future version.  Convert to a numpy array before indexing instead.\n",
      "  df = {key:value[:,tf.newaxis] for key,value in dataframe.items()}\n"
     ],
     "output_type":"stream"
    }
   ],
   "metadata":{
    "datalore":{
     "node_id":"jub9qtS9IErD2WpMkpqzvW",
     "type":"CODE",
     "hide_input_from_viewers":false,
     "hide_output_from_viewers":false
    }
   }
  },
  {
   "cell_type":"code",
   "source":[
    "[(train_features, label_batch)] = train_ds.take(1)\n",
    "print(f'każdy przypadek: {list(train_features.keys())}')\n",
    "print(f'Wartość -> Wiek: {train_features[\"Age\"]}')\n",
    "print(f'Batch: {label_batch}')"
   ],
   "execution_count":15,
   "outputs":[
    {
     "name":"stdout",
     "text":[
      "każdy przypadek: ['Type', 'Age', 'Breed1', 'Gender', 'Color1', 'Color2', 'MaturitySize', 'FurLength', 'Vaccinated', 'Sterilized', 'Health', 'Fee', 'PhotoAmt', 'target']\n",
      "Wartość -> Wiek: [[ 6]\n",
      " [60]\n",
      " [ 5]\n",
      " [ 3]\n",
      " [10]]\n",
      "Batch: [1 1 0 1 0]\n"
     ],
     "output_type":"stream"
    }
   ],
   "metadata":{
    "datalore":{
     "node_id":"DTaOT6hhbBqSXUNCQFr8pN",
     "type":"CODE",
     "hide_input_from_viewers":false,
     "hide_output_from_viewers":false
    }
   }
  }
 ],
 "metadata":{
  "kernelspec":{
   "display_name":"Python",
   "language":"python",
   "name":"python"
  },
  "datalore":{
   "version":1,
   "computation_mode":"JUPYTER",
   "package_manager":"pip",
   "base_environment":"default",
   "packages":[
    
   ]
  }
 },
 "nbformat":4,
 "nbformat_minor":4
}