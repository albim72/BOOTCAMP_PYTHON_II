{
 "cells":[
  {
   "cell_type":"code",
   "source":[
    "import pandas as pd\n",
    "import numpy as np\n",
    "from datetime import datetime\n",
    "import pytz"
   ],
   "execution_count":27,
   "outputs":[
    
   ],
   "metadata":{
    "datalore":{
     "node_id":"KWLHqiV8BUGVuji2Buwm4U",
     "type":"CODE",
     "hide_input_from_viewers":false,
     "hide_output_from_viewers":false
    }
   }
  },
  {
   "cell_type":"code",
   "source":[
    "pytz.common_timezones[-5:]"
   ],
   "execution_count":28,
   "outputs":[
    {
     "data":{
      "text\/plain":[
       "['US\/Eastern', 'US\/Hawaii', 'US\/Mountain', 'US\/Pacific', 'UTC']"
      ]
     },
     "metadata":{
      
     },
     "output_type":"display_data"
    }
   ],
   "metadata":{
    "datalore":{
     "node_id":"fuKsGr9TZrEA0VujxiijZY",
     "type":"CODE",
     "hide_input_from_viewers":false,
     "hide_output_from_viewers":false
    }
   }
  },
  {
   "cell_type":"code",
   "source":[
    "tz = pytz.timezone('America\/New_York')\n",
    "tz"
   ],
   "execution_count":29,
   "outputs":[
    {
     "data":{
      "text\/plain":[
       "<DstTzInfo 'America\/New_York' LMT-1 day, 19:04:00 STD>"
      ]
     },
     "metadata":{
      
     },
     "output_type":"display_data"
    }
   ],
   "metadata":{
    "datalore":{
     "node_id":"4Ax8GM7s8eowJtSDcVoj2q",
     "type":"CODE",
     "hide_input_from_viewers":false,
     "hide_output_from_viewers":false
    }
   }
  },
  {
   "cell_type":"code",
   "source":[
    "rng = pd.date_range('3\/9\/2012 9:30', periods=6, freq='D')"
   ],
   "execution_count":30,
   "outputs":[
    
   ],
   "metadata":{
    "datalore":{
     "node_id":"ToFaO7Qh8bK7GqPgT03GTx",
     "type":"CODE",
     "hide_input_from_viewers":false,
     "hide_output_from_viewers":false
    }
   }
  },
  {
   "cell_type":"code",
   "source":[
    "ts = pd.Series(np.random.rand(len(rng)), index=rng)\n",
    "ts"
   ],
   "execution_count":31,
   "outputs":[
    {
     "data":{
      "text\/html":[
       "<pre>2012-03-09 09:30:00    0.430618\n",
       "2012-03-10 09:30:00    0.158463\n",
       "2012-03-11 09:30:00    0.516288\n",
       "2012-03-12 09:30:00    0.455069\n",
       "2012-03-13 09:30:00    0.279183\n",
       "2012-03-14 09:30:00    0.375950\n",
       "Freq: D, dtype: float64<\/pre>"
      ]
     },
     "metadata":{
      
     },
     "output_type":"display_data"
    }
   ],
   "metadata":{
    "datalore":{
     "node_id":"Qipf6szVlANTbl8X638VVX",
     "type":"CODE",
     "hide_input_from_viewers":false,
     "hide_output_from_viewers":false
    }
   }
  },
  {
   "cell_type":"code",
   "source":[
    "print(ts.index.tz)"
   ],
   "execution_count":32,
   "outputs":[
    {
     "name":"stdout",
     "text":[
      "None\n"
     ],
     "output_type":"stream"
    }
   ],
   "metadata":{
    "datalore":{
     "node_id":"d3SyGocmxe4NX7sp6ZYXOL",
     "type":"CODE",
     "hide_input_from_viewers":false,
     "hide_output_from_viewers":false
    }
   }
  },
  {
   "cell_type":"code",
   "source":[
    "pd.date_range('3\/9\/2012 9:30', periods=10, freq='D', tz=\"UTC\")"
   ],
   "execution_count":33,
   "outputs":[
    {
     "data":{
      "text\/plain":[
       "DatetimeIndex(['2012-03-09 09:30:00+00:00', '2012-03-10 09:30:00+00:00',\n",
       "               '2012-03-11 09:30:00+00:00', '2012-03-12 09:30:00+00:00',\n",
       "               '2012-03-13 09:30:00+00:00', '2012-03-14 09:30:00+00:00',\n",
       "               '2012-03-15 09:30:00+00:00', '2012-03-16 09:30:00+00:00',\n",
       "               '2012-03-17 09:30:00+00:00', '2012-03-18 09:30:00+00:00'],\n",
       "              dtype='datetime64[ns, UTC]', freq='D')"
      ]
     },
     "metadata":{
      
     },
     "output_type":"display_data"
    }
   ],
   "metadata":{
    "datalore":{
     "node_id":"M7O1XaMLNpiOq0ZL6rC1Y9",
     "type":"CODE",
     "hide_input_from_viewers":false,
     "hide_output_from_viewers":false
    }
   }
  },
  {
   "cell_type":"code",
   "source":[
    "ts"
   ],
   "execution_count":34,
   "outputs":[
    {
     "data":{
      "text\/html":[
       "<pre>2012-03-09 09:30:00    0.430618\n",
       "2012-03-10 09:30:00    0.158463\n",
       "2012-03-11 09:30:00    0.516288\n",
       "2012-03-12 09:30:00    0.455069\n",
       "2012-03-13 09:30:00    0.279183\n",
       "2012-03-14 09:30:00    0.375950\n",
       "Freq: D, dtype: float64<\/pre>"
      ]
     },
     "metadata":{
      
     },
     "output_type":"display_data"
    }
   ],
   "metadata":{
    "datalore":{
     "node_id":"QCu70UujB7wOVNqWgRrWs6",
     "type":"CODE",
     "hide_input_from_viewers":false,
     "hide_output_from_viewers":false
    }
   }
  },
  {
   "cell_type":"code",
   "source":[
    "ts_utc = ts.tz_localize('UTC')\n",
    "ts_utc"
   ],
   "execution_count":35,
   "outputs":[
    {
     "data":{
      "text\/html":[
       "<pre>2012-03-09 09:30:00+00:00    0.430618\n",
       "2012-03-10 09:30:00+00:00    0.158463\n",
       "2012-03-11 09:30:00+00:00    0.516288\n",
       "2012-03-12 09:30:00+00:00    0.455069\n",
       "2012-03-13 09:30:00+00:00    0.279183\n",
       "2012-03-14 09:30:00+00:00    0.375950\n",
       "Freq: D, dtype: float64<\/pre>"
      ]
     },
     "metadata":{
      
     },
     "output_type":"display_data"
    }
   ],
   "metadata":{
    "datalore":{
     "node_id":"UPc1F01RlMPsIr6on8wQsg",
     "type":"CODE",
     "hide_input_from_viewers":false,
     "hide_output_from_viewers":false
    }
   }
  },
  {
   "cell_type":"code",
   "source":[
    "ts_utc.tz_convert('America\/New_York')"
   ],
   "execution_count":36,
   "outputs":[
    {
     "data":{
      "text\/html":[
       "<pre>2012-03-09 04:30:00-05:00    0.430618\n",
       "2012-03-10 04:30:00-05:00    0.158463\n",
       "2012-03-11 05:30:00-04:00    0.516288\n",
       "2012-03-12 05:30:00-04:00    0.455069\n",
       "2012-03-13 05:30:00-04:00    0.279183\n",
       "2012-03-14 05:30:00-04:00    0.375950\n",
       "Freq: D, dtype: float64<\/pre>"
      ]
     },
     "metadata":{
      
     },
     "output_type":"display_data"
    }
   ],
   "metadata":{
    "datalore":{
     "node_id":"axLNfk9YLhejH4DfB8EUnN",
     "type":"CODE",
     "hide_input_from_viewers":false,
     "hide_output_from_viewers":false
    }
   }
  },
  {
   "cell_type":"code",
   "source":[
    "ts_eastern = ts.tz_localize(\"America\/New_York\")\n",
    "ts_eastern .tz_convert('UTC')"
   ],
   "execution_count":37,
   "outputs":[
    {
     "data":{
      "text\/html":[
       "<pre>2012-03-09 14:30:00+00:00    0.430618\n",
       "2012-03-10 14:30:00+00:00    0.158463\n",
       "2012-03-11 13:30:00+00:00    0.516288\n",
       "2012-03-12 13:30:00+00:00    0.455069\n",
       "2012-03-13 13:30:00+00:00    0.279183\n",
       "2012-03-14 13:30:00+00:00    0.375950\n",
       "dtype: float64<\/pre>"
      ]
     },
     "metadata":{
      
     },
     "output_type":"display_data"
    }
   ],
   "metadata":{
    "datalore":{
     "node_id":"r7eXgrewxfKFyK8XIdLM2X",
     "type":"CODE",
     "hide_input_from_viewers":false,
     "hide_output_from_viewers":false
    }
   }
  },
  {
   "cell_type":"code",
   "source":[
    "ts_eastern.tz_convert('Europe\/Berlin')"
   ],
   "execution_count":38,
   "outputs":[
    {
     "data":{
      "text\/html":[
       "<pre>2012-03-09 15:30:00+01:00    0.430618\n",
       "2012-03-10 15:30:00+01:00    0.158463\n",
       "2012-03-11 14:30:00+01:00    0.516288\n",
       "2012-03-12 14:30:00+01:00    0.455069\n",
       "2012-03-13 14:30:00+01:00    0.279183\n",
       "2012-03-14 14:30:00+01:00    0.375950\n",
       "dtype: float64<\/pre>"
      ]
     },
     "metadata":{
      
     },
     "output_type":"display_data"
    }
   ],
   "metadata":{
    "datalore":{
     "node_id":"Yhvchhs8AK2RWAuv41howj",
     "type":"CODE",
     "hide_input_from_viewers":false,
     "hide_output_from_viewers":false
    }
   }
  },
  {
   "cell_type":"code",
   "source":[
    "ts.index.tz_localize('Asia\/Shanghai')"
   ],
   "execution_count":39,
   "outputs":[
    {
     "data":{
      "text\/plain":[
       "DatetimeIndex(['2012-03-09 09:30:00+08:00', '2012-03-10 09:30:00+08:00',\n",
       "               '2012-03-11 09:30:00+08:00', '2012-03-12 09:30:00+08:00',\n",
       "               '2012-03-13 09:30:00+08:00', '2012-03-14 09:30:00+08:00'],\n",
       "              dtype='datetime64[ns, Asia\/Shanghai]', freq=None)"
      ]
     },
     "metadata":{
      
     },
     "output_type":"display_data"
    }
   ],
   "metadata":{
    "datalore":{
     "node_id":"MS9Yw0wmfc4uF97FeT4X2n",
     "type":"CODE",
     "hide_input_from_viewers":false,
     "hide_output_from_viewers":false
    }
   }
  },
  {
   "cell_type":"code",
   "source":[
    "stamp = pd.Timestamp('2011-03-12 4:00')\n",
    "stamp_utc = stamp.tz_localize('UTC')\n",
    "stamp_utc.tz_convert('America\/New_York')"
   ],
   "execution_count":40,
   "outputs":[
    {
     "data":{
      "text\/plain":[
       "Timestamp('2011-03-11 23:00:00-0500', tz='America\/New_York')"
      ]
     },
     "metadata":{
      
     },
     "output_type":"display_data"
    }
   ],
   "metadata":{
    "datalore":{
     "node_id":"Deqvlqrg8GXKDg71aMMDUP",
     "type":"CODE",
     "hide_input_from_viewers":false,
     "hide_output_from_viewers":false
    }
   }
  },
  {
   "cell_type":"code",
   "source":[
    "stamp_moscow = pd.Timestamp('2011-03-12 4:00', tz='Europe\/Moscow')\n",
    "stamp_moscow"
   ],
   "execution_count":41,
   "outputs":[
    {
     "data":{
      "text\/plain":[
       "Timestamp('2011-03-12 04:00:00+0300', tz='Europe\/Moscow')"
      ]
     },
     "metadata":{
      
     },
     "output_type":"display_data"
    }
   ],
   "metadata":{
    "datalore":{
     "node_id":"rug4Kd4AP5PnN92KZg8VRo",
     "type":"CODE",
     "hide_input_from_viewers":false,
     "hide_output_from_viewers":false
    }
   }
  },
  {
   "cell_type":"code",
   "source":[
    "p = pd.Period(2007,freq='A-DEC')\n",
    "p"
   ],
   "execution_count":42,
   "outputs":[
    {
     "data":{
      "text\/plain":[
       "Period('2007', 'A-DEC')"
      ]
     },
     "metadata":{
      
     },
     "output_type":"display_data"
    }
   ],
   "metadata":{
    "datalore":{
     "node_id":"qUuOKEeOGzVCN8xmuueEEF",
     "type":"CODE",
     "hide_input_from_viewers":false,
     "hide_output_from_viewers":false
    }
   }
  },
  {
   "cell_type":"code",
   "source":[
    "p+5"
   ],
   "execution_count":43,
   "outputs":[
    {
     "data":{
      "text\/plain":[
       "Period('2012', 'A-DEC')"
      ]
     },
     "metadata":{
      
     },
     "output_type":"display_data"
    }
   ],
   "metadata":{
    "datalore":{
     "node_id":"fl6nmtByTuJbQx67FnQNkj",
     "type":"CODE",
     "hide_input_from_viewers":false,
     "hide_output_from_viewers":false
    }
   }
  },
  {
   "cell_type":"code",
   "source":[
    "pd.Period('2015',freq='A-DEC') - p"
   ],
   "execution_count":44,
   "outputs":[
    {
     "data":{
      "text\/plain":[
       "<8 * YearEnds: month=12>"
      ]
     },
     "metadata":{
      
     },
     "output_type":"display_data"
    }
   ],
   "metadata":{
    "datalore":{
     "node_id":"cfnZJ59xKm9X4njKnbGMri",
     "type":"CODE",
     "hide_input_from_viewers":false,
     "hide_output_from_viewers":false
    }
   }
  },
  {
   "cell_type":"code",
   "source":[
    "rng = pd.period_range('2000-01-01','2000-06-30',freq='M')\n",
    "rng"
   ],
   "execution_count":45,
   "outputs":[
    {
     "data":{
      "text\/plain":[
       "PeriodIndex(['2000-01', '2000-02', '2000-03', '2000-04', '2000-05', '2000-06'], dtype='period[M]')"
      ]
     },
     "metadata":{
      
     },
     "output_type":"display_data"
    }
   ],
   "metadata":{
    "datalore":{
     "node_id":"4dSOQu0VEXi2lAmumjlKL2",
     "type":"CODE",
     "hide_input_from_viewers":false,
     "hide_output_from_viewers":false
    }
   }
  },
  {
   "cell_type":"code",
   "source":[
    "pd.Series(np.random.randn(6),index=rng)"
   ],
   "execution_count":46,
   "outputs":[
    {
     "data":{
      "text\/html":[
       "<pre>2000-01    0.756746\n",
       "2000-02   -0.564259\n",
       "2000-03    1.900505\n",
       "2000-04    2.145936\n",
       "2000-05    0.201722\n",
       "2000-06   -0.850194\n",
       "Freq: M, dtype: float64<\/pre>"
      ]
     },
     "metadata":{
      
     },
     "output_type":"display_data"
    }
   ],
   "metadata":{
    "datalore":{
     "node_id":"nIBJd8AfbEimAvhTDBb44k",
     "type":"CODE",
     "hide_input_from_viewers":false,
     "hide_output_from_viewers":false
    }
   }
  },
  {
   "cell_type":"code",
   "source":[
    "values = ['2001Q1','2002Q3','2003Q2']\n",
    "index = pd.PeriodIndex(values,freq='Q-DEC')\n",
    "index"
   ],
   "execution_count":47,
   "outputs":[
    {
     "data":{
      "text\/plain":[
       "PeriodIndex(['2001Q1', '2002Q3', '2003Q2'], dtype='period[Q-DEC]')"
      ]
     },
     "metadata":{
      
     },
     "output_type":"display_data"
    }
   ],
   "metadata":{
    "datalore":{
     "node_id":"X4UF3p5MiVOLAQNw8XTfdZ",
     "type":"CODE",
     "hide_input_from_viewers":false,
     "hide_output_from_viewers":false
    }
   }
  },
  {
   "cell_type":"code",
   "source":[
    "#konwersja znaczników czsu na okresy\n",
    "rng = pd.date_range('2000-01-01', periods=3, freq='M')\n",
    "ts = pd.Series(np.random.randn(3), index=rng)\n",
    "ts"
   ],
   "execution_count":48,
   "outputs":[
    {
     "data":{
      "text\/html":[
       "<pre>2000-01-31    0.066996\n",
       "2000-02-29   -1.001520\n",
       "2000-03-31    1.357531\n",
       "Freq: M, dtype: float64<\/pre>"
      ]
     },
     "metadata":{
      
     },
     "output_type":"display_data"
    }
   ],
   "metadata":{
    "datalore":{
     "node_id":"jNqHJ8uszTOIMMkW7kZTOb",
     "type":"CODE",
     "hide_input_from_viewers":false,
     "hide_output_from_viewers":false
    }
   }
  },
  {
   "cell_type":"code",
   "source":[
    "pts = ts.to_period()\n",
    "pts"
   ],
   "execution_count":49,
   "outputs":[
    {
     "data":{
      "text\/html":[
       "<pre>2000-01    0.066996\n",
       "2000-02   -1.001520\n",
       "2000-03    1.357531\n",
       "Freq: M, dtype: float64<\/pre>"
      ]
     },
     "metadata":{
      
     },
     "output_type":"display_data"
    }
   ],
   "metadata":{
    "datalore":{
     "node_id":"mzFxecZmTnIKhqYLjoHdgK",
     "type":"CODE",
     "hide_input_from_viewers":false,
     "hide_output_from_viewers":false
    }
   }
  },
  {
   "cell_type":"code",
   "source":[
    "data = pd.read_csv('macrodata.csv')\n",
    "data.head(10)"
   ],
   "execution_count":50,
   "outputs":[
    {
     "data":{
      "text\/html":[
       "<div>\n",
       "<style scoped>\n",
       "    .dataframe tbody tr th:only-of-type {\n",
       "        vertical-align: middle;\n",
       "    }\n",
       "\n",
       "    .dataframe tbody tr th {\n",
       "        vertical-align: top;\n",
       "    }\n",
       "\n",
       "    .dataframe thead th {\n",
       "        text-align: right;\n",
       "    }\n",
       "<\/style>\n",
       "<table border=\"1\" class=\"dataframe\">\n",
       "  <thead>\n",
       "    <tr style=\"text-align: right;\">\n",
       "      <th><\/th>\n",
       "      <th>year<\/th>\n",
       "      <th>quarter<\/th>\n",
       "      <th>realgdp<\/th>\n",
       "      <th>realcons<\/th>\n",
       "      <th>realinv<\/th>\n",
       "      <th>realgovt<\/th>\n",
       "      <th>realdpi<\/th>\n",
       "      <th>cpi<\/th>\n",
       "      <th>m1<\/th>\n",
       "      <th>tbilrate<\/th>\n",
       "      <th>unemp<\/th>\n",
       "      <th>pop<\/th>\n",
       "      <th>infl<\/th>\n",
       "      <th>realint<\/th>\n",
       "    <\/tr>\n",
       "  <\/thead>\n",
       "  <tbody>\n",
       "    <tr>\n",
       "      <th>0<\/th>\n",
       "      <td>1959.0<\/td>\n",
       "      <td>1.0<\/td>\n",
       "      <td>2710.349<\/td>\n",
       "      <td>1707.4<\/td>\n",
       "      <td>286.898<\/td>\n",
       "      <td>470.045<\/td>\n",
       "      <td>1886.9<\/td>\n",
       "      <td>28.98<\/td>\n",
       "      <td>139.7<\/td>\n",
       "      <td>2.82<\/td>\n",
       "      <td>5.8<\/td>\n",
       "      <td>177.146<\/td>\n",
       "      <td>0.00<\/td>\n",
       "      <td>0.00<\/td>\n",
       "    <\/tr>\n",
       "    <tr>\n",
       "      <th>1<\/th>\n",
       "      <td>1959.0<\/td>\n",
       "      <td>2.0<\/td>\n",
       "      <td>2778.801<\/td>\n",
       "      <td>1733.7<\/td>\n",
       "      <td>310.859<\/td>\n",
       "      <td>481.301<\/td>\n",
       "      <td>1919.7<\/td>\n",
       "      <td>29.15<\/td>\n",
       "      <td>141.7<\/td>\n",
       "      <td>3.08<\/td>\n",
       "      <td>5.1<\/td>\n",
       "      <td>177.830<\/td>\n",
       "      <td>2.34<\/td>\n",
       "      <td>0.74<\/td>\n",
       "    <\/tr>\n",
       "    <tr>\n",
       "      <th>2<\/th>\n",
       "      <td>1959.0<\/td>\n",
       "      <td>3.0<\/td>\n",
       "      <td>2775.488<\/td>\n",
       "      <td>1751.8<\/td>\n",
       "      <td>289.226<\/td>\n",
       "      <td>491.260<\/td>\n",
       "      <td>1916.4<\/td>\n",
       "      <td>29.35<\/td>\n",
       "      <td>140.5<\/td>\n",
       "      <td>3.82<\/td>\n",
       "      <td>5.3<\/td>\n",
       "      <td>178.657<\/td>\n",
       "      <td>2.74<\/td>\n",
       "      <td>1.09<\/td>\n",
       "    <\/tr>\n",
       "    <tr>\n",
       "      <th>3<\/th>\n",
       "      <td>1959.0<\/td>\n",
       "      <td>4.0<\/td>\n",
       "      <td>2785.204<\/td>\n",
       "      <td>1753.7<\/td>\n",
       "      <td>299.356<\/td>\n",
       "      <td>484.052<\/td>\n",
       "      <td>1931.3<\/td>\n",
       "      <td>29.37<\/td>\n",
       "      <td>140.0<\/td>\n",
       "      <td>4.33<\/td>\n",
       "      <td>5.6<\/td>\n",
       "      <td>179.386<\/td>\n",
       "      <td>0.27<\/td>\n",
       "      <td>4.06<\/td>\n",
       "    <\/tr>\n",
       "    <tr>\n",
       "      <th>4<\/th>\n",
       "      <td>1960.0<\/td>\n",
       "      <td>1.0<\/td>\n",
       "      <td>2847.699<\/td>\n",
       "      <td>1770.5<\/td>\n",
       "      <td>331.722<\/td>\n",
       "      <td>462.199<\/td>\n",
       "      <td>1955.5<\/td>\n",
       "      <td>29.54<\/td>\n",
       "      <td>139.6<\/td>\n",
       "      <td>3.50<\/td>\n",
       "      <td>5.2<\/td>\n",
       "      <td>180.007<\/td>\n",
       "      <td>2.31<\/td>\n",
       "      <td>1.19<\/td>\n",
       "    <\/tr>\n",
       "    <tr>\n",
       "      <th>5<\/th>\n",
       "      <td>1960.0<\/td>\n",
       "      <td>2.0<\/td>\n",
       "      <td>2834.390<\/td>\n",
       "      <td>1792.9<\/td>\n",
       "      <td>298.152<\/td>\n",
       "      <td>460.400<\/td>\n",
       "      <td>1966.1<\/td>\n",
       "      <td>29.55<\/td>\n",
       "      <td>140.2<\/td>\n",
       "      <td>2.68<\/td>\n",
       "      <td>5.2<\/td>\n",
       "      <td>180.671<\/td>\n",
       "      <td>0.14<\/td>\n",
       "      <td>2.55<\/td>\n",
       "    <\/tr>\n",
       "    <tr>\n",
       "      <th>6<\/th>\n",
       "      <td>1960.0<\/td>\n",
       "      <td>3.0<\/td>\n",
       "      <td>2839.022<\/td>\n",
       "      <td>1785.8<\/td>\n",
       "      <td>296.375<\/td>\n",
       "      <td>474.676<\/td>\n",
       "      <td>1967.8<\/td>\n",
       "      <td>29.75<\/td>\n",
       "      <td>140.9<\/td>\n",
       "      <td>2.36<\/td>\n",
       "      <td>5.6<\/td>\n",
       "      <td>181.528<\/td>\n",
       "      <td>2.70<\/td>\n",
       "      <td>-0.34<\/td>\n",
       "    <\/tr>\n",
       "    <tr>\n",
       "      <th>7<\/th>\n",
       "      <td>1960.0<\/td>\n",
       "      <td>4.0<\/td>\n",
       "      <td>2802.616<\/td>\n",
       "      <td>1788.2<\/td>\n",
       "      <td>259.764<\/td>\n",
       "      <td>476.434<\/td>\n",
       "      <td>1966.6<\/td>\n",
       "      <td>29.84<\/td>\n",
       "      <td>141.1<\/td>\n",
       "      <td>2.29<\/td>\n",
       "      <td>6.3<\/td>\n",
       "      <td>182.287<\/td>\n",
       "      <td>1.21<\/td>\n",
       "      <td>1.08<\/td>\n",
       "    <\/tr>\n",
       "    <tr>\n",
       "      <th>8<\/th>\n",
       "      <td>1961.0<\/td>\n",
       "      <td>1.0<\/td>\n",
       "      <td>2819.264<\/td>\n",
       "      <td>1787.7<\/td>\n",
       "      <td>266.405<\/td>\n",
       "      <td>475.854<\/td>\n",
       "      <td>1984.5<\/td>\n",
       "      <td>29.81<\/td>\n",
       "      <td>142.1<\/td>\n",
       "      <td>2.37<\/td>\n",
       "      <td>6.8<\/td>\n",
       "      <td>182.992<\/td>\n",
       "      <td>-0.40<\/td>\n",
       "      <td>2.77<\/td>\n",
       "    <\/tr>\n",
       "    <tr>\n",
       "      <th>9<\/th>\n",
       "      <td>1961.0<\/td>\n",
       "      <td>2.0<\/td>\n",
       "      <td>2872.005<\/td>\n",
       "      <td>1814.3<\/td>\n",
       "      <td>286.246<\/td>\n",
       "      <td>480.328<\/td>\n",
       "      <td>2014.4<\/td>\n",
       "      <td>29.92<\/td>\n",
       "      <td>142.9<\/td>\n",
       "      <td>2.29<\/td>\n",
       "      <td>7.0<\/td>\n",
       "      <td>183.691<\/td>\n",
       "      <td>1.47<\/td>\n",
       "      <td>0.81<\/td>\n",
       "    <\/tr>\n",
       "  <\/tbody>\n",
       "<\/table>\n",
       "<\/div>"
      ]
     },
     "metadata":{
      
     },
     "output_type":"display_data"
    }
   ],
   "metadata":{
    "datalore":{
     "node_id":"Sin2JCjMYUeSTjO9HxDz6z",
     "type":"CODE",
     "hide_input_from_viewers":false,
     "hide_output_from_viewers":false
    }
   }
  },
  {
   "cell_type":"code",
   "source":[
    "data.year"
   ],
   "execution_count":51,
   "outputs":[
    {
     "data":{
      "text\/html":[
       "<pre>0      1959.0\n",
       "1      1959.0\n",
       "2      1959.0\n",
       "3      1959.0\n",
       "4      1960.0\n",
       "        ...  \n",
       "198    2008.0\n",
       "199    2008.0\n",
       "200    2009.0\n",
       "201    2009.0\n",
       "202    2009.0\n",
       "Name: year, Length: 203, dtype: float64<\/pre>"
      ]
     },
     "metadata":{
      
     },
     "output_type":"display_data"
    }
   ],
   "metadata":{
    "datalore":{
     "node_id":"Eo7Rw497ZTNjCYoiMVs4tq",
     "type":"CODE",
     "hide_input_from_viewers":false,
     "hide_output_from_viewers":false
    }
   }
  },
  {
   "cell_type":"code",
   "source":[
    "data.quarter"
   ],
   "execution_count":52,
   "outputs":[
    {
     "data":{
      "text\/html":[
       "<pre>0      1.0\n",
       "1      2.0\n",
       "2      3.0\n",
       "3      4.0\n",
       "4      1.0\n",
       "      ... \n",
       "198    3.0\n",
       "199    4.0\n",
       "200    1.0\n",
       "201    2.0\n",
       "202    3.0\n",
       "Name: quarter, Length: 203, dtype: float64<\/pre>"
      ]
     },
     "metadata":{
      
     },
     "output_type":"display_data"
    }
   ],
   "metadata":{
    "datalore":{
     "node_id":"E5h2DCBjVqGMFJ66fqLRbS",
     "type":"CODE",
     "hide_input_from_viewers":false,
     "hide_output_from_viewers":false
    }
   }
  },
  {
   "cell_type":"code",
   "source":[
    "index = pd.PeriodIndex(year=data.year, quarter = data.quarter, freq='Q-DEC')\n",
    "index"
   ],
   "execution_count":53,
   "outputs":[
    {
     "data":{
      "text\/plain":[
       "PeriodIndex(['1959Q1', '1959Q2', '1959Q3', '1959Q4', '1960Q1', '1960Q2',\n",
       "             '1960Q3', '1960Q4', '1961Q1', '1961Q2',\n",
       "             ...\n",
       "             '2007Q2', '2007Q3', '2007Q4', '2008Q1', '2008Q2', '2008Q3',\n",
       "             '2008Q4', '2009Q1', '2009Q2', '2009Q3'],\n",
       "            dtype='period[Q-DEC]', length=203)"
      ]
     },
     "metadata":{
      
     },
     "output_type":"display_data"
    }
   ],
   "metadata":{
    "datalore":{
     "node_id":"uUWz4VHQN6zwYQqRjdFj4P",
     "type":"CODE",
     "hide_input_from_viewers":false,
     "hide_output_from_viewers":false
    }
   }
  },
  {
   "cell_type":"code",
   "source":[
    "data.index = index\n",
    "data.infl"
   ],
   "execution_count":54,
   "outputs":[
    {
     "data":{
      "text\/html":[
       "<pre>1959Q1    0.00\n",
       "1959Q2    2.34\n",
       "1959Q3    2.74\n",
       "1959Q4    0.27\n",
       "1960Q1    2.31\n",
       "          ... \n",
       "2008Q3   -3.16\n",
       "2008Q4   -8.79\n",
       "2009Q1    0.94\n",
       "2009Q2    3.37\n",
       "2009Q3    3.56\n",
       "Freq: Q-DEC, Name: infl, Length: 203, dtype: float64<\/pre>"
      ]
     },
     "metadata":{
      
     },
     "output_type":"display_data"
    }
   ],
   "metadata":{
    "datalore":{
     "node_id":"J4QZjVirJxWN0N5i2axmKz",
     "type":"CODE",
     "hide_input_from_viewers":false,
     "hide_output_from_viewers":false
    }
   }
  },
  {
   "cell_type":"code",
   "source":[
    "rng = pd.date_range('2000-01-01', periods=100, freq='D')\n",
    "ts = pd.Series(np.random.randn(len(rng)), index=rng)\n",
    "ts"
   ],
   "execution_count":55,
   "outputs":[
    {
     "data":{
      "text\/html":[
       "<pre>2000-01-01    0.541757\n",
       "2000-01-02   -0.561620\n",
       "2000-01-03    0.738595\n",
       "2000-01-04    0.561235\n",
       "2000-01-05   -0.405317\n",
       "                ...   \n",
       "2000-04-05   -1.360381\n",
       "2000-04-06    0.202034\n",
       "2000-04-07    0.733303\n",
       "2000-04-08    1.041200\n",
       "2000-04-09   -0.214268\n",
       "Freq: D, Length: 100, dtype: float64<\/pre>"
      ]
     },
     "metadata":{
      
     },
     "output_type":"display_data"
    }
   ],
   "metadata":{
    "datalore":{
     "node_id":"Z4pOECuFiuwKD6nqV9XAC2",
     "type":"CODE",
     "hide_input_from_viewers":false,
     "hide_output_from_viewers":false
    }
   }
  },
  {
   "cell_type":"code",
   "source":[
    "ts.resample('M').mean()"
   ],
   "execution_count":59,
   "outputs":[
    {
     "data":{
      "text\/html":[
       "<pre>2000-01-31    0.333780\n",
       "2000-02-29    0.031229\n",
       "2000-03-31    0.023353\n",
       "2000-04-30    0.290936\n",
       "Freq: M, dtype: float64<\/pre>"
      ]
     },
     "metadata":{
      
     },
     "output_type":"display_data"
    }
   ],
   "metadata":{
    "datalore":{
     "node_id":"PCdEewFOhczY0AnDcLDLli",
     "type":"CODE",
     "hide_input_from_viewers":false,
     "hide_output_from_viewers":false
    }
   }
  }
 ],
 "metadata":{
  "kernelspec":{
   "display_name":"Python",
   "language":"python",
   "name":"python"
  },
  "datalore":{
   "version":1,
   "computation_mode":"JUPYTER",
   "package_manager":"pip",
   "base_environment":"default",
   "packages":[
    
   ]
  }
 },
 "nbformat":4,
 "nbformat_minor":4
}