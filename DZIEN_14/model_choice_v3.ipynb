{
 "cells":[
  {
   "cell_type":"code",
   "source":[
    "import numpy as np\n",
    "import matplotlib.pyplot as plt\n",
    "from matplotlib.colors import ListedColormap\n",
    "from sklearn.model_selection import train_test_split\n",
    "from sklearn.preprocessing import StandardScaler\n",
    "from sklearn.pipeline import  make_pipeline\n",
    "from sklearn.datasets import make_moons, make_circles,make_classification\n",
    "from sklearn.neural_network import MLPClassifier\n",
    "from sklearn.neighbors import KNeighborsClassifier\n",
    "from sklearn.svm import SVC\n",
    "from sklearn.gaussian_process import GaussianProcessClassifier\n",
    "from sklearn.gaussian_process.kernels import RBF\n",
    "from sklearn.tree import DecisionTreeClassifier\n",
    "from sklearn.ensemble import RandomForestClassifier, AdaBoostClassifier\n",
    "from sklearn.naive_bayes import GaussianNB\n",
    "from sklearn.discriminant_analysis import QuadraticDiscriminantAnalysis\n",
    "from sklearn.inspection import DecisionBoundaryDisplay"
   ],
   "execution_count":2,
   "outputs":[
    
   ],
   "metadata":{
    "datalore":{
     "node_id":"Aj55oE2q0oxXs8KP3yIIUd",
     "type":"CODE",
     "hide_input_from_viewers":false,
     "hide_output_from_viewers":false
    }
   }
  },
  {
   "cell_type":"code",
   "source":[
    "names = [\n",
    "    \"Nearest Neighbours\",\n",
    "    \"Linear SVM\",\n",
    "    \"RBF SVM\",\n",
    "    \"Gaussian Process\",\n",
    "    \"Decision Tree\",\n",
    "    \"Random Forest\",\n",
    "    \"Neural Netowork\",\n",
    "    \"AdaBoost\",\n",
    "    \"Naive Bayes\",\n",
    "    \"QDA\"\n",
    "]"
   ],
   "execution_count":10,
   "outputs":[
    
   ],
   "metadata":{
    "datalore":{
     "node_id":"3wTADMO6jswHaVXpphDleE",
     "type":"CODE",
     "hide_input_from_viewers":false,
     "hide_output_from_viewers":false
    }
   }
  },
  {
   "cell_type":"code",
   "source":[
    "classifiers = [\n",
    "    KNeighborsClassifier(3),\n",
    "    SVC(kernel=\"linear\",C=0.025),\n",
    "    SVC(gamma = 2, C=1),\n",
    "    GaussianProcessClassifier(1.0*RBF(1.0)),\n",
    "    DecisionTreeClassifier(max_depth=5),\n",
    "    RandomForestClassifier(max_depth=5,n_estimators=10,max_features=1),\n",
    "    MLPClassifier(alpha=1,max_iter=1000),\n",
    "    AdaBoostClassifier(),\n",
    "    GaussianNB(),\n",
    "    QuadraticDiscriminantAnalysis()\n",
    "]"
   ],
   "execution_count":4,
   "outputs":[
    
   ],
   "metadata":{
    "datalore":{
     "node_id":"7cnqTtSGXnid4VqSqdHP8N",
     "type":"CODE",
     "hide_input_from_viewers":false,
     "hide_output_from_viewers":false
    }
   }
  },
  {
   "cell_type":"code",
   "source":[
    "#przygotowanie zbiorów\n",
    "X,y = make_classification(n_features=2,n_redundant=0,n_informative=2,random_state=1,n_clusters_per_class=1)\n",
    "rng = np.random.RandomState(2)\n",
    "X += 2*rng.uniform(size=X.shape)\n",
    "lineary_separable = (X,y)"
   ],
   "execution_count":5,
   "outputs":[
    
   ],
   "metadata":{
    "datalore":{
     "node_id":"rfbY0kgIAoxpAZELHxTlWx",
     "type":"CODE",
     "hide_input_from_viewers":false,
     "hide_output_from_viewers":false
    }
   }
  },
  {
   "cell_type":"code",
   "source":[
    "datasets = [\n",
    "    make_moons(noise=0.3, random_state=0),\n",
    "    make_circles(noise=0.2, factor=0.5, random_state=1),\n",
    "    lineary_separable\n",
    "]"
   ],
   "execution_count":6,
   "outputs":[
    
   ],
   "metadata":{
    "datalore":{
     "node_id":"5dy2LpgQivv5jUF1oTzRrE",
     "type":"CODE",
     "hide_input_from_viewers":false,
     "hide_output_from_viewers":false
    }
   }
  },
  {
   "cell_type":"code",
   "source":[
    "figure = plt.figure(figsize=(27,9))\n",
    "i=1\n",
    "for ds_cnt, ds in enumerate(datasets):\n",
    "    #preprocessing zbiorów danych\n",
    "    X,y = ds\n",
    "    X_train, X_test, y_train,y_test = train_test_split(X,y,test_size=0.4,random_state=42)\n",
    "\n",
    "    x_min, x_max = X[:,0].min() -0.5, X[:,0].max() + 0.5\n",
    "    y_min, y_max = X[:,1].min() -0.5, X[:,1].max() + 0.5\n",
    "    \n",
    "    #kreślimy pierwszy zbiór\n",
    "\n",
    "    cm = plt.cm.RdBu\n",
    "    cm_bright = ListedColormap([\"FF0000\",\"0000FF\"])\n",
    "    ax = plt.subplot(len(datasets),len(classifiers)+1,1)\n",
    "\n",
    "    if ds_cnt == 0:\n",
    "        ax.set_title(\"Dane wejściowe\")\n",
    "\n",
    "    ax.scatter(X_train[:,0],X_train[:,1], c=y_train, cmap=cm_bright,edgecolors=\"k\")\n",
    "    ax.scatter(X_test[:,0],X_test[:,1], c=y_test, cmap=cm_bright,edgecolors=\"k\",alpha = 0.6)\n",
    "    ax.set_xlim(x_min,x_max)\n",
    "    ax.set_ylim(y_min,y_max)\n",
    "    ax.set_xticks(())\n",
    "    ax.set_yticks(())\n",
    "    i+=1\n",
    "\n",
    "    #iterowanie diagramu po klasyfikatorach\n",
    "    for name,clf in zip(names,classifiers):\n",
    "        ax = plt.subplot(len(datasets),len(classifiers)+1, i)\n",
    "        clf = make_pipeline(StandardScaler(),clf)\n",
    "        clf.fit(X_train,y_train)\n",
    "        score = clf.score(X_test,y_test)\n",
    "        \n",
    "\n",
    "\n",
    "\n",
    "plt.tight_layout()\n",
    "plt.show()"
   ],
   "execution_count":9,
   "outputs":[
    {
     "data":{
      "text\/plain":[
       "<Figure size 1944x648 with 1 Axes>"
      ]
     },
     "metadata":{
      
     },
     "output_type":"display_data"
    }
   ],
   "metadata":{
    "datalore":{
     "node_id":"FMCNG2ETbxCFAnxSELo070",
     "type":"CODE",
     "hide_input_from_viewers":false,
     "hide_output_from_viewers":false
    }
   }
  }
 ],
 "metadata":{
  "kernelspec":{
   "display_name":"Python",
   "language":"python",
   "name":"python"
  },
  "datalore":{
   "version":1,
   "computation_mode":"JUPYTER",
   "package_manager":"pip",
   "base_environment":"default",
   "packages":[
    
   ]
  }
 },
 "nbformat":4,
 "nbformat_minor":4
}