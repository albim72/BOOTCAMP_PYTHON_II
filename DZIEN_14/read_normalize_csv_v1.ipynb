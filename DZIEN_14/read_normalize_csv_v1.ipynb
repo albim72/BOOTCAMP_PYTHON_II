{
 "cells":[
  {
   "cell_type":"code",
   "source":[
    "import pandas as pd\n",
    "import numpy as np\n",
    "np.set_printoptions(precision=3,suppress=True)\n",
    "\n",
    "import tensorflow as tf\n",
    "from tensorflow.keras import layers"
   ],
   "execution_count":1,
   "outputs":[
    
   ],
   "metadata":{
    "datalore":{
     "node_id":"ZNGZsQuJsKHvUD0vxl6DAt",
     "type":"CODE",
     "hide_input_from_viewers":false,
     "hide_output_from_viewers":false
    }
   }
  },
  {
   "cell_type":"code",
   "source":[
    "abalone_train = pd.read_csv(\"https:\/\/storage.googleapis.com\/download.tensorflow.org\/data\/abalone_train.csv\",\n",
    "                            names=[\"Length\",\"Diameter\",\"Height\",\"Whole weight\",\"Shucked weight\",\n",
    "                                   \"Viscera weight\",\"Shell weight\",\"Age\"])\n",
    "abalone_train.head()"
   ],
   "execution_count":3,
   "outputs":[
    {
     "data":{
      "text\/html":[
       "<div>\n",
       "<style scoped>\n",
       "    .dataframe tbody tr th:only-of-type {\n",
       "        vertical-align: middle;\n",
       "    }\n",
       "\n",
       "    .dataframe tbody tr th {\n",
       "        vertical-align: top;\n",
       "    }\n",
       "\n",
       "    .dataframe thead th {\n",
       "        text-align: right;\n",
       "    }\n",
       "<\/style>\n",
       "<table border=\"1\" class=\"dataframe\">\n",
       "  <thead>\n",
       "    <tr style=\"text-align: right;\">\n",
       "      <th><\/th>\n",
       "      <th>Length<\/th>\n",
       "      <th>Diameter<\/th>\n",
       "      <th>Height<\/th>\n",
       "      <th>Whole weight<\/th>\n",
       "      <th>Shucked weight<\/th>\n",
       "      <th>Viscera weight<\/th>\n",
       "      <th>Shell weight<\/th>\n",
       "      <th>Age<\/th>\n",
       "    <\/tr>\n",
       "  <\/thead>\n",
       "  <tbody>\n",
       "    <tr>\n",
       "      <th>0<\/th>\n",
       "      <td>0.435<\/td>\n",
       "      <td>0.335<\/td>\n",
       "      <td>0.110<\/td>\n",
       "      <td>0.334<\/td>\n",
       "      <td>0.1355<\/td>\n",
       "      <td>0.0775<\/td>\n",
       "      <td>0.0965<\/td>\n",
       "      <td>7<\/td>\n",
       "    <\/tr>\n",
       "    <tr>\n",
       "      <th>1<\/th>\n",
       "      <td>0.585<\/td>\n",
       "      <td>0.450<\/td>\n",
       "      <td>0.125<\/td>\n",
       "      <td>0.874<\/td>\n",
       "      <td>0.3545<\/td>\n",
       "      <td>0.2075<\/td>\n",
       "      <td>0.2250<\/td>\n",
       "      <td>6<\/td>\n",
       "    <\/tr>\n",
       "    <tr>\n",
       "      <th>2<\/th>\n",
       "      <td>0.655<\/td>\n",
       "      <td>0.510<\/td>\n",
       "      <td>0.160<\/td>\n",
       "      <td>1.092<\/td>\n",
       "      <td>0.3960<\/td>\n",
       "      <td>0.2825<\/td>\n",
       "      <td>0.3700<\/td>\n",
       "      <td>14<\/td>\n",
       "    <\/tr>\n",
       "    <tr>\n",
       "      <th>3<\/th>\n",
       "      <td>0.545<\/td>\n",
       "      <td>0.425<\/td>\n",
       "      <td>0.125<\/td>\n",
       "      <td>0.768<\/td>\n",
       "      <td>0.2940<\/td>\n",
       "      <td>0.1495<\/td>\n",
       "      <td>0.2600<\/td>\n",
       "      <td>16<\/td>\n",
       "    <\/tr>\n",
       "    <tr>\n",
       "      <th>4<\/th>\n",
       "      <td>0.545<\/td>\n",
       "      <td>0.420<\/td>\n",
       "      <td>0.130<\/td>\n",
       "      <td>0.879<\/td>\n",
       "      <td>0.3740<\/td>\n",
       "      <td>0.1695<\/td>\n",
       "      <td>0.2300<\/td>\n",
       "      <td>13<\/td>\n",
       "    <\/tr>\n",
       "  <\/tbody>\n",
       "<\/table>\n",
       "<\/div>"
      ]
     },
     "metadata":{
      
     },
     "output_type":"display_data"
    }
   ],
   "metadata":{
    "datalore":{
     "node_id":"dMHr4fKGSDPgiH4X01un1b",
     "type":"CODE",
     "hide_input_from_viewers":false,
     "hide_output_from_viewers":false
    }
   }
  },
  {
   "cell_type":"code",
   "source":[
    "abalone_features = abalone_train.copy()\n",
    "abalone_labels = abalone_features.pop('Age')"
   ],
   "execution_count":4,
   "outputs":[
    
   ],
   "metadata":{
    "datalore":{
     "node_id":"46X5kTy4EHlp45RC0USBA4",
     "type":"CODE",
     "hide_input_from_viewers":false,
     "hide_output_from_viewers":false
    }
   }
  },
  {
   "cell_type":"code",
   "source":[
    "abalone_features = np.array(abalone_features)\n",
    "print(abalone_features)"
   ],
   "execution_count":6,
   "outputs":[
    {
     "name":"stdout",
     "text":[
      "[[0.435 0.335 0.11  ... 0.136 0.077 0.097]\n",
      " [0.585 0.45  0.125 ... 0.354 0.207 0.225]\n",
      " [0.655 0.51  0.16  ... 0.396 0.282 0.37 ]\n",
      " ...\n",
      " [0.53  0.42  0.13  ... 0.374 0.167 0.249]\n",
      " [0.395 0.315 0.105 ... 0.118 0.091 0.119]\n",
      " [0.45  0.355 0.12  ... 0.115 0.067 0.16 ]]\n"
     ],
     "output_type":"stream"
    }
   ],
   "metadata":{
    "datalore":{
     "node_id":"yURpYWhYV1VHR11x0vGVWJ",
     "type":"CODE",
     "hide_input_from_viewers":false,
     "hide_output_from_viewers":false
    }
   }
  },
  {
   "cell_type":"code",
   "source":[
    "#zbiór TITANIC"
   ],
   "execution_count":null,
   "outputs":[
    
   ],
   "metadata":{
    "datalore":{
     "node_id":"Az2jlkeSsnr45nvqQ2pEr3",
     "type":"CODE",
     "hide_input_from_viewers":false,
     "hide_output_from_viewers":false
    }
   }
  }
 ],
 "metadata":{
  "kernelspec":{
   "display_name":"Python",
   "language":"python",
   "name":"python"
  },
  "datalore":{
   "version":1,
   "computation_mode":"JUPYTER",
   "package_manager":"pip",
   "base_environment":"default",
   "packages":[
    
   ]
  }
 },
 "nbformat":4,
 "nbformat_minor":4
}