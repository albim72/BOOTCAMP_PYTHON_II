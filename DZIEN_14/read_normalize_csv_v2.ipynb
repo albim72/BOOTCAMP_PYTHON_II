{
 "cells":[
  {
   "cell_type":"code",
   "source":[
    "import pandas as pd\n",
    "import numpy as np\n",
    "np.set_printoptions(precision=3,suppress=True)\n",
    "\n",
    "import tensorflow as tf\n",
    "from tensorflow.keras import layers"
   ],
   "execution_count":1,
   "outputs":[
    
   ],
   "metadata":{
    "datalore":{
     "node_id":"ZNGZsQuJsKHvUD0vxl6DAt",
     "type":"CODE",
     "hide_input_from_viewers":false,
     "hide_output_from_viewers":false
    }
   }
  },
  {
   "cell_type":"code",
   "source":[
    "abalone_train = pd.read_csv(\"https:\/\/storage.googleapis.com\/download.tensorflow.org\/data\/abalone_train.csv\",\n",
    "                            names=[\"Length\",\"Diameter\",\"Height\",\"Whole weight\",\"Shucked weight\",\n",
    "                                   \"Viscera weight\",\"Shell weight\",\"Age\"])\n",
    "abalone_train.head()"
   ],
   "execution_count":3,
   "outputs":[
    {
     "data":{
      "text\/html":[
       "<div>\n",
       "<style scoped>\n",
       "    .dataframe tbody tr th:only-of-type {\n",
       "        vertical-align: middle;\n",
       "    }\n",
       "\n",
       "    .dataframe tbody tr th {\n",
       "        vertical-align: top;\n",
       "    }\n",
       "\n",
       "    .dataframe thead th {\n",
       "        text-align: right;\n",
       "    }\n",
       "<\/style>\n",
       "<table border=\"1\" class=\"dataframe\">\n",
       "  <thead>\n",
       "    <tr style=\"text-align: right;\">\n",
       "      <th><\/th>\n",
       "      <th>Length<\/th>\n",
       "      <th>Diameter<\/th>\n",
       "      <th>Height<\/th>\n",
       "      <th>Whole weight<\/th>\n",
       "      <th>Shucked weight<\/th>\n",
       "      <th>Viscera weight<\/th>\n",
       "      <th>Shell weight<\/th>\n",
       "      <th>Age<\/th>\n",
       "    <\/tr>\n",
       "  <\/thead>\n",
       "  <tbody>\n",
       "    <tr>\n",
       "      <th>0<\/th>\n",
       "      <td>0.435<\/td>\n",
       "      <td>0.335<\/td>\n",
       "      <td>0.110<\/td>\n",
       "      <td>0.334<\/td>\n",
       "      <td>0.1355<\/td>\n",
       "      <td>0.0775<\/td>\n",
       "      <td>0.0965<\/td>\n",
       "      <td>7<\/td>\n",
       "    <\/tr>\n",
       "    <tr>\n",
       "      <th>1<\/th>\n",
       "      <td>0.585<\/td>\n",
       "      <td>0.450<\/td>\n",
       "      <td>0.125<\/td>\n",
       "      <td>0.874<\/td>\n",
       "      <td>0.3545<\/td>\n",
       "      <td>0.2075<\/td>\n",
       "      <td>0.2250<\/td>\n",
       "      <td>6<\/td>\n",
       "    <\/tr>\n",
       "    <tr>\n",
       "      <th>2<\/th>\n",
       "      <td>0.655<\/td>\n",
       "      <td>0.510<\/td>\n",
       "      <td>0.160<\/td>\n",
       "      <td>1.092<\/td>\n",
       "      <td>0.3960<\/td>\n",
       "      <td>0.2825<\/td>\n",
       "      <td>0.3700<\/td>\n",
       "      <td>14<\/td>\n",
       "    <\/tr>\n",
       "    <tr>\n",
       "      <th>3<\/th>\n",
       "      <td>0.545<\/td>\n",
       "      <td>0.425<\/td>\n",
       "      <td>0.125<\/td>\n",
       "      <td>0.768<\/td>\n",
       "      <td>0.2940<\/td>\n",
       "      <td>0.1495<\/td>\n",
       "      <td>0.2600<\/td>\n",
       "      <td>16<\/td>\n",
       "    <\/tr>\n",
       "    <tr>\n",
       "      <th>4<\/th>\n",
       "      <td>0.545<\/td>\n",
       "      <td>0.420<\/td>\n",
       "      <td>0.130<\/td>\n",
       "      <td>0.879<\/td>\n",
       "      <td>0.3740<\/td>\n",
       "      <td>0.1695<\/td>\n",
       "      <td>0.2300<\/td>\n",
       "      <td>13<\/td>\n",
       "    <\/tr>\n",
       "  <\/tbody>\n",
       "<\/table>\n",
       "<\/div>"
      ]
     },
     "metadata":{
      
     },
     "output_type":"display_data"
    }
   ],
   "metadata":{
    "datalore":{
     "node_id":"dMHr4fKGSDPgiH4X01un1b",
     "type":"CODE",
     "hide_input_from_viewers":false,
     "hide_output_from_viewers":false
    }
   }
  },
  {
   "cell_type":"code",
   "source":[
    "abalone_features = abalone_train.copy()\n",
    "abalone_labels = abalone_features.pop('Age')"
   ],
   "execution_count":4,
   "outputs":[
    
   ],
   "metadata":{
    "datalore":{
     "node_id":"46X5kTy4EHlp45RC0USBA4",
     "type":"CODE",
     "hide_input_from_viewers":false,
     "hide_output_from_viewers":false
    }
   }
  },
  {
   "cell_type":"code",
   "source":[
    "abalone_features = np.array(abalone_features)\n",
    "print(abalone_features)"
   ],
   "execution_count":6,
   "outputs":[
    {
     "name":"stdout",
     "text":[
      "[[0.435 0.335 0.11  ... 0.136 0.077 0.097]\n",
      " [0.585 0.45  0.125 ... 0.354 0.207 0.225]\n",
      " [0.655 0.51  0.16  ... 0.396 0.282 0.37 ]\n",
      " ...\n",
      " [0.53  0.42  0.13  ... 0.374 0.167 0.249]\n",
      " [0.395 0.315 0.105 ... 0.118 0.091 0.119]\n",
      " [0.45  0.355 0.12  ... 0.115 0.067 0.16 ]]\n"
     ],
     "output_type":"stream"
    }
   ],
   "metadata":{
    "datalore":{
     "node_id":"yURpYWhYV1VHR11x0vGVWJ",
     "type":"CODE",
     "hide_input_from_viewers":false,
     "hide_output_from_viewers":false
    }
   }
  },
  {
   "cell_type":"code",
   "source":[
    "#zbiór TITANIC\n",
    "titanic = pd.read_csv(\"https:\/\/storage.googleapis.com\/tf-datasets\/titanic\/train.csv\")\n",
    "titanic.head()"
   ],
   "execution_count":7,
   "outputs":[
    {
     "data":{
      "text\/html":[
       "<div>\n",
       "<style scoped>\n",
       "    .dataframe tbody tr th:only-of-type {\n",
       "        vertical-align: middle;\n",
       "    }\n",
       "\n",
       "    .dataframe tbody tr th {\n",
       "        vertical-align: top;\n",
       "    }\n",
       "\n",
       "    .dataframe thead th {\n",
       "        text-align: right;\n",
       "    }\n",
       "<\/style>\n",
       "<table border=\"1\" class=\"dataframe\">\n",
       "  <thead>\n",
       "    <tr style=\"text-align: right;\">\n",
       "      <th><\/th>\n",
       "      <th>survived<\/th>\n",
       "      <th>sex<\/th>\n",
       "      <th>age<\/th>\n",
       "      <th>n_siblings_spouses<\/th>\n",
       "      <th>parch<\/th>\n",
       "      <th>fare<\/th>\n",
       "      <th>class<\/th>\n",
       "      <th>deck<\/th>\n",
       "      <th>embark_town<\/th>\n",
       "      <th>alone<\/th>\n",
       "    <\/tr>\n",
       "  <\/thead>\n",
       "  <tbody>\n",
       "    <tr>\n",
       "      <th>0<\/th>\n",
       "      <td>0<\/td>\n",
       "      <td>male<\/td>\n",
       "      <td>22.0<\/td>\n",
       "      <td>1<\/td>\n",
       "      <td>0<\/td>\n",
       "      <td>7.2500<\/td>\n",
       "      <td>Third<\/td>\n",
       "      <td>unknown<\/td>\n",
       "      <td>Southampton<\/td>\n",
       "      <td>n<\/td>\n",
       "    <\/tr>\n",
       "    <tr>\n",
       "      <th>1<\/th>\n",
       "      <td>1<\/td>\n",
       "      <td>female<\/td>\n",
       "      <td>38.0<\/td>\n",
       "      <td>1<\/td>\n",
       "      <td>0<\/td>\n",
       "      <td>71.2833<\/td>\n",
       "      <td>First<\/td>\n",
       "      <td>C<\/td>\n",
       "      <td>Cherbourg<\/td>\n",
       "      <td>n<\/td>\n",
       "    <\/tr>\n",
       "    <tr>\n",
       "      <th>2<\/th>\n",
       "      <td>1<\/td>\n",
       "      <td>female<\/td>\n",
       "      <td>26.0<\/td>\n",
       "      <td>0<\/td>\n",
       "      <td>0<\/td>\n",
       "      <td>7.9250<\/td>\n",
       "      <td>Third<\/td>\n",
       "      <td>unknown<\/td>\n",
       "      <td>Southampton<\/td>\n",
       "      <td>y<\/td>\n",
       "    <\/tr>\n",
       "    <tr>\n",
       "      <th>3<\/th>\n",
       "      <td>1<\/td>\n",
       "      <td>female<\/td>\n",
       "      <td>35.0<\/td>\n",
       "      <td>1<\/td>\n",
       "      <td>0<\/td>\n",
       "      <td>53.1000<\/td>\n",
       "      <td>First<\/td>\n",
       "      <td>C<\/td>\n",
       "      <td>Southampton<\/td>\n",
       "      <td>n<\/td>\n",
       "    <\/tr>\n",
       "    <tr>\n",
       "      <th>4<\/th>\n",
       "      <td>0<\/td>\n",
       "      <td>male<\/td>\n",
       "      <td>28.0<\/td>\n",
       "      <td>0<\/td>\n",
       "      <td>0<\/td>\n",
       "      <td>8.4583<\/td>\n",
       "      <td>Third<\/td>\n",
       "      <td>unknown<\/td>\n",
       "      <td>Queenstown<\/td>\n",
       "      <td>y<\/td>\n",
       "    <\/tr>\n",
       "  <\/tbody>\n",
       "<\/table>\n",
       "<\/div>"
      ]
     },
     "metadata":{
      
     },
     "output_type":"display_data"
    }
   ],
   "metadata":{
    "datalore":{
     "node_id":"Az2jlkeSsnr45nvqQ2pEr3",
     "type":"CODE",
     "hide_input_from_viewers":false,
     "hide_output_from_viewers":false
    }
   }
  },
  {
   "cell_type":"code",
   "source":[
    "titanic_features = titanic.copy()\n",
    "titanic_labels = titanic_features.pop('survived')"
   ],
   "execution_count":8,
   "outputs":[
    
   ],
   "metadata":{
    "datalore":{
     "node_id":"F8VVmCBqmb40r39cEGGKKV",
     "type":"CODE",
     "hide_input_from_viewers":false,
     "hide_output_from_viewers":false
    }
   }
  },
  {
   "cell_type":"code",
   "source":[
    "#wstępne przygotowanie zbioru\n",
    "input = tf.keras.Input(shape=(), dtype=tf.float32)\n",
    "result = 2*input+1\n",
    "result"
   ],
   "execution_count":10,
   "outputs":[
    {
     "data":{
      "text\/plain":[
       "<KerasTensor: shape=(None,) dtype=float32 (created by layer 'tf.__operators__.add')>"
      ]
     },
     "metadata":{
      
     },
     "output_type":"display_data"
    }
   ],
   "metadata":{
    "datalore":{
     "node_id":"ejmlycSJYy3gGJEaKKkeEQ",
     "type":"CODE",
     "hide_input_from_viewers":false,
     "hide_output_from_viewers":false
    }
   }
  },
  {
   "cell_type":"code",
   "source":[
    "calc = tf.keras.Model(inputs = input, outputs=result)"
   ],
   "execution_count":11,
   "outputs":[
    
   ],
   "metadata":{
    "datalore":{
     "node_id":"T1Ufa0JbkA8FoVomnv0kvN",
     "type":"CODE",
     "hide_input_from_viewers":false,
     "hide_output_from_viewers":false
    }
   }
  },
  {
   "cell_type":"code",
   "source":[
    "print(calc(1).numpy())\n",
    "print(calc(2).numpy())"
   ],
   "execution_count":12,
   "outputs":[
    {
     "name":"stdout",
     "text":[
      "3.0\n",
      "5.0\n"
     ],
     "output_type":"stream"
    }
   ],
   "metadata":{
    "datalore":{
     "node_id":"nq4u9xCtM0kkO4IgTy6XXa",
     "type":"CODE",
     "hide_input_from_viewers":false,
     "hide_output_from_viewers":false
    }
   }
  },
  {
   "cell_type":"code",
   "source":[
    "inputs = {}\n",
    "for name,column in titanic_features.items():\n",
    "    dtype = column.dtype\n",
    "    if dtype == object:\n",
    "        dtype = tf.string\n",
    "    else:\n",
    "        dtype = tf.float32\n",
    "    inputs[name] = tf.keras.Input(shape=(1,),name=name,dtype=dtype)\n",
    "\n",
    "inputs"
   ],
   "execution_count":16,
   "outputs":[
    {
     "data":{
      "text\/plain":[
       "{'sex': <KerasTensor: shape=(None, 1) dtype=string (created by layer 'sex')>,\n",
       " 'age': <KerasTensor: shape=(None, 1) dtype=float32 (created by layer 'age')>,\n",
       " 'n_siblings_spouses': <KerasTensor: shape=(None, 1) dtype=float32 (created by layer 'n_siblings_spouses')>,\n",
       " 'parch': <KerasTensor: shape=(None, 1) dtype=float32 (created by layer 'parch')>,\n",
       " 'fare': <KerasTensor: shape=(None, 1) dtype=float32 (created by layer 'fare')>,\n",
       " 'class': <KerasTensor: shape=(None, 1) dtype=string (created by layer 'class')>,\n",
       " 'deck': <KerasTensor: shape=(None, 1) dtype=string (created by layer 'deck')>,\n",
       " 'embark_town': <KerasTensor: shape=(None, 1) dtype=string (created by layer 'embark_town')>,\n",
       " 'alone': <KerasTensor: shape=(None, 1) dtype=string (created by layer 'alone')>}"
      ]
     },
     "metadata":{
      
     },
     "output_type":"display_data"
    }
   ],
   "metadata":{
    "datalore":{
     "node_id":"XelPb4CNWPphRBVCAFMSE8",
     "type":"CODE",
     "hide_input_from_viewers":false,
     "hide_output_from_viewers":false
    }
   }
  }
 ],
 "metadata":{
  "kernelspec":{
   "display_name":"Python",
   "language":"python",
   "name":"python"
  },
  "datalore":{
   "version":1,
   "computation_mode":"JUPYTER",
   "package_manager":"pip",
   "base_environment":"default",
   "packages":[
    
   ]
  }
 },
 "nbformat":4,
 "nbformat_minor":4
}