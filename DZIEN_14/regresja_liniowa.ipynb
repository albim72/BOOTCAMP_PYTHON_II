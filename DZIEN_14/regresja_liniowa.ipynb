{
 "cells":[
  {
   "cell_type":"code",
   "source":[
    "import statsmodels.api as sm\n",
    "import statsmodels.formula.api as smf\n",
    "import statsmodels.graphics.api as smg\n",
    "import patsy\n",
    "import matplotlib.pyplot as plt\n",
    "import numpy as np\n",
    "import pandas as pd\n",
    "from scipy import stats"
   ],
   "execution_count":1,
   "outputs":[
    
   ],
   "metadata":{
    "datalore":{
     "node_id":"VE0kkQGpVz76YLamLnhmmo",
     "type":"CODE",
     "hide_input_from_viewers":false,
     "hide_output_from_viewers":false
    }
   }
  },
  {
   "cell_type":"code",
   "source":[
    "#dopasowanie modelu do danych wygemerowanych z modelu; y = 1+2x1+3x2+4x1x2"
   ],
   "execution_count":null,
   "outputs":[
    
   ],
   "metadata":{
    "datalore":{
     "node_id":"2pzbGtwEnxOWPb52B8z4o5",
     "type":"CODE",
     "hide_input_from_viewers":false,
     "hide_output_from_viewers":false
    }
   }
  },
  {
   "cell_type":"code",
   "source":[
    "N=100\n",
    "x1 = np.random.randn(N)\n",
    "x2 = np.random.randn(N)\n",
    "data = pd.DataFrame({\"x1\":x1,\"x2\":x2})"
   ],
   "execution_count":2,
   "outputs":[
    
   ],
   "metadata":{
    "datalore":{
     "node_id":"aiFRmmeIa3CHurEjvAKcHz",
     "type":"CODE",
     "hide_input_from_viewers":false,
     "hide_output_from_viewers":false
    }
   }
  },
  {
   "cell_type":"code",
   "source":[
    "def y_true(x1,x2):\n",
    "    return 1+2*x1+3*x2+4*x1*x2\n",
    "\n",
    "data[\"y_true\"] = y_true(x1,x2)"
   ],
   "execution_count":3,
   "outputs":[
    
   ],
   "metadata":{
    "datalore":{
     "node_id":"PkSNxc1gu3THo4ikSiiKcu",
     "type":"CODE",
     "hide_input_from_viewers":false,
     "hide_output_from_viewers":false
    }
   }
  },
  {
   "cell_type":"code",
   "source":[
    "e = 0.5*np.random.rand(N)\n",
    "data[\"y\"] = data[\"y_true\"]+e"
   ],
   "execution_count":4,
   "outputs":[
    
   ],
   "metadata":{
    "datalore":{
     "node_id":"zum7jwsg5dObee5ezZbDZw",
     "type":"CODE",
     "hide_input_from_viewers":false,
     "hide_output_from_viewers":false
    }
   }
  },
  {
   "cell_type":"code",
   "source":[
    "#model liniowy: T =B0 + B1*X1+B2*X2\n",
    "model = smf.ols(\"y~x1+x2\",data)\n",
    "result = model.fit()"
   ],
   "execution_count":5,
   "outputs":[
    
   ],
   "metadata":{
    "datalore":{
     "node_id":"1W05ccFIxC22tHoF4ZUlkm",
     "type":"CODE",
     "hide_input_from_viewers":false,
     "hide_output_from_viewers":false
    }
   }
  },
  {
   "cell_type":"code",
   "source":[
    "print(result.summary())"
   ],
   "execution_count":6,
   "outputs":[
    {
     "name":"stdout",
     "text":[
      "                            OLS Regression Results                            \n",
      "==============================================================================\n",
      "Dep. Variable:                      y   R-squared:                       0.527\n",
      "Model:                            OLS   Adj. R-squared:                  0.518\n",
      "Method:                 Least Squares   F-statistic:                     54.14\n",
      "Date:                Sun, 26 Feb 2023   Prob (F-statistic):           1.62e-16\n",
      "Time:                        13:16:16   Log-Likelihood:                -278.82\n",
      "No. Observations:                 100   AIC:                             563.6\n",
      "Df Residuals:                      97   BIC:                             571.5\n",
      "Df Model:                           2                                         \n",
      "Covariance Type:            nonrobust                                         \n",
      "==============================================================================\n",
      "                 coef    std err          t      P>|t|      [0.025      0.975]\n",
      "------------------------------------------------------------------------------\n",
      "Intercept      0.7703      0.404      1.905      0.060      -0.032       1.573\n",
      "x1             3.1514      0.390      8.090      0.000       2.378       3.925\n",
      "x2             2.9373      0.396      7.424      0.000       2.152       3.723\n",
      "==============================================================================\n",
      "Omnibus:                       21.581   Durbin-Watson:                   1.973\n",
      "Prob(Omnibus):                  0.000   Jarque-Bera (JB):               48.591\n",
      "Skew:                          -0.774   Prob(JB):                     2.81e-11\n",
      "Kurtosis:                       6.044   Cond. No.                         1.22\n",
      "==============================================================================\n",
      "\n",
      "Notes:\n",
      "[1] Standard Errors assume that the covariance matrix of the errors is correctly specified.\n"
     ],
     "output_type":"stream"
    }
   ],
   "metadata":{
    "datalore":{
     "node_id":"JxqlV0tzBMYBAvXueBqLQn",
     "type":"CODE",
     "hide_input_from_viewers":false,
     "hide_output_from_viewers":false
    }
   }
  }
 ],
 "metadata":{
  "kernelspec":{
   "display_name":"Python",
   "language":"python",
   "name":"python"
  },
  "datalore":{
   "version":1,
   "computation_mode":"JUPYTER",
   "package_manager":"pip",
   "base_environment":"default",
   "packages":[
    
   ]
  }
 },
 "nbformat":4,
 "nbformat_minor":4
}